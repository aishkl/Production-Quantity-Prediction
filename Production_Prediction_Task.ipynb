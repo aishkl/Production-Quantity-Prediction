{
 "cells": [
  {
   "cell_type": "code",
   "execution_count": 1,
   "metadata": {
    "id": "bEJEikxF0CI8"
   },
   "outputs": [],
   "source": [
    "# importing required dependencies\n",
    "import pandas as pd\n",
    "import numpy as np\n",
    "import matplotlib.pyplot as plt\n",
    "import seaborn as sns\n",
    "import datetime"
   ]
  },
  {
   "cell_type": "code",
   "execution_count": 2,
   "metadata": {
    "colab": {
     "base_uri": "https://localhost:8080/"
    },
    "id": "OubIJeDn0GkB",
    "outputId": "0f289967-96b7-46f6-fe49-a9b0e61a5080"
   },
   "outputs": [],
   "source": [
    "# from google.colab import drive \n",
    "# drive.mount('/content/gdrive')"
   ]
  },
  {
   "cell_type": "code",
   "execution_count": 3,
   "metadata": {
    "id": "GycRAnx60IPr"
   },
   "outputs": [],
   "source": [
    "# # reading all csv files as pandas dataframe\n",
    "# df_precip = pd.read_csv('/content/gdrive/MyDrive/Daily Precipitation.csv')\n",
    "# df_soil = pd.read_csv('/content/gdrive/MyDrive/Daily Soil Mositure.csv')\n",
    "# df_temp = pd.read_csv('/content/gdrive/MyDrive/Daily Temperature.csv')\n",
    "# df_ndvi = pd.read_csv('/content/gdrive/MyDrive/Eight Day NDVI.csv')\n",
    "# df_pred_qty = pd.read_csv('/content/gdrive/MyDrive/predicted_production_qty.csv')\n",
    "# df_prod_qty = pd.read_csv('/content/gdrive/MyDrive/Production Quantity.csv')\n",
    "\n",
    "\n",
    "# reading all csv files as pandas dataframe\n",
    "df_precip = pd.read_csv('Precipitation_Daily.csv')\n",
    "df_soil = pd.read_csv('SoilMoisture_Daily.csv')\n",
    "df_temp = pd.read_csv('Temperature_Daily.csv')\n",
    "df_ndvi = pd.read_csv('NDVI_8.csv')\n",
    "df_pred_qty = pd.read_csv('production_Prediction.csv')\n",
    "df_prod_qty = pd.read_csv('production_Quantity.csv')"
   ]
  },
  {
   "cell_type": "code",
   "execution_count": 4,
   "metadata": {
    "colab": {
     "base_uri": "https://localhost:8080/"
    },
    "id": "izmmB8NSvBYD",
    "outputId": "38f76b82-394b-4ba8-e954-aff51db49257"
   },
   "outputs": [
    {
     "name": "stdout",
     "output_type": "stream",
     "text": [
      "*****Daily Precipitation DATA*********\n",
      "<class 'pandas.core.frame.DataFrame'>\n",
      "RangeIndex: 29940 entries, 0 to 29939\n",
      "Data columns (total 4 columns):\n",
      " #   Column      Non-Null Count  Dtype  \n",
      "---  ------      --------------  -----  \n",
      " 0   start_date  29940 non-null  object \n",
      " 1   end_date    29940 non-null  object \n",
      " 2   precip      29940 non-null  float64\n",
      " 3   region_id   29940 non-null  int64  \n",
      "dtypes: float64(1), int64(1), object(2)\n",
      "memory usage: 935.8+ KB\n",
      "None\n",
      "*****Daily Soil Mositure DATA*********\n",
      "<class 'pandas.core.frame.DataFrame'>\n",
      "RangeIndex: 29603 entries, 0 to 29602\n",
      "Data columns (total 4 columns):\n",
      " #   Column      Non-Null Count  Dtype  \n",
      "---  ------      --------------  -----  \n",
      " 0   start_date  29603 non-null  object \n",
      " 1   end_date    29603 non-null  object \n",
      " 2   smos        29603 non-null  float64\n",
      " 3   region_id   29603 non-null  int64  \n",
      "dtypes: float64(1), int64(1), object(2)\n",
      "memory usage: 925.2+ KB\n",
      "None\n",
      "*****Daily Temperature DATA*********\n",
      "<class 'pandas.core.frame.DataFrame'>\n",
      "RangeIndex: 12930 entries, 0 to 12929\n",
      "Data columns (total 4 columns):\n",
      " #   Column      Non-Null Count  Dtype  \n",
      "---  ------      --------------  -----  \n",
      " 0   start_date  12930 non-null  object \n",
      " 1   end_date    12930 non-null  object \n",
      " 2   temp        12930 non-null  float64\n",
      " 3   region_id   12930 non-null  int64  \n",
      "dtypes: float64(1), int64(1), object(2)\n",
      "memory usage: 404.2+ KB\n",
      "None\n",
      "*****Eight Day NDVI DATA*********\n",
      "<class 'pandas.core.frame.DataFrame'>\n",
      "RangeIndex: 3338 entries, 0 to 3337\n",
      "Data columns (total 4 columns):\n",
      " #   Column      Non-Null Count  Dtype  \n",
      "---  ------      --------------  -----  \n",
      " 0   start_date  3338 non-null   object \n",
      " 1   end_date    3338 non-null   object \n",
      " 2   ndvi        3338 non-null   float64\n",
      " 3   region_id   3338 non-null   int64  \n",
      "dtypes: float64(1), int64(1), object(2)\n",
      "memory usage: 104.4+ KB\n",
      "None\n",
      "*****Production Quantity DATA*********\n",
      "<class 'pandas.core.frame.DataFrame'>\n",
      "RangeIndex: 720 entries, 0 to 719\n",
      "Data columns (total 4 columns):\n",
      " #   Column      Non-Null Count  Dtype \n",
      "---  ------      --------------  ----- \n",
      " 0   start_date  720 non-null    object\n",
      " 1   end_date    720 non-null    object\n",
      " 2   prod        720 non-null    int64 \n",
      " 3   region_id   720 non-null    int64 \n",
      "dtypes: int64(2), object(2)\n",
      "memory usage: 22.6+ KB\n",
      "None\n",
      "*****predicted_production_qty DATA*********\n",
      "<class 'pandas.core.frame.DataFrame'>\n",
      "RangeIndex: 120 entries, 0 to 119\n",
      "Data columns (total 4 columns):\n",
      " #   Column      Non-Null Count  Dtype  \n",
      "---  ------      --------------  -----  \n",
      " 0   start_date  120 non-null    object \n",
      " 1   end_date    120 non-null    object \n",
      " 2   prod        0 non-null      float64\n",
      " 3   region_id   120 non-null    int64  \n",
      "dtypes: float64(1), int64(1), object(2)\n",
      "memory usage: 3.9+ KB\n",
      "None\n"
     ]
    }
   ],
   "source": [
    "print(\"*****Daily Precipitation DATA*********\")\n",
    "print(df_precip.info())\n",
    "print(\"*****Daily Soil Mositure DATA*********\")\n",
    "print(df_soil.info())\n",
    "print(\"*****Daily Temperature DATA*********\")\n",
    "print(df_temp.info())\n",
    "print(\"*****Eight Day NDVI DATA*********\")\n",
    "print(df_ndvi.info())\n",
    "print(\"*****Production Quantity DATA*********\")\n",
    "print(df_prod_qty.info())\n",
    "print(\"*****predicted_production_qty DATA*********\")\n",
    "print(df_pred_qty.info())"
   ]
  },
  {
   "cell_type": "code",
   "execution_count": 5,
   "metadata": {
    "colab": {
     "base_uri": "https://localhost:8080/"
    },
    "id": "O5uUH4vjv8qP",
    "outputId": "2b26c286-3750-448d-e354-4c8865d825ff"
   },
   "outputs": [
    {
     "name": "stdout",
     "output_type": "stream",
     "text": [
      "------CHECKING NULL VALUES------\n",
      "*****Daily Precipitation DATA*********\n",
      "start_date    0\n",
      "end_date      0\n",
      "precip        0\n",
      "region_id     0\n",
      "dtype: int64\n",
      "*****Daily Soil Mositure DATA*********\n",
      "start_date    0\n",
      "end_date      0\n",
      "smos          0\n",
      "region_id     0\n",
      "dtype: int64\n",
      "*****Daily Temperature DATA*********\n",
      "start_date    0\n",
      "end_date      0\n",
      "temp          0\n",
      "region_id     0\n",
      "dtype: int64\n",
      "*****Eight Day NDVI DATA*********\n",
      "start_date    0\n",
      "end_date      0\n",
      "ndvi          0\n",
      "region_id     0\n",
      "dtype: int64\n",
      "*****Production Quantity DATA*********\n",
      "start_date    0\n",
      "end_date      0\n",
      "prod          0\n",
      "region_id     0\n",
      "dtype: int64\n",
      "*****predicted_production_qty DATA*********\n",
      "start_date      0\n",
      "end_date        0\n",
      "prod          120\n",
      "region_id       0\n",
      "dtype: int64\n"
     ]
    }
   ],
   "source": [
    "# checking for null values\n",
    "print(\"------CHECKING NULL VALUES------\")\n",
    "print(\"*****Daily Precipitation DATA*********\")\n",
    "print(df_precip.isna().sum())\n",
    "print(\"*****Daily Soil Mositure DATA*********\")\n",
    "print(df_soil.isna().sum())\n",
    "print(\"*****Daily Temperature DATA*********\")\n",
    "print(df_temp.isna().sum())\n",
    "print(\"*****Eight Day NDVI DATA*********\")\n",
    "print(df_ndvi.isna().sum())\n",
    "print(\"*****Production Quantity DATA*********\")\n",
    "print(df_prod_qty.isna().sum())\n",
    "print(\"*****predicted_production_qty DATA*********\")\n",
    "print(df_pred_qty.isna().sum())"
   ]
  },
  {
   "cell_type": "code",
   "execution_count": 6,
   "metadata": {
    "colab": {
     "base_uri": "https://localhost:8080/",
     "height": 300
    },
    "id": "_2fKuB022j0y",
    "outputId": "3c78405b-e56a-4ffb-9c81-697196c1193b"
   },
   "outputs": [
    {
     "data": {
      "text/html": [
       "<div>\n",
       "<style scoped>\n",
       "    .dataframe tbody tr th:only-of-type {\n",
       "        vertical-align: middle;\n",
       "    }\n",
       "\n",
       "    .dataframe tbody tr th {\n",
       "        vertical-align: top;\n",
       "    }\n",
       "\n",
       "    .dataframe thead th {\n",
       "        text-align: right;\n",
       "    }\n",
       "</style>\n",
       "<table border=\"1\" class=\"dataframe\">\n",
       "  <thead>\n",
       "    <tr style=\"text-align: right;\">\n",
       "      <th></th>\n",
       "      <th>prod</th>\n",
       "      <th>region_id</th>\n",
       "    </tr>\n",
       "  </thead>\n",
       "  <tbody>\n",
       "    <tr>\n",
       "      <th>count</th>\n",
       "      <td>720.000000</td>\n",
       "      <td>720.00000</td>\n",
       "    </tr>\n",
       "    <tr>\n",
       "      <th>mean</th>\n",
       "      <td>159014.201389</td>\n",
       "      <td>99.00000</td>\n",
       "    </tr>\n",
       "    <tr>\n",
       "      <th>std</th>\n",
       "      <td>142882.722751</td>\n",
       "      <td>4.10163</td>\n",
       "    </tr>\n",
       "    <tr>\n",
       "      <th>min</th>\n",
       "      <td>10215.000000</td>\n",
       "      <td>93.00000</td>\n",
       "    </tr>\n",
       "    <tr>\n",
       "      <th>25%</th>\n",
       "      <td>35445.500000</td>\n",
       "      <td>95.00000</td>\n",
       "    </tr>\n",
       "    <tr>\n",
       "      <th>50%</th>\n",
       "      <td>91945.500000</td>\n",
       "      <td>98.50000</td>\n",
       "    </tr>\n",
       "    <tr>\n",
       "      <th>75%</th>\n",
       "      <td>269946.000000</td>\n",
       "      <td>103.00000</td>\n",
       "    </tr>\n",
       "    <tr>\n",
       "      <th>max</th>\n",
       "      <td>593579.000000</td>\n",
       "      <td>105.00000</td>\n",
       "    </tr>\n",
       "  </tbody>\n",
       "</table>\n",
       "</div>"
      ],
      "text/plain": [
       "                prod  region_id\n",
       "count     720.000000  720.00000\n",
       "mean   159014.201389   99.00000\n",
       "std    142882.722751    4.10163\n",
       "min     10215.000000   93.00000\n",
       "25%     35445.500000   95.00000\n",
       "50%     91945.500000   98.50000\n",
       "75%    269946.000000  103.00000\n",
       "max    593579.000000  105.00000"
      ]
     },
     "execution_count": 6,
     "metadata": {},
     "output_type": "execute_result"
    }
   ],
   "source": [
    "df_prod_qty.describe()"
   ]
  },
  {
   "cell_type": "code",
   "execution_count": 7,
   "metadata": {
    "id": "YGeSLjZ60JyY"
   },
   "outputs": [],
   "source": [
    "# converting the date object into pandas datetime format for futher manipulation\n",
    "\n",
    "\n",
    "df_precip[ 'start_date' ] = pd.to_datetime(df_precip['start_date'])\n",
    "df_precip[ 'end_date' ] = pd.to_datetime(df_precip['end_date'])\n",
    "\n",
    "df_soil[ 'start_date' ] = pd.to_datetime(df_soil['start_date'])\n",
    "df_soil[ 'end_date' ] = pd.to_datetime(df_soil['end_date'])\n",
    "\n",
    "df_temp[ 'start_date' ] = pd.to_datetime(df_temp['start_date'])\n",
    "df_temp[ 'end_date' ] = pd.to_datetime(df_temp['end_date'])\n",
    "\n",
    "df_prod_qty[ 'start_date' ] = pd.to_datetime(df_prod_qty['start_date'])\n",
    "df_prod_qty[ 'end_date' ] = pd.to_datetime(df_prod_qty['end_date'])\n",
    "\n",
    "df_ndvi[ 'start_date' ] = pd.to_datetime(df_ndvi['start_date'])\n",
    "df_ndvi[ 'end_date' ] = pd.to_datetime(df_ndvi['end_date'])"
   ]
  },
  {
   "cell_type": "markdown",
   "metadata": {
    "id": "ri8v9R3NwavO"
   },
   "source": [
    "# As we need to predict monthly production quantity the other features are in daily frequency . For this case ,we will use downscaling to decrease the frequency of the samples group by the 10 specific  regions, such as from days to months and considering the mean of the temperrature / soil moisture and daily precipation."
   ]
  },
  {
   "cell_type": "markdown",
   "metadata": {
    "id": "_1WgSLdBF8-C"
   },
   "source": [
    "#Downscaling for Precipation from daily frequency to monthly."
   ]
  },
  {
   "cell_type": "code",
   "execution_count": 8,
   "metadata": {
    "colab": {
     "base_uri": "https://localhost:8080/",
     "height": 206
    },
    "id": "kjgdWrIWBVB1",
    "outputId": "1f339eee-beff-44ba-a651-049bf2e78e84"
   },
   "outputs": [
    {
     "data": {
      "text/html": [
       "<div>\n",
       "<style scoped>\n",
       "    .dataframe tbody tr th:only-of-type {\n",
       "        vertical-align: middle;\n",
       "    }\n",
       "\n",
       "    .dataframe tbody tr th {\n",
       "        vertical-align: top;\n",
       "    }\n",
       "\n",
       "    .dataframe thead th {\n",
       "        text-align: right;\n",
       "    }\n",
       "</style>\n",
       "<table border=\"1\" class=\"dataframe\">\n",
       "  <thead>\n",
       "    <tr style=\"text-align: right;\">\n",
       "      <th></th>\n",
       "      <th>start_date</th>\n",
       "      <th>end_date</th>\n",
       "      <th>precip</th>\n",
       "      <th>region_id</th>\n",
       "    </tr>\n",
       "  </thead>\n",
       "  <tbody>\n",
       "    <tr>\n",
       "      <th>0</th>\n",
       "      <td>2014-01-01 00:00:00+00:00</td>\n",
       "      <td>2014-01-01 00:00:00+00:00</td>\n",
       "      <td>1.392393</td>\n",
       "      <td>93</td>\n",
       "    </tr>\n",
       "    <tr>\n",
       "      <th>1</th>\n",
       "      <td>2014-01-02 00:00:00+00:00</td>\n",
       "      <td>2014-01-02 00:00:00+00:00</td>\n",
       "      <td>0.315380</td>\n",
       "      <td>93</td>\n",
       "    </tr>\n",
       "    <tr>\n",
       "      <th>2</th>\n",
       "      <td>2014-01-03 00:00:00+00:00</td>\n",
       "      <td>2014-01-03 00:00:00+00:00</td>\n",
       "      <td>2.347846</td>\n",
       "      <td>93</td>\n",
       "    </tr>\n",
       "    <tr>\n",
       "      <th>3</th>\n",
       "      <td>2014-01-04 00:00:00+00:00</td>\n",
       "      <td>2014-01-04 00:00:00+00:00</td>\n",
       "      <td>21.466357</td>\n",
       "      <td>93</td>\n",
       "    </tr>\n",
       "    <tr>\n",
       "      <th>4</th>\n",
       "      <td>2014-01-05 00:00:00+00:00</td>\n",
       "      <td>2014-01-05 00:00:00+00:00</td>\n",
       "      <td>32.823651</td>\n",
       "      <td>93</td>\n",
       "    </tr>\n",
       "  </tbody>\n",
       "</table>\n",
       "</div>"
      ],
      "text/plain": [
       "                 start_date                  end_date     precip  region_id\n",
       "0 2014-01-01 00:00:00+00:00 2014-01-01 00:00:00+00:00   1.392393         93\n",
       "1 2014-01-02 00:00:00+00:00 2014-01-02 00:00:00+00:00   0.315380         93\n",
       "2 2014-01-03 00:00:00+00:00 2014-01-03 00:00:00+00:00   2.347846         93\n",
       "3 2014-01-04 00:00:00+00:00 2014-01-04 00:00:00+00:00  21.466357         93\n",
       "4 2014-01-05 00:00:00+00:00 2014-01-05 00:00:00+00:00  32.823651         93"
      ]
     },
     "execution_count": 8,
     "metadata": {},
     "output_type": "execute_result"
    }
   ],
   "source": [
    "df_precip.head()"
   ]
  },
  {
   "cell_type": "code",
   "execution_count": 9,
   "metadata": {
    "colab": {
     "base_uri": "https://localhost:8080/",
     "height": 237
    },
    "id": "6SN9AskU0fw0",
    "outputId": "cefce6c0-f79e-4223-a1f0-5a7db920b5e4"
   },
   "outputs": [
    {
     "data": {
      "text/html": [
       "<div>\n",
       "<style scoped>\n",
       "    .dataframe tbody tr th:only-of-type {\n",
       "        vertical-align: middle;\n",
       "    }\n",
       "\n",
       "    .dataframe tbody tr th {\n",
       "        vertical-align: top;\n",
       "    }\n",
       "\n",
       "    .dataframe thead th {\n",
       "        text-align: right;\n",
       "    }\n",
       "</style>\n",
       "<table border=\"1\" class=\"dataframe\">\n",
       "  <thead>\n",
       "    <tr style=\"text-align: right;\">\n",
       "      <th></th>\n",
       "      <th></th>\n",
       "      <th>precip</th>\n",
       "      <th>region_id</th>\n",
       "    </tr>\n",
       "    <tr>\n",
       "      <th>region_id</th>\n",
       "      <th>end_date</th>\n",
       "      <th></th>\n",
       "      <th></th>\n",
       "    </tr>\n",
       "  </thead>\n",
       "  <tbody>\n",
       "    <tr>\n",
       "      <th rowspan=\"5\" valign=\"top\">93</th>\n",
       "      <th>2014-01-31 00:00:00+00:00</th>\n",
       "      <td>2.541758</td>\n",
       "      <td>93</td>\n",
       "    </tr>\n",
       "    <tr>\n",
       "      <th>2014-02-28 00:00:00+00:00</th>\n",
       "      <td>0.326015</td>\n",
       "      <td>93</td>\n",
       "    </tr>\n",
       "    <tr>\n",
       "      <th>2014-03-31 00:00:00+00:00</th>\n",
       "      <td>6.208490</td>\n",
       "      <td>93</td>\n",
       "    </tr>\n",
       "    <tr>\n",
       "      <th>2014-04-30 00:00:00+00:00</th>\n",
       "      <td>10.433339</td>\n",
       "      <td>93</td>\n",
       "    </tr>\n",
       "    <tr>\n",
       "      <th>2014-05-31 00:00:00+00:00</th>\n",
       "      <td>9.160731</td>\n",
       "      <td>93</td>\n",
       "    </tr>\n",
       "  </tbody>\n",
       "</table>\n",
       "</div>"
      ],
      "text/plain": [
       "                                        precip  region_id\n",
       "region_id end_date                                       \n",
       "93        2014-01-31 00:00:00+00:00   2.541758         93\n",
       "          2014-02-28 00:00:00+00:00   0.326015         93\n",
       "          2014-03-31 00:00:00+00:00   6.208490         93\n",
       "          2014-04-30 00:00:00+00:00  10.433339         93\n",
       "          2014-05-31 00:00:00+00:00   9.160731         93"
      ]
     },
     "execution_count": 9,
     "metadata": {},
     "output_type": "execute_result"
    }
   ],
   "source": [
    "# applying resample to the percipation from daily to monthly grouped by region \n",
    "\n",
    "def resample(group):\n",
    "    upsampled =  group.resample('1M').mean()\n",
    "    return upsampled\n",
    "\n",
    "sampled_precip_df = df_precip.set_index(['end_date']).groupby('region_id').apply(resample)\n",
    "sampled_precip_df.head()"
   ]
  },
  {
   "cell_type": "code",
   "execution_count": 10,
   "metadata": {
    "id": "QhqQbKj_7wcX"
   },
   "outputs": [],
   "source": [
    "sampled_precip_df.drop('region_id',axis=1,inplace=True)"
   ]
  },
  {
   "cell_type": "code",
   "execution_count": 11,
   "metadata": {
    "colab": {
     "base_uri": "https://localhost:8080/",
     "height": 206
    },
    "id": "AJcOho2_75z5",
    "outputId": "c9f810b1-5452-407f-a11d-dd280d1ecd96"
   },
   "outputs": [
    {
     "data": {
      "text/html": [
       "<div>\n",
       "<style scoped>\n",
       "    .dataframe tbody tr th:only-of-type {\n",
       "        vertical-align: middle;\n",
       "    }\n",
       "\n",
       "    .dataframe tbody tr th {\n",
       "        vertical-align: top;\n",
       "    }\n",
       "\n",
       "    .dataframe thead th {\n",
       "        text-align: right;\n",
       "    }\n",
       "</style>\n",
       "<table border=\"1\" class=\"dataframe\">\n",
       "  <thead>\n",
       "    <tr style=\"text-align: right;\">\n",
       "      <th></th>\n",
       "      <th>region_id</th>\n",
       "      <th>end_date</th>\n",
       "      <th>precip</th>\n",
       "    </tr>\n",
       "  </thead>\n",
       "  <tbody>\n",
       "    <tr>\n",
       "      <th>0</th>\n",
       "      <td>93</td>\n",
       "      <td>2014-01-31 00:00:00+00:00</td>\n",
       "      <td>2.541758</td>\n",
       "    </tr>\n",
       "    <tr>\n",
       "      <th>1</th>\n",
       "      <td>93</td>\n",
       "      <td>2014-02-28 00:00:00+00:00</td>\n",
       "      <td>0.326015</td>\n",
       "    </tr>\n",
       "    <tr>\n",
       "      <th>2</th>\n",
       "      <td>93</td>\n",
       "      <td>2014-03-31 00:00:00+00:00</td>\n",
       "      <td>6.208490</td>\n",
       "    </tr>\n",
       "    <tr>\n",
       "      <th>3</th>\n",
       "      <td>93</td>\n",
       "      <td>2014-04-30 00:00:00+00:00</td>\n",
       "      <td>10.433339</td>\n",
       "    </tr>\n",
       "    <tr>\n",
       "      <th>4</th>\n",
       "      <td>93</td>\n",
       "      <td>2014-05-31 00:00:00+00:00</td>\n",
       "      <td>9.160731</td>\n",
       "    </tr>\n",
       "  </tbody>\n",
       "</table>\n",
       "</div>"
      ],
      "text/plain": [
       "   region_id                  end_date     precip\n",
       "0         93 2014-01-31 00:00:00+00:00   2.541758\n",
       "1         93 2014-02-28 00:00:00+00:00   0.326015\n",
       "2         93 2014-03-31 00:00:00+00:00   6.208490\n",
       "3         93 2014-04-30 00:00:00+00:00  10.433339\n",
       "4         93 2014-05-31 00:00:00+00:00   9.160731"
      ]
     },
     "execution_count": 11,
     "metadata": {},
     "output_type": "execute_result"
    }
   ],
   "source": [
    "# converting  the indexes into columns for dataframe \n",
    "sampled_precip_df = sampled_precip_df.reset_index()\n",
    "sampled_precip_df.head()"
   ]
  },
  {
   "cell_type": "code",
   "execution_count": 12,
   "metadata": {
    "colab": {
     "base_uri": "https://localhost:8080/",
     "height": 206
    },
    "id": "ayRczJuo2A7n",
    "outputId": "4518fc9a-9df6-41cc-ab92-8c2997930d80"
   },
   "outputs": [
    {
     "data": {
      "text/html": [
       "<div>\n",
       "<style scoped>\n",
       "    .dataframe tbody tr th:only-of-type {\n",
       "        vertical-align: middle;\n",
       "    }\n",
       "\n",
       "    .dataframe tbody tr th {\n",
       "        vertical-align: top;\n",
       "    }\n",
       "\n",
       "    .dataframe thead th {\n",
       "        text-align: right;\n",
       "    }\n",
       "</style>\n",
       "<table border=\"1\" class=\"dataframe\">\n",
       "  <thead>\n",
       "    <tr style=\"text-align: right;\">\n",
       "      <th></th>\n",
       "      <th>region_id</th>\n",
       "      <th>end_date</th>\n",
       "      <th>precip</th>\n",
       "      <th>start_date</th>\n",
       "    </tr>\n",
       "  </thead>\n",
       "  <tbody>\n",
       "    <tr>\n",
       "      <th>0</th>\n",
       "      <td>93</td>\n",
       "      <td>2014-01-31</td>\n",
       "      <td>2.541758</td>\n",
       "      <td>2014-01-01</td>\n",
       "    </tr>\n",
       "    <tr>\n",
       "      <th>1</th>\n",
       "      <td>93</td>\n",
       "      <td>2014-02-28</td>\n",
       "      <td>0.326015</td>\n",
       "      <td>2014-02-01</td>\n",
       "    </tr>\n",
       "    <tr>\n",
       "      <th>2</th>\n",
       "      <td>93</td>\n",
       "      <td>2014-03-31</td>\n",
       "      <td>6.208490</td>\n",
       "      <td>2014-03-01</td>\n",
       "    </tr>\n",
       "    <tr>\n",
       "      <th>3</th>\n",
       "      <td>93</td>\n",
       "      <td>2014-04-30</td>\n",
       "      <td>10.433339</td>\n",
       "      <td>2014-04-01</td>\n",
       "    </tr>\n",
       "    <tr>\n",
       "      <th>4</th>\n",
       "      <td>93</td>\n",
       "      <td>2014-05-31</td>\n",
       "      <td>9.160731</td>\n",
       "      <td>2014-05-01</td>\n",
       "    </tr>\n",
       "  </tbody>\n",
       "</table>\n",
       "</div>"
      ],
      "text/plain": [
       "   region_id    end_date     precip  start_date\n",
       "0         93  2014-01-31   2.541758  2014-01-01\n",
       "1         93  2014-02-28   0.326015  2014-02-01\n",
       "2         93  2014-03-31   6.208490  2014-03-01\n",
       "3         93  2014-04-30  10.433339  2014-04-01\n",
       "4         93  2014-05-31   9.160731  2014-05-01"
      ]
     },
     "execution_count": 12,
     "metadata": {},
     "output_type": "execute_result"
    }
   ],
   "source": [
    "# deriving the start date of the month (as the data has now been downscaled to monthly frequency) to combine with the dataframe\n",
    "\n",
    "from datetime import datetime, timedelta\n",
    "\n",
    "sampled_precip_df['start_date'] = sampled_precip_df['end_date'] - pd.offsets.MonthBegin(1, normalize=True)\n",
    "sampled_precip_df['start_date'] = sampled_precip_df['start_date'].dt.date\n",
    "sampled_precip_df['end_date'] = sampled_precip_df['end_date'].dt.date\n",
    "\n",
    "\n",
    "sampled_precip_df.head()"
   ]
  },
  {
   "cell_type": "code",
   "execution_count": 13,
   "metadata": {
    "id": "Imcffq_R5lqy"
   },
   "outputs": [],
   "source": [
    "# rearranging the columns in the dataframe for better understanding\n",
    "sampled_precip_df = sampled_precip_df[['start_date','end_date','precip','region_id']]"
   ]
  },
  {
   "cell_type": "code",
   "execution_count": 14,
   "metadata": {
    "colab": {
     "base_uri": "https://localhost:8080/",
     "height": 206
    },
    "id": "tKOlArmK8yxj",
    "outputId": "56268a1e-d81a-4baf-a573-7453c8187161"
   },
   "outputs": [
    {
     "data": {
      "text/html": [
       "<div>\n",
       "<style scoped>\n",
       "    .dataframe tbody tr th:only-of-type {\n",
       "        vertical-align: middle;\n",
       "    }\n",
       "\n",
       "    .dataframe tbody tr th {\n",
       "        vertical-align: top;\n",
       "    }\n",
       "\n",
       "    .dataframe thead th {\n",
       "        text-align: right;\n",
       "    }\n",
       "</style>\n",
       "<table border=\"1\" class=\"dataframe\">\n",
       "  <thead>\n",
       "    <tr style=\"text-align: right;\">\n",
       "      <th></th>\n",
       "      <th>start_date</th>\n",
       "      <th>end_date</th>\n",
       "      <th>precip</th>\n",
       "      <th>region_id</th>\n",
       "    </tr>\n",
       "  </thead>\n",
       "  <tbody>\n",
       "    <tr>\n",
       "      <th>0</th>\n",
       "      <td>2014-01-01</td>\n",
       "      <td>2014-01-31</td>\n",
       "      <td>2.541758</td>\n",
       "      <td>93</td>\n",
       "    </tr>\n",
       "    <tr>\n",
       "      <th>1</th>\n",
       "      <td>2014-02-01</td>\n",
       "      <td>2014-02-28</td>\n",
       "      <td>0.326015</td>\n",
       "      <td>93</td>\n",
       "    </tr>\n",
       "    <tr>\n",
       "      <th>2</th>\n",
       "      <td>2014-03-01</td>\n",
       "      <td>2014-03-31</td>\n",
       "      <td>6.208490</td>\n",
       "      <td>93</td>\n",
       "    </tr>\n",
       "    <tr>\n",
       "      <th>3</th>\n",
       "      <td>2014-04-01</td>\n",
       "      <td>2014-04-30</td>\n",
       "      <td>10.433339</td>\n",
       "      <td>93</td>\n",
       "    </tr>\n",
       "    <tr>\n",
       "      <th>4</th>\n",
       "      <td>2014-05-01</td>\n",
       "      <td>2014-05-31</td>\n",
       "      <td>9.160731</td>\n",
       "      <td>93</td>\n",
       "    </tr>\n",
       "  </tbody>\n",
       "</table>\n",
       "</div>"
      ],
      "text/plain": [
       "   start_date    end_date     precip  region_id\n",
       "0  2014-01-01  2014-01-31   2.541758         93\n",
       "1  2014-02-01  2014-02-28   0.326015         93\n",
       "2  2014-03-01  2014-03-31   6.208490         93\n",
       "3  2014-04-01  2014-04-30  10.433339         93\n",
       "4  2014-05-01  2014-05-31   9.160731         93"
      ]
     },
     "execution_count": 14,
     "metadata": {},
     "output_type": "execute_result"
    }
   ],
   "source": [
    "sampled_precip_df.head()"
   ]
  },
  {
   "cell_type": "markdown",
   "metadata": {
    "id": "Q-fK-oykGFvI"
   },
   "source": [
    "#Similarly , Downscaling for Soil moisture data from daily frequency to monthly."
   ]
  },
  {
   "cell_type": "code",
   "execution_count": 15,
   "metadata": {
    "colab": {
     "base_uri": "https://localhost:8080/",
     "height": 206
    },
    "id": "dZO8d-CSGHZf",
    "outputId": "090ad863-7bc7-4e05-991c-3439674ef811"
   },
   "outputs": [
    {
     "data": {
      "text/html": [
       "<div>\n",
       "<style scoped>\n",
       "    .dataframe tbody tr th:only-of-type {\n",
       "        vertical-align: middle;\n",
       "    }\n",
       "\n",
       "    .dataframe tbody tr th {\n",
       "        vertical-align: top;\n",
       "    }\n",
       "\n",
       "    .dataframe thead th {\n",
       "        text-align: right;\n",
       "    }\n",
       "</style>\n",
       "<table border=\"1\" class=\"dataframe\">\n",
       "  <thead>\n",
       "    <tr style=\"text-align: right;\">\n",
       "      <th></th>\n",
       "      <th>start_date</th>\n",
       "      <th>end_date</th>\n",
       "      <th>smos</th>\n",
       "      <th>region_id</th>\n",
       "    </tr>\n",
       "  </thead>\n",
       "  <tbody>\n",
       "    <tr>\n",
       "      <th>0</th>\n",
       "      <td>2014-01-01 00:00:00+00:00</td>\n",
       "      <td>2014-01-01 00:00:00+00:00</td>\n",
       "      <td>0.310787</td>\n",
       "      <td>93</td>\n",
       "    </tr>\n",
       "    <tr>\n",
       "      <th>1</th>\n",
       "      <td>2014-01-02 00:00:00+00:00</td>\n",
       "      <td>2014-01-02 00:00:00+00:00</td>\n",
       "      <td>0.192271</td>\n",
       "      <td>93</td>\n",
       "    </tr>\n",
       "    <tr>\n",
       "      <th>2</th>\n",
       "      <td>2014-01-03 00:00:00+00:00</td>\n",
       "      <td>2014-01-03 00:00:00+00:00</td>\n",
       "      <td>0.265683</td>\n",
       "      <td>93</td>\n",
       "    </tr>\n",
       "    <tr>\n",
       "      <th>3</th>\n",
       "      <td>2014-01-04 00:00:00+00:00</td>\n",
       "      <td>2014-01-04 00:00:00+00:00</td>\n",
       "      <td>0.265683</td>\n",
       "      <td>93</td>\n",
       "    </tr>\n",
       "    <tr>\n",
       "      <th>4</th>\n",
       "      <td>2014-01-05 00:00:00+00:00</td>\n",
       "      <td>2014-01-05 00:00:00+00:00</td>\n",
       "      <td>0.230782</td>\n",
       "      <td>93</td>\n",
       "    </tr>\n",
       "  </tbody>\n",
       "</table>\n",
       "</div>"
      ],
      "text/plain": [
       "                 start_date                  end_date      smos  region_id\n",
       "0 2014-01-01 00:00:00+00:00 2014-01-01 00:00:00+00:00  0.310787         93\n",
       "1 2014-01-02 00:00:00+00:00 2014-01-02 00:00:00+00:00  0.192271         93\n",
       "2 2014-01-03 00:00:00+00:00 2014-01-03 00:00:00+00:00  0.265683         93\n",
       "3 2014-01-04 00:00:00+00:00 2014-01-04 00:00:00+00:00  0.265683         93\n",
       "4 2014-01-05 00:00:00+00:00 2014-01-05 00:00:00+00:00  0.230782         93"
      ]
     },
     "execution_count": 15,
     "metadata": {},
     "output_type": "execute_result"
    }
   ],
   "source": [
    "df_soil.head()"
   ]
  },
  {
   "cell_type": "markdown",
   "metadata": {
    "id": "S1nAq0KH0NTG"
   },
   "source": [
    "The above soil df data seems to be daily .Hence, applying resample to downscale soil moisture frequency from daily to monthly."
   ]
  },
  {
   "cell_type": "code",
   "execution_count": 16,
   "metadata": {
    "colab": {
     "base_uri": "https://localhost:8080/",
     "height": 237
    },
    "id": "LiWLXc6EGHZf",
    "outputId": "dbbb4388-be5c-4a40-af02-d48790c52a2a"
   },
   "outputs": [
    {
     "data": {
      "text/html": [
       "<div>\n",
       "<style scoped>\n",
       "    .dataframe tbody tr th:only-of-type {\n",
       "        vertical-align: middle;\n",
       "    }\n",
       "\n",
       "    .dataframe tbody tr th {\n",
       "        vertical-align: top;\n",
       "    }\n",
       "\n",
       "    .dataframe thead th {\n",
       "        text-align: right;\n",
       "    }\n",
       "</style>\n",
       "<table border=\"1\" class=\"dataframe\">\n",
       "  <thead>\n",
       "    <tr style=\"text-align: right;\">\n",
       "      <th></th>\n",
       "      <th></th>\n",
       "      <th>smos</th>\n",
       "      <th>region_id</th>\n",
       "    </tr>\n",
       "    <tr>\n",
       "      <th>region_id</th>\n",
       "      <th>end_date</th>\n",
       "      <th></th>\n",
       "      <th></th>\n",
       "    </tr>\n",
       "  </thead>\n",
       "  <tbody>\n",
       "    <tr>\n",
       "      <th rowspan=\"5\" valign=\"top\">93</th>\n",
       "      <th>2014-01-31 00:00:00+00:00</th>\n",
       "      <td>0.287870</td>\n",
       "      <td>93</td>\n",
       "    </tr>\n",
       "    <tr>\n",
       "      <th>2014-02-28 00:00:00+00:00</th>\n",
       "      <td>0.272979</td>\n",
       "      <td>93</td>\n",
       "    </tr>\n",
       "    <tr>\n",
       "      <th>2014-03-31 00:00:00+00:00</th>\n",
       "      <td>0.254618</td>\n",
       "      <td>93</td>\n",
       "    </tr>\n",
       "    <tr>\n",
       "      <th>2014-04-30 00:00:00+00:00</th>\n",
       "      <td>0.277936</td>\n",
       "      <td>93</td>\n",
       "    </tr>\n",
       "    <tr>\n",
       "      <th>2014-05-31 00:00:00+00:00</th>\n",
       "      <td>0.238466</td>\n",
       "      <td>93</td>\n",
       "    </tr>\n",
       "  </tbody>\n",
       "</table>\n",
       "</div>"
      ],
      "text/plain": [
       "                                         smos  region_id\n",
       "region_id end_date                                      \n",
       "93        2014-01-31 00:00:00+00:00  0.287870         93\n",
       "          2014-02-28 00:00:00+00:00  0.272979         93\n",
       "          2014-03-31 00:00:00+00:00  0.254618         93\n",
       "          2014-04-30 00:00:00+00:00  0.277936         93\n",
       "          2014-05-31 00:00:00+00:00  0.238466         93"
      ]
     },
     "execution_count": 16,
     "metadata": {},
     "output_type": "execute_result"
    }
   ],
   "source": [
    "# applying resample to the soil moisture data from daily to monthly grouped by region \n",
    "\n",
    "\n",
    "def resample(group):\n",
    "    upsampled =  group.resample('1M').mean()\n",
    "    #interpolated = upsampled.interpolate(method='linear')\n",
    "    return upsampled\n",
    "\n",
    "sampled_soil_df = df_soil.set_index(['end_date']).groupby('region_id').apply(resample)\n",
    "sampled_soil_df.head()"
   ]
  },
  {
   "cell_type": "code",
   "execution_count": 17,
   "metadata": {
    "id": "VuwnmRsqGHZg"
   },
   "outputs": [],
   "source": [
    "sampled_soil_df.drop('region_id',axis=1,inplace=True)"
   ]
  },
  {
   "cell_type": "code",
   "execution_count": 18,
   "metadata": {
    "colab": {
     "base_uri": "https://localhost:8080/",
     "height": 206
    },
    "id": "ArNJ4xqSGHZg",
    "outputId": "0ce707aa-6854-4672-b1e2-ee80697c5a29"
   },
   "outputs": [
    {
     "data": {
      "text/html": [
       "<div>\n",
       "<style scoped>\n",
       "    .dataframe tbody tr th:only-of-type {\n",
       "        vertical-align: middle;\n",
       "    }\n",
       "\n",
       "    .dataframe tbody tr th {\n",
       "        vertical-align: top;\n",
       "    }\n",
       "\n",
       "    .dataframe thead th {\n",
       "        text-align: right;\n",
       "    }\n",
       "</style>\n",
       "<table border=\"1\" class=\"dataframe\">\n",
       "  <thead>\n",
       "    <tr style=\"text-align: right;\">\n",
       "      <th></th>\n",
       "      <th>region_id</th>\n",
       "      <th>end_date</th>\n",
       "      <th>smos</th>\n",
       "    </tr>\n",
       "  </thead>\n",
       "  <tbody>\n",
       "    <tr>\n",
       "      <th>0</th>\n",
       "      <td>93</td>\n",
       "      <td>2014-01-31 00:00:00+00:00</td>\n",
       "      <td>0.287870</td>\n",
       "    </tr>\n",
       "    <tr>\n",
       "      <th>1</th>\n",
       "      <td>93</td>\n",
       "      <td>2014-02-28 00:00:00+00:00</td>\n",
       "      <td>0.272979</td>\n",
       "    </tr>\n",
       "    <tr>\n",
       "      <th>2</th>\n",
       "      <td>93</td>\n",
       "      <td>2014-03-31 00:00:00+00:00</td>\n",
       "      <td>0.254618</td>\n",
       "    </tr>\n",
       "    <tr>\n",
       "      <th>3</th>\n",
       "      <td>93</td>\n",
       "      <td>2014-04-30 00:00:00+00:00</td>\n",
       "      <td>0.277936</td>\n",
       "    </tr>\n",
       "    <tr>\n",
       "      <th>4</th>\n",
       "      <td>93</td>\n",
       "      <td>2014-05-31 00:00:00+00:00</td>\n",
       "      <td>0.238466</td>\n",
       "    </tr>\n",
       "  </tbody>\n",
       "</table>\n",
       "</div>"
      ],
      "text/plain": [
       "   region_id                  end_date      smos\n",
       "0         93 2014-01-31 00:00:00+00:00  0.287870\n",
       "1         93 2014-02-28 00:00:00+00:00  0.272979\n",
       "2         93 2014-03-31 00:00:00+00:00  0.254618\n",
       "3         93 2014-04-30 00:00:00+00:00  0.277936\n",
       "4         93 2014-05-31 00:00:00+00:00  0.238466"
      ]
     },
     "execution_count": 18,
     "metadata": {},
     "output_type": "execute_result"
    }
   ],
   "source": [
    "# converting  the indexes into columns for dataframe \n",
    "sampled_soil_df = sampled_soil_df.reset_index()\n",
    "sampled_soil_df.head()"
   ]
  },
  {
   "cell_type": "code",
   "execution_count": 19,
   "metadata": {
    "id": "dJI2Ur-GGHZh"
   },
   "outputs": [],
   "source": [
    "# deriving the start date of the month (as the data has now been downscaled to monthly frequency) to combine with the dataframe\n",
    "\n",
    "sampled_soil_df['start_date'] = sampled_soil_df['end_date'] - pd.offsets.MonthBegin(1, normalize=True)\n",
    "sampled_soil_df['start_date'] = sampled_soil_df['start_date'].dt.date\n",
    "sampled_soil_df['end_date'] = sampled_soil_df['end_date'].dt.date\n"
   ]
  },
  {
   "cell_type": "code",
   "execution_count": 20,
   "metadata": {
    "id": "G2nMagCHGHZh"
   },
   "outputs": [],
   "source": [
    "# rearranging the columns of dataset\n",
    "sampled_soil_df = sampled_soil_df[['start_date','end_date','smos','region_id']]"
   ]
  },
  {
   "cell_type": "code",
   "execution_count": 21,
   "metadata": {
    "colab": {
     "base_uri": "https://localhost:8080/",
     "height": 206
    },
    "id": "xeTawPAjGHZh",
    "outputId": "ff6d876f-292d-4d19-dae5-e93d485d04c1"
   },
   "outputs": [
    {
     "data": {
      "text/html": [
       "<div>\n",
       "<style scoped>\n",
       "    .dataframe tbody tr th:only-of-type {\n",
       "        vertical-align: middle;\n",
       "    }\n",
       "\n",
       "    .dataframe tbody tr th {\n",
       "        vertical-align: top;\n",
       "    }\n",
       "\n",
       "    .dataframe thead th {\n",
       "        text-align: right;\n",
       "    }\n",
       "</style>\n",
       "<table border=\"1\" class=\"dataframe\">\n",
       "  <thead>\n",
       "    <tr style=\"text-align: right;\">\n",
       "      <th></th>\n",
       "      <th>start_date</th>\n",
       "      <th>end_date</th>\n",
       "      <th>smos</th>\n",
       "      <th>region_id</th>\n",
       "    </tr>\n",
       "  </thead>\n",
       "  <tbody>\n",
       "    <tr>\n",
       "      <th>0</th>\n",
       "      <td>2014-01-01</td>\n",
       "      <td>2014-01-31</td>\n",
       "      <td>0.287870</td>\n",
       "      <td>93</td>\n",
       "    </tr>\n",
       "    <tr>\n",
       "      <th>1</th>\n",
       "      <td>2014-02-01</td>\n",
       "      <td>2014-02-28</td>\n",
       "      <td>0.272979</td>\n",
       "      <td>93</td>\n",
       "    </tr>\n",
       "    <tr>\n",
       "      <th>2</th>\n",
       "      <td>2014-03-01</td>\n",
       "      <td>2014-03-31</td>\n",
       "      <td>0.254618</td>\n",
       "      <td>93</td>\n",
       "    </tr>\n",
       "    <tr>\n",
       "      <th>3</th>\n",
       "      <td>2014-04-01</td>\n",
       "      <td>2014-04-30</td>\n",
       "      <td>0.277936</td>\n",
       "      <td>93</td>\n",
       "    </tr>\n",
       "    <tr>\n",
       "      <th>4</th>\n",
       "      <td>2014-05-01</td>\n",
       "      <td>2014-05-31</td>\n",
       "      <td>0.238466</td>\n",
       "      <td>93</td>\n",
       "    </tr>\n",
       "  </tbody>\n",
       "</table>\n",
       "</div>"
      ],
      "text/plain": [
       "   start_date    end_date      smos  region_id\n",
       "0  2014-01-01  2014-01-31  0.287870         93\n",
       "1  2014-02-01  2014-02-28  0.272979         93\n",
       "2  2014-03-01  2014-03-31  0.254618         93\n",
       "3  2014-04-01  2014-04-30  0.277936         93\n",
       "4  2014-05-01  2014-05-31  0.238466         93"
      ]
     },
     "execution_count": 21,
     "metadata": {},
     "output_type": "execute_result"
    }
   ],
   "source": [
    "sampled_soil_df.head()"
   ]
  },
  {
   "cell_type": "markdown",
   "metadata": {
    "id": "bcRhovMLGe8C"
   },
   "source": [
    "#Now , Downscaling for Temperature data from daily frequency to monthly."
   ]
  },
  {
   "cell_type": "code",
   "execution_count": 22,
   "metadata": {
    "colab": {
     "base_uri": "https://localhost:8080/",
     "height": 206
    },
    "id": "hadsvyr0GoIZ",
    "outputId": "e01f6fad-ee25-4a0f-d461-b7a63de1d255"
   },
   "outputs": [
    {
     "data": {
      "text/html": [
       "<div>\n",
       "<style scoped>\n",
       "    .dataframe tbody tr th:only-of-type {\n",
       "        vertical-align: middle;\n",
       "    }\n",
       "\n",
       "    .dataframe tbody tr th {\n",
       "        vertical-align: top;\n",
       "    }\n",
       "\n",
       "    .dataframe thead th {\n",
       "        text-align: right;\n",
       "    }\n",
       "</style>\n",
       "<table border=\"1\" class=\"dataframe\">\n",
       "  <thead>\n",
       "    <tr style=\"text-align: right;\">\n",
       "      <th></th>\n",
       "      <th>start_date</th>\n",
       "      <th>end_date</th>\n",
       "      <th>temp</th>\n",
       "      <th>region_id</th>\n",
       "    </tr>\n",
       "  </thead>\n",
       "  <tbody>\n",
       "    <tr>\n",
       "      <th>0</th>\n",
       "      <td>2014-01-02 00:00:00+00:00</td>\n",
       "      <td>2014-01-02 00:00:00+00:00</td>\n",
       "      <td>24.707605</td>\n",
       "      <td>93</td>\n",
       "    </tr>\n",
       "    <tr>\n",
       "      <th>1</th>\n",
       "      <td>2014-01-11 00:00:00+00:00</td>\n",
       "      <td>2014-01-11 00:00:00+00:00</td>\n",
       "      <td>26.421176</td>\n",
       "      <td>93</td>\n",
       "    </tr>\n",
       "    <tr>\n",
       "      <th>2</th>\n",
       "      <td>2014-01-15 00:00:00+00:00</td>\n",
       "      <td>2014-01-15 00:00:00+00:00</td>\n",
       "      <td>24.305642</td>\n",
       "      <td>93</td>\n",
       "    </tr>\n",
       "    <tr>\n",
       "      <th>3</th>\n",
       "      <td>2014-01-20 00:00:00+00:00</td>\n",
       "      <td>2014-01-20 00:00:00+00:00</td>\n",
       "      <td>25.142744</td>\n",
       "      <td>93</td>\n",
       "    </tr>\n",
       "    <tr>\n",
       "      <th>4</th>\n",
       "      <td>2014-01-23 00:00:00+00:00</td>\n",
       "      <td>2014-01-23 00:00:00+00:00</td>\n",
       "      <td>23.653173</td>\n",
       "      <td>93</td>\n",
       "    </tr>\n",
       "  </tbody>\n",
       "</table>\n",
       "</div>"
      ],
      "text/plain": [
       "                 start_date                  end_date       temp  region_id\n",
       "0 2014-01-02 00:00:00+00:00 2014-01-02 00:00:00+00:00  24.707605         93\n",
       "1 2014-01-11 00:00:00+00:00 2014-01-11 00:00:00+00:00  26.421176         93\n",
       "2 2014-01-15 00:00:00+00:00 2014-01-15 00:00:00+00:00  24.305642         93\n",
       "3 2014-01-20 00:00:00+00:00 2014-01-20 00:00:00+00:00  25.142744         93\n",
       "4 2014-01-23 00:00:00+00:00 2014-01-23 00:00:00+00:00  23.653173         93"
      ]
     },
     "execution_count": 22,
     "metadata": {},
     "output_type": "execute_result"
    }
   ],
   "source": [
    "df_temp.head()"
   ]
  },
  {
   "cell_type": "markdown",
   "metadata": {
    "id": "4FKg3TLy1CSS"
   },
   "source": [
    "The original data is in daily format."
   ]
  },
  {
   "cell_type": "code",
   "execution_count": 23,
   "metadata": {
    "colab": {
     "base_uri": "https://localhost:8080/",
     "height": 237
    },
    "id": "lRoaLT6gGoIa",
    "outputId": "a6dd0eda-5f68-4a9a-99b2-6d0856491f3d"
   },
   "outputs": [
    {
     "data": {
      "text/html": [
       "<div>\n",
       "<style scoped>\n",
       "    .dataframe tbody tr th:only-of-type {\n",
       "        vertical-align: middle;\n",
       "    }\n",
       "\n",
       "    .dataframe tbody tr th {\n",
       "        vertical-align: top;\n",
       "    }\n",
       "\n",
       "    .dataframe thead th {\n",
       "        text-align: right;\n",
       "    }\n",
       "</style>\n",
       "<table border=\"1\" class=\"dataframe\">\n",
       "  <thead>\n",
       "    <tr style=\"text-align: right;\">\n",
       "      <th></th>\n",
       "      <th></th>\n",
       "      <th>temp</th>\n",
       "      <th>region_id</th>\n",
       "    </tr>\n",
       "    <tr>\n",
       "      <th>region_id</th>\n",
       "      <th>end_date</th>\n",
       "      <th></th>\n",
       "      <th></th>\n",
       "    </tr>\n",
       "  </thead>\n",
       "  <tbody>\n",
       "    <tr>\n",
       "      <th rowspan=\"5\" valign=\"top\">93</th>\n",
       "      <th>2014-01-31 00:00:00+00:00</th>\n",
       "      <td>25.482158</td>\n",
       "      <td>93</td>\n",
       "    </tr>\n",
       "    <tr>\n",
       "      <th>2014-02-28 00:00:00+00:00</th>\n",
       "      <td>26.647786</td>\n",
       "      <td>93</td>\n",
       "    </tr>\n",
       "    <tr>\n",
       "      <th>2014-03-31 00:00:00+00:00</th>\n",
       "      <td>29.379089</td>\n",
       "      <td>93</td>\n",
       "    </tr>\n",
       "    <tr>\n",
       "      <th>2014-04-30 00:00:00+00:00</th>\n",
       "      <td>26.267849</td>\n",
       "      <td>93</td>\n",
       "    </tr>\n",
       "    <tr>\n",
       "      <th>2014-05-31 00:00:00+00:00</th>\n",
       "      <td>26.642768</td>\n",
       "      <td>93</td>\n",
       "    </tr>\n",
       "  </tbody>\n",
       "</table>\n",
       "</div>"
      ],
      "text/plain": [
       "                                          temp  region_id\n",
       "region_id end_date                                       \n",
       "93        2014-01-31 00:00:00+00:00  25.482158         93\n",
       "          2014-02-28 00:00:00+00:00  26.647786         93\n",
       "          2014-03-31 00:00:00+00:00  29.379089         93\n",
       "          2014-04-30 00:00:00+00:00  26.267849         93\n",
       "          2014-05-31 00:00:00+00:00  26.642768         93"
      ]
     },
     "execution_count": 23,
     "metadata": {},
     "output_type": "execute_result"
    }
   ],
   "source": [
    "# applying downscaling (resample by month)  the temperature data from daily to monthly grouped by region \n",
    "\n",
    "\n",
    "def resample(group):\n",
    "    upsampled =  group.resample('1M').mean()\n",
    "    #interpolated = upsampled.interpolate(method='linear')\n",
    "    return upsampled\n",
    "\n",
    "sampled_temp_df = df_temp.set_index(['end_date']).groupby('region_id').apply(resample)\n",
    "sampled_temp_df.head()"
   ]
  },
  {
   "cell_type": "code",
   "execution_count": 24,
   "metadata": {
    "id": "A9E1Alc7GoIa"
   },
   "outputs": [],
   "source": [
    "sampled_temp_df.drop('region_id',axis=1,inplace=True)"
   ]
  },
  {
   "cell_type": "code",
   "execution_count": 25,
   "metadata": {
    "colab": {
     "base_uri": "https://localhost:8080/",
     "height": 206
    },
    "id": "SEk6O3rgGoIa",
    "outputId": "f6b59bc0-6efe-4574-92b1-e5f9adb02b90"
   },
   "outputs": [
    {
     "data": {
      "text/html": [
       "<div>\n",
       "<style scoped>\n",
       "    .dataframe tbody tr th:only-of-type {\n",
       "        vertical-align: middle;\n",
       "    }\n",
       "\n",
       "    .dataframe tbody tr th {\n",
       "        vertical-align: top;\n",
       "    }\n",
       "\n",
       "    .dataframe thead th {\n",
       "        text-align: right;\n",
       "    }\n",
       "</style>\n",
       "<table border=\"1\" class=\"dataframe\">\n",
       "  <thead>\n",
       "    <tr style=\"text-align: right;\">\n",
       "      <th></th>\n",
       "      <th>region_id</th>\n",
       "      <th>end_date</th>\n",
       "      <th>temp</th>\n",
       "    </tr>\n",
       "  </thead>\n",
       "  <tbody>\n",
       "    <tr>\n",
       "      <th>0</th>\n",
       "      <td>93</td>\n",
       "      <td>2014-01-31 00:00:00+00:00</td>\n",
       "      <td>25.482158</td>\n",
       "    </tr>\n",
       "    <tr>\n",
       "      <th>1</th>\n",
       "      <td>93</td>\n",
       "      <td>2014-02-28 00:00:00+00:00</td>\n",
       "      <td>26.647786</td>\n",
       "    </tr>\n",
       "    <tr>\n",
       "      <th>2</th>\n",
       "      <td>93</td>\n",
       "      <td>2014-03-31 00:00:00+00:00</td>\n",
       "      <td>29.379089</td>\n",
       "    </tr>\n",
       "    <tr>\n",
       "      <th>3</th>\n",
       "      <td>93</td>\n",
       "      <td>2014-04-30 00:00:00+00:00</td>\n",
       "      <td>26.267849</td>\n",
       "    </tr>\n",
       "    <tr>\n",
       "      <th>4</th>\n",
       "      <td>93</td>\n",
       "      <td>2014-05-31 00:00:00+00:00</td>\n",
       "      <td>26.642768</td>\n",
       "    </tr>\n",
       "  </tbody>\n",
       "</table>\n",
       "</div>"
      ],
      "text/plain": [
       "   region_id                  end_date       temp\n",
       "0         93 2014-01-31 00:00:00+00:00  25.482158\n",
       "1         93 2014-02-28 00:00:00+00:00  26.647786\n",
       "2         93 2014-03-31 00:00:00+00:00  29.379089\n",
       "3         93 2014-04-30 00:00:00+00:00  26.267849\n",
       "4         93 2014-05-31 00:00:00+00:00  26.642768"
      ]
     },
     "execution_count": 25,
     "metadata": {},
     "output_type": "execute_result"
    }
   ],
   "source": [
    "# converting  the indexes into columns for dataframe \n",
    "sampled_temp_df = sampled_temp_df.reset_index()\n",
    "sampled_temp_df.head()"
   ]
  },
  {
   "cell_type": "code",
   "execution_count": 26,
   "metadata": {
    "colab": {
     "base_uri": "https://localhost:8080/",
     "height": 206
    },
    "id": "z1QfEIssGoIa",
    "outputId": "0aa293f1-b17e-4b65-b8c6-abc525999d2d"
   },
   "outputs": [
    {
     "data": {
      "text/html": [
       "<div>\n",
       "<style scoped>\n",
       "    .dataframe tbody tr th:only-of-type {\n",
       "        vertical-align: middle;\n",
       "    }\n",
       "\n",
       "    .dataframe tbody tr th {\n",
       "        vertical-align: top;\n",
       "    }\n",
       "\n",
       "    .dataframe thead th {\n",
       "        text-align: right;\n",
       "    }\n",
       "</style>\n",
       "<table border=\"1\" class=\"dataframe\">\n",
       "  <thead>\n",
       "    <tr style=\"text-align: right;\">\n",
       "      <th></th>\n",
       "      <th>region_id</th>\n",
       "      <th>end_date</th>\n",
       "      <th>temp</th>\n",
       "      <th>start_date</th>\n",
       "    </tr>\n",
       "  </thead>\n",
       "  <tbody>\n",
       "    <tr>\n",
       "      <th>0</th>\n",
       "      <td>93</td>\n",
       "      <td>2014-01-31</td>\n",
       "      <td>25.482158</td>\n",
       "      <td>2014-01-01</td>\n",
       "    </tr>\n",
       "    <tr>\n",
       "      <th>1</th>\n",
       "      <td>93</td>\n",
       "      <td>2014-02-28</td>\n",
       "      <td>26.647786</td>\n",
       "      <td>2014-02-01</td>\n",
       "    </tr>\n",
       "    <tr>\n",
       "      <th>2</th>\n",
       "      <td>93</td>\n",
       "      <td>2014-03-31</td>\n",
       "      <td>29.379089</td>\n",
       "      <td>2014-03-01</td>\n",
       "    </tr>\n",
       "    <tr>\n",
       "      <th>3</th>\n",
       "      <td>93</td>\n",
       "      <td>2014-04-30</td>\n",
       "      <td>26.267849</td>\n",
       "      <td>2014-04-01</td>\n",
       "    </tr>\n",
       "    <tr>\n",
       "      <th>4</th>\n",
       "      <td>93</td>\n",
       "      <td>2014-05-31</td>\n",
       "      <td>26.642768</td>\n",
       "      <td>2014-05-01</td>\n",
       "    </tr>\n",
       "  </tbody>\n",
       "</table>\n",
       "</div>"
      ],
      "text/plain": [
       "   region_id    end_date       temp  start_date\n",
       "0         93  2014-01-31  25.482158  2014-01-01\n",
       "1         93  2014-02-28  26.647786  2014-02-01\n",
       "2         93  2014-03-31  29.379089  2014-03-01\n",
       "3         93  2014-04-30  26.267849  2014-04-01\n",
       "4         93  2014-05-31  26.642768  2014-05-01"
      ]
     },
     "execution_count": 26,
     "metadata": {},
     "output_type": "execute_result"
    }
   ],
   "source": [
    "# deriving the start date of the month (as the data has now been downscaled to monthly frequency) to combine with the dataframe\n",
    "\n",
    "sampled_temp_df['start_date'] = sampled_temp_df['end_date'] - pd.offsets.MonthBegin(1, normalize=True)\n",
    "sampled_temp_df['start_date'] = sampled_temp_df['start_date'].dt.date\n",
    "sampled_temp_df['end_date'] = sampled_temp_df['end_date'].dt.date\n",
    "sampled_temp_df.head()"
   ]
  },
  {
   "cell_type": "code",
   "execution_count": 27,
   "metadata": {
    "id": "aJGw_ghMGoIa"
   },
   "outputs": [],
   "source": [
    "# rearranging the columns of dataframe\n",
    "sampled_temp_df = sampled_temp_df[['start_date','end_date','temp','region_id']]"
   ]
  },
  {
   "cell_type": "code",
   "execution_count": 28,
   "metadata": {
    "colab": {
     "base_uri": "https://localhost:8080/",
     "height": 206
    },
    "id": "Oy-xBMCQGoIa",
    "outputId": "8908a3b4-8d14-40c6-d92a-7c33d5dc7f9d"
   },
   "outputs": [
    {
     "data": {
      "text/html": [
       "<div>\n",
       "<style scoped>\n",
       "    .dataframe tbody tr th:only-of-type {\n",
       "        vertical-align: middle;\n",
       "    }\n",
       "\n",
       "    .dataframe tbody tr th {\n",
       "        vertical-align: top;\n",
       "    }\n",
       "\n",
       "    .dataframe thead th {\n",
       "        text-align: right;\n",
       "    }\n",
       "</style>\n",
       "<table border=\"1\" class=\"dataframe\">\n",
       "  <thead>\n",
       "    <tr style=\"text-align: right;\">\n",
       "      <th></th>\n",
       "      <th>start_date</th>\n",
       "      <th>end_date</th>\n",
       "      <th>temp</th>\n",
       "      <th>region_id</th>\n",
       "    </tr>\n",
       "  </thead>\n",
       "  <tbody>\n",
       "    <tr>\n",
       "      <th>0</th>\n",
       "      <td>2014-01-01</td>\n",
       "      <td>2014-01-31</td>\n",
       "      <td>25.482158</td>\n",
       "      <td>93</td>\n",
       "    </tr>\n",
       "    <tr>\n",
       "      <th>1</th>\n",
       "      <td>2014-02-01</td>\n",
       "      <td>2014-02-28</td>\n",
       "      <td>26.647786</td>\n",
       "      <td>93</td>\n",
       "    </tr>\n",
       "    <tr>\n",
       "      <th>2</th>\n",
       "      <td>2014-03-01</td>\n",
       "      <td>2014-03-31</td>\n",
       "      <td>29.379089</td>\n",
       "      <td>93</td>\n",
       "    </tr>\n",
       "    <tr>\n",
       "      <th>3</th>\n",
       "      <td>2014-04-01</td>\n",
       "      <td>2014-04-30</td>\n",
       "      <td>26.267849</td>\n",
       "      <td>93</td>\n",
       "    </tr>\n",
       "    <tr>\n",
       "      <th>4</th>\n",
       "      <td>2014-05-01</td>\n",
       "      <td>2014-05-31</td>\n",
       "      <td>26.642768</td>\n",
       "      <td>93</td>\n",
       "    </tr>\n",
       "  </tbody>\n",
       "</table>\n",
       "</div>"
      ],
      "text/plain": [
       "   start_date    end_date       temp  region_id\n",
       "0  2014-01-01  2014-01-31  25.482158         93\n",
       "1  2014-02-01  2014-02-28  26.647786         93\n",
       "2  2014-03-01  2014-03-31  29.379089         93\n",
       "3  2014-04-01  2014-04-30  26.267849         93\n",
       "4  2014-05-01  2014-05-31  26.642768         93"
      ]
     },
     "execution_count": 28,
     "metadata": {},
     "output_type": "execute_result"
    }
   ],
   "source": [
    "sampled_temp_df.head()"
   ]
  },
  {
   "cell_type": "markdown",
   "metadata": {
    "id": "zmtaRHafGoIa"
   },
   "source": [
    "#Now , Downscaling for NDVI data from 8 days frequency to monthly by considering the end date as it is measured on the 8th day."
   ]
  },
  {
   "cell_type": "code",
   "execution_count": 29,
   "metadata": {
    "colab": {
     "base_uri": "https://localhost:8080/",
     "height": 206
    },
    "id": "NBB5qC17HK7n",
    "outputId": "fddb27cb-fc00-48ad-a30f-c31516d39001"
   },
   "outputs": [
    {
     "data": {
      "text/html": [
       "<div>\n",
       "<style scoped>\n",
       "    .dataframe tbody tr th:only-of-type {\n",
       "        vertical-align: middle;\n",
       "    }\n",
       "\n",
       "    .dataframe tbody tr th {\n",
       "        vertical-align: top;\n",
       "    }\n",
       "\n",
       "    .dataframe thead th {\n",
       "        text-align: right;\n",
       "    }\n",
       "</style>\n",
       "<table border=\"1\" class=\"dataframe\">\n",
       "  <thead>\n",
       "    <tr style=\"text-align: right;\">\n",
       "      <th></th>\n",
       "      <th>start_date</th>\n",
       "      <th>end_date</th>\n",
       "      <th>ndvi</th>\n",
       "      <th>region_id</th>\n",
       "    </tr>\n",
       "  </thead>\n",
       "  <tbody>\n",
       "    <tr>\n",
       "      <th>0</th>\n",
       "      <td>2013-12-27 00:00:00+00:00</td>\n",
       "      <td>2014-01-03 00:00:00+00:00</td>\n",
       "      <td>0.679106</td>\n",
       "      <td>93</td>\n",
       "    </tr>\n",
       "    <tr>\n",
       "      <th>1</th>\n",
       "      <td>2014-01-01 00:00:00+00:00</td>\n",
       "      <td>2014-01-08 00:00:00+00:00</td>\n",
       "      <td>0.701431</td>\n",
       "      <td>93</td>\n",
       "    </tr>\n",
       "    <tr>\n",
       "      <th>2</th>\n",
       "      <td>2014-01-09 00:00:00+00:00</td>\n",
       "      <td>2014-01-16 00:00:00+00:00</td>\n",
       "      <td>0.745149</td>\n",
       "      <td>93</td>\n",
       "    </tr>\n",
       "    <tr>\n",
       "      <th>3</th>\n",
       "      <td>2014-01-17 00:00:00+00:00</td>\n",
       "      <td>2014-01-24 00:00:00+00:00</td>\n",
       "      <td>0.747391</td>\n",
       "      <td>93</td>\n",
       "    </tr>\n",
       "    <tr>\n",
       "      <th>4</th>\n",
       "      <td>2014-01-25 00:00:00+00:00</td>\n",
       "      <td>2014-02-01 00:00:00+00:00</td>\n",
       "      <td>0.768325</td>\n",
       "      <td>93</td>\n",
       "    </tr>\n",
       "  </tbody>\n",
       "</table>\n",
       "</div>"
      ],
      "text/plain": [
       "                 start_date                  end_date      ndvi  region_id\n",
       "0 2013-12-27 00:00:00+00:00 2014-01-03 00:00:00+00:00  0.679106         93\n",
       "1 2014-01-01 00:00:00+00:00 2014-01-08 00:00:00+00:00  0.701431         93\n",
       "2 2014-01-09 00:00:00+00:00 2014-01-16 00:00:00+00:00  0.745149         93\n",
       "3 2014-01-17 00:00:00+00:00 2014-01-24 00:00:00+00:00  0.747391         93\n",
       "4 2014-01-25 00:00:00+00:00 2014-02-01 00:00:00+00:00  0.768325         93"
      ]
     },
     "execution_count": 29,
     "metadata": {},
     "output_type": "execute_result"
    }
   ],
   "source": [
    "df_ndvi.head()"
   ]
  },
  {
   "cell_type": "code",
   "execution_count": 30,
   "metadata": {
    "colab": {
     "base_uri": "https://localhost:8080/",
     "height": 206
    },
    "id": "PJ8-Q17LMCqc",
    "outputId": "86e408ed-2193-4235-cb86-da0dde80b11d"
   },
   "outputs": [
    {
     "data": {
      "text/html": [
       "<div>\n",
       "<style scoped>\n",
       "    .dataframe tbody tr th:only-of-type {\n",
       "        vertical-align: middle;\n",
       "    }\n",
       "\n",
       "    .dataframe tbody tr th {\n",
       "        vertical-align: top;\n",
       "    }\n",
       "\n",
       "    .dataframe thead th {\n",
       "        text-align: right;\n",
       "    }\n",
       "</style>\n",
       "<table border=\"1\" class=\"dataframe\">\n",
       "  <thead>\n",
       "    <tr style=\"text-align: right;\">\n",
       "      <th></th>\n",
       "      <th>start_date</th>\n",
       "      <th>end_date</th>\n",
       "      <th>ndvi</th>\n",
       "      <th>region_id</th>\n",
       "    </tr>\n",
       "  </thead>\n",
       "  <tbody>\n",
       "    <tr>\n",
       "      <th>3333</th>\n",
       "      <td>2022-01-09 00:00:00+00:00</td>\n",
       "      <td>2022-01-16 00:00:00+00:00</td>\n",
       "      <td>0.798257</td>\n",
       "      <td>105</td>\n",
       "    </tr>\n",
       "    <tr>\n",
       "      <th>3334</th>\n",
       "      <td>2022-01-17 00:00:00+00:00</td>\n",
       "      <td>2022-01-24 00:00:00+00:00</td>\n",
       "      <td>0.793242</td>\n",
       "      <td>105</td>\n",
       "    </tr>\n",
       "    <tr>\n",
       "      <th>3335</th>\n",
       "      <td>2022-01-25 00:00:00+00:00</td>\n",
       "      <td>2022-02-01 00:00:00+00:00</td>\n",
       "      <td>0.804884</td>\n",
       "      <td>105</td>\n",
       "    </tr>\n",
       "    <tr>\n",
       "      <th>3336</th>\n",
       "      <td>2022-02-18 00:00:00+00:00</td>\n",
       "      <td>2022-02-25 00:00:00+00:00</td>\n",
       "      <td>0.776287</td>\n",
       "      <td>105</td>\n",
       "    </tr>\n",
       "    <tr>\n",
       "      <th>3337</th>\n",
       "      <td>2022-03-06 00:00:00+00:00</td>\n",
       "      <td>2022-03-13 00:00:00+00:00</td>\n",
       "      <td>0.795875</td>\n",
       "      <td>105</td>\n",
       "    </tr>\n",
       "  </tbody>\n",
       "</table>\n",
       "</div>"
      ],
      "text/plain": [
       "                    start_date                  end_date      ndvi  region_id\n",
       "3333 2022-01-09 00:00:00+00:00 2022-01-16 00:00:00+00:00  0.798257        105\n",
       "3334 2022-01-17 00:00:00+00:00 2022-01-24 00:00:00+00:00  0.793242        105\n",
       "3335 2022-01-25 00:00:00+00:00 2022-02-01 00:00:00+00:00  0.804884        105\n",
       "3336 2022-02-18 00:00:00+00:00 2022-02-25 00:00:00+00:00  0.776287        105\n",
       "3337 2022-03-06 00:00:00+00:00 2022-03-13 00:00:00+00:00  0.795875        105"
      ]
     },
     "execution_count": 30,
     "metadata": {},
     "output_type": "execute_result"
    }
   ],
   "source": [
    "df_ndvi.tail()"
   ]
  },
  {
   "cell_type": "code",
   "execution_count": null,
   "metadata": {
    "id": "Aa2mK8Oq2wcE"
   },
   "outputs": [],
   "source": []
  },
  {
   "cell_type": "code",
   "execution_count": 31,
   "metadata": {
    "colab": {
     "base_uri": "https://localhost:8080/",
     "height": 237
    },
    "id": "b7BYViJPMCqc",
    "outputId": "694e1204-2cc5-453a-dd1f-55771a152e96"
   },
   "outputs": [
    {
     "data": {
      "text/html": [
       "<div>\n",
       "<style scoped>\n",
       "    .dataframe tbody tr th:only-of-type {\n",
       "        vertical-align: middle;\n",
       "    }\n",
       "\n",
       "    .dataframe tbody tr th {\n",
       "        vertical-align: top;\n",
       "    }\n",
       "\n",
       "    .dataframe thead th {\n",
       "        text-align: right;\n",
       "    }\n",
       "</style>\n",
       "<table border=\"1\" class=\"dataframe\">\n",
       "  <thead>\n",
       "    <tr style=\"text-align: right;\">\n",
       "      <th></th>\n",
       "      <th></th>\n",
       "      <th>ndvi</th>\n",
       "      <th>region_id</th>\n",
       "    </tr>\n",
       "    <tr>\n",
       "      <th>region_id</th>\n",
       "      <th>end_date</th>\n",
       "      <th></th>\n",
       "      <th></th>\n",
       "    </tr>\n",
       "  </thead>\n",
       "  <tbody>\n",
       "    <tr>\n",
       "      <th rowspan=\"5\" valign=\"top\">93</th>\n",
       "      <th>2014-01-31 00:00:00+00:00</th>\n",
       "      <td>0.718269</td>\n",
       "      <td>93.0</td>\n",
       "    </tr>\n",
       "    <tr>\n",
       "      <th>2014-02-28 00:00:00+00:00</th>\n",
       "      <td>0.767647</td>\n",
       "      <td>93.0</td>\n",
       "    </tr>\n",
       "    <tr>\n",
       "      <th>2014-03-31 00:00:00+00:00</th>\n",
       "      <td>0.743301</td>\n",
       "      <td>93.0</td>\n",
       "    </tr>\n",
       "    <tr>\n",
       "      <th>2014-04-30 00:00:00+00:00</th>\n",
       "      <td>0.807792</td>\n",
       "      <td>93.0</td>\n",
       "    </tr>\n",
       "    <tr>\n",
       "      <th>2014-05-31 00:00:00+00:00</th>\n",
       "      <td>0.813410</td>\n",
       "      <td>93.0</td>\n",
       "    </tr>\n",
       "  </tbody>\n",
       "</table>\n",
       "</div>"
      ],
      "text/plain": [
       "                                         ndvi  region_id\n",
       "region_id end_date                                      \n",
       "93        2014-01-31 00:00:00+00:00  0.718269       93.0\n",
       "          2014-02-28 00:00:00+00:00  0.767647       93.0\n",
       "          2014-03-31 00:00:00+00:00  0.743301       93.0\n",
       "          2014-04-30 00:00:00+00:00  0.807792       93.0\n",
       "          2014-05-31 00:00:00+00:00  0.813410       93.0"
      ]
     },
     "execution_count": 31,
     "metadata": {},
     "output_type": "execute_result"
    }
   ],
   "source": [
    "# applying downscaling (resample by month)  to the NDVI measurement data from daily to monthly grouped by region \n",
    "\n",
    "\n",
    "def resample(group):\n",
    "    upsampled =  group.resample('1M').mean()\n",
    "    #interpolated = upsampled.interpolate(method='linear')\n",
    "    return upsampled\n",
    "\n",
    "sampled_ndvi_df = df_ndvi.set_index(['end_date']).groupby('region_id').apply(resample)\n",
    "sampled_ndvi_df.head()"
   ]
  },
  {
   "cell_type": "code",
   "execution_count": 32,
   "metadata": {
    "id": "9eqnB-3uMCqc"
   },
   "outputs": [],
   "source": [
    "sampled_ndvi_df.drop('region_id',axis=1,inplace=True)"
   ]
  },
  {
   "cell_type": "code",
   "execution_count": 33,
   "metadata": {
    "colab": {
     "base_uri": "https://localhost:8080/",
     "height": 206
    },
    "id": "dFoHDCF1MCqc",
    "outputId": "fb3e9908-adfe-4562-98e4-2eeb5b4441ca"
   },
   "outputs": [
    {
     "data": {
      "text/html": [
       "<div>\n",
       "<style scoped>\n",
       "    .dataframe tbody tr th:only-of-type {\n",
       "        vertical-align: middle;\n",
       "    }\n",
       "\n",
       "    .dataframe tbody tr th {\n",
       "        vertical-align: top;\n",
       "    }\n",
       "\n",
       "    .dataframe thead th {\n",
       "        text-align: right;\n",
       "    }\n",
       "</style>\n",
       "<table border=\"1\" class=\"dataframe\">\n",
       "  <thead>\n",
       "    <tr style=\"text-align: right;\">\n",
       "      <th></th>\n",
       "      <th>region_id</th>\n",
       "      <th>end_date</th>\n",
       "      <th>ndvi</th>\n",
       "    </tr>\n",
       "  </thead>\n",
       "  <tbody>\n",
       "    <tr>\n",
       "      <th>0</th>\n",
       "      <td>93</td>\n",
       "      <td>2014-01-31 00:00:00+00:00</td>\n",
       "      <td>0.718269</td>\n",
       "    </tr>\n",
       "    <tr>\n",
       "      <th>1</th>\n",
       "      <td>93</td>\n",
       "      <td>2014-02-28 00:00:00+00:00</td>\n",
       "      <td>0.767647</td>\n",
       "    </tr>\n",
       "    <tr>\n",
       "      <th>2</th>\n",
       "      <td>93</td>\n",
       "      <td>2014-03-31 00:00:00+00:00</td>\n",
       "      <td>0.743301</td>\n",
       "    </tr>\n",
       "    <tr>\n",
       "      <th>3</th>\n",
       "      <td>93</td>\n",
       "      <td>2014-04-30 00:00:00+00:00</td>\n",
       "      <td>0.807792</td>\n",
       "    </tr>\n",
       "    <tr>\n",
       "      <th>4</th>\n",
       "      <td>93</td>\n",
       "      <td>2014-05-31 00:00:00+00:00</td>\n",
       "      <td>0.813410</td>\n",
       "    </tr>\n",
       "  </tbody>\n",
       "</table>\n",
       "</div>"
      ],
      "text/plain": [
       "   region_id                  end_date      ndvi\n",
       "0         93 2014-01-31 00:00:00+00:00  0.718269\n",
       "1         93 2014-02-28 00:00:00+00:00  0.767647\n",
       "2         93 2014-03-31 00:00:00+00:00  0.743301\n",
       "3         93 2014-04-30 00:00:00+00:00  0.807792\n",
       "4         93 2014-05-31 00:00:00+00:00  0.813410"
      ]
     },
     "execution_count": 33,
     "metadata": {},
     "output_type": "execute_result"
    }
   ],
   "source": [
    "# converting indexes to column of dataframe\n",
    "sampled_ndvi_df = sampled_ndvi_df.reset_index()\n",
    "sampled_ndvi_df.head()"
   ]
  },
  {
   "cell_type": "code",
   "execution_count": 34,
   "metadata": {
    "colab": {
     "base_uri": "https://localhost:8080/",
     "height": 206
    },
    "id": "4Mbz86HTMCqc",
    "outputId": "69b49181-bab5-4ddd-b966-742f54f0cd6d"
   },
   "outputs": [
    {
     "data": {
      "text/html": [
       "<div>\n",
       "<style scoped>\n",
       "    .dataframe tbody tr th:only-of-type {\n",
       "        vertical-align: middle;\n",
       "    }\n",
       "\n",
       "    .dataframe tbody tr th {\n",
       "        vertical-align: top;\n",
       "    }\n",
       "\n",
       "    .dataframe thead th {\n",
       "        text-align: right;\n",
       "    }\n",
       "</style>\n",
       "<table border=\"1\" class=\"dataframe\">\n",
       "  <thead>\n",
       "    <tr style=\"text-align: right;\">\n",
       "      <th></th>\n",
       "      <th>region_id</th>\n",
       "      <th>end_date</th>\n",
       "      <th>ndvi</th>\n",
       "      <th>start_date</th>\n",
       "    </tr>\n",
       "  </thead>\n",
       "  <tbody>\n",
       "    <tr>\n",
       "      <th>0</th>\n",
       "      <td>93</td>\n",
       "      <td>2014-01-31</td>\n",
       "      <td>0.718269</td>\n",
       "      <td>2014-01-01</td>\n",
       "    </tr>\n",
       "    <tr>\n",
       "      <th>1</th>\n",
       "      <td>93</td>\n",
       "      <td>2014-02-28</td>\n",
       "      <td>0.767647</td>\n",
       "      <td>2014-02-01</td>\n",
       "    </tr>\n",
       "    <tr>\n",
       "      <th>2</th>\n",
       "      <td>93</td>\n",
       "      <td>2014-03-31</td>\n",
       "      <td>0.743301</td>\n",
       "      <td>2014-03-01</td>\n",
       "    </tr>\n",
       "    <tr>\n",
       "      <th>3</th>\n",
       "      <td>93</td>\n",
       "      <td>2014-04-30</td>\n",
       "      <td>0.807792</td>\n",
       "      <td>2014-04-01</td>\n",
       "    </tr>\n",
       "    <tr>\n",
       "      <th>4</th>\n",
       "      <td>93</td>\n",
       "      <td>2014-05-31</td>\n",
       "      <td>0.813410</td>\n",
       "      <td>2014-05-01</td>\n",
       "    </tr>\n",
       "  </tbody>\n",
       "</table>\n",
       "</div>"
      ],
      "text/plain": [
       "   region_id    end_date      ndvi  start_date\n",
       "0         93  2014-01-31  0.718269  2014-01-01\n",
       "1         93  2014-02-28  0.767647  2014-02-01\n",
       "2         93  2014-03-31  0.743301  2014-03-01\n",
       "3         93  2014-04-30  0.807792  2014-04-01\n",
       "4         93  2014-05-31  0.813410  2014-05-01"
      ]
     },
     "execution_count": 34,
     "metadata": {},
     "output_type": "execute_result"
    }
   ],
   "source": [
    "# making a new column for start date of the month\n",
    "sampled_ndvi_df['start_date'] = sampled_ndvi_df['end_date'] - pd.offsets.MonthBegin(1, normalize=True)\n",
    "sampled_ndvi_df['start_date'] = sampled_ndvi_df['start_date'].dt.date\n",
    "sampled_ndvi_df['end_date'] = sampled_ndvi_df['end_date'].dt.date\n",
    "\n",
    "sampled_ndvi_df.head()"
   ]
  },
  {
   "cell_type": "code",
   "execution_count": 35,
   "metadata": {
    "id": "K98O-nzBMCqd"
   },
   "outputs": [],
   "source": [
    "# rearranging the dataset\n",
    "sampled_ndvi_df = sampled_ndvi_df[['start_date','end_date','ndvi','region_id']]"
   ]
  },
  {
   "cell_type": "code",
   "execution_count": 36,
   "metadata": {
    "colab": {
     "base_uri": "https://localhost:8080/",
     "height": 206
    },
    "id": "cxAwm_Z-MCqd",
    "outputId": "5139c0d4-25c6-48e1-d715-f3c1f9c87d3d"
   },
   "outputs": [
    {
     "data": {
      "text/html": [
       "<div>\n",
       "<style scoped>\n",
       "    .dataframe tbody tr th:only-of-type {\n",
       "        vertical-align: middle;\n",
       "    }\n",
       "\n",
       "    .dataframe tbody tr th {\n",
       "        vertical-align: top;\n",
       "    }\n",
       "\n",
       "    .dataframe thead th {\n",
       "        text-align: right;\n",
       "    }\n",
       "</style>\n",
       "<table border=\"1\" class=\"dataframe\">\n",
       "  <thead>\n",
       "    <tr style=\"text-align: right;\">\n",
       "      <th></th>\n",
       "      <th>start_date</th>\n",
       "      <th>end_date</th>\n",
       "      <th>ndvi</th>\n",
       "      <th>region_id</th>\n",
       "    </tr>\n",
       "  </thead>\n",
       "  <tbody>\n",
       "    <tr>\n",
       "      <th>985</th>\n",
       "      <td>2021-11-01</td>\n",
       "      <td>2021-11-30</td>\n",
       "      <td>0.798444</td>\n",
       "      <td>105</td>\n",
       "    </tr>\n",
       "    <tr>\n",
       "      <th>986</th>\n",
       "      <td>2021-12-01</td>\n",
       "      <td>2021-12-31</td>\n",
       "      <td>0.811967</td>\n",
       "      <td>105</td>\n",
       "    </tr>\n",
       "    <tr>\n",
       "      <th>987</th>\n",
       "      <td>2022-01-01</td>\n",
       "      <td>2022-01-31</td>\n",
       "      <td>0.804896</td>\n",
       "      <td>105</td>\n",
       "    </tr>\n",
       "    <tr>\n",
       "      <th>988</th>\n",
       "      <td>2022-02-01</td>\n",
       "      <td>2022-02-28</td>\n",
       "      <td>0.790585</td>\n",
       "      <td>105</td>\n",
       "    </tr>\n",
       "    <tr>\n",
       "      <th>989</th>\n",
       "      <td>2022-03-01</td>\n",
       "      <td>2022-03-31</td>\n",
       "      <td>0.795875</td>\n",
       "      <td>105</td>\n",
       "    </tr>\n",
       "  </tbody>\n",
       "</table>\n",
       "</div>"
      ],
      "text/plain": [
       "     start_date    end_date      ndvi  region_id\n",
       "985  2021-11-01  2021-11-30  0.798444        105\n",
       "986  2021-12-01  2021-12-31  0.811967        105\n",
       "987  2022-01-01  2022-01-31  0.804896        105\n",
       "988  2022-02-01  2022-02-28  0.790585        105\n",
       "989  2022-03-01  2022-03-31  0.795875        105"
      ]
     },
     "execution_count": 36,
     "metadata": {},
     "output_type": "execute_result"
    }
   ],
   "source": [
    "sampled_ndvi_df.tail()"
   ]
  },
  {
   "cell_type": "code",
   "execution_count": 37,
   "metadata": {
    "colab": {
     "base_uri": "https://localhost:8080/"
    },
    "id": "lv5O08OVHK2n",
    "outputId": "0922dd6e-8bac-4c42-d0d4-5ab96ce302b2"
   },
   "outputs": [
    {
     "data": {
      "text/plain": [
       "((990, 4), (990, 4), (990, 4), (990, 4))"
      ]
     },
     "execution_count": 37,
     "metadata": {},
     "output_type": "execute_result"
    }
   ],
   "source": [
    "# checking the shape of all the 4 dataframes to merge them \n",
    "sampled_ndvi_df.shape,sampled_temp_df.shape,sampled_soil_df.shape, sampled_precip_df.shape"
   ]
  },
  {
   "cell_type": "markdown",
   "metadata": {
    "id": "RhUE6tGNKf8N"
   },
   "source": [
    "# Merging the dataframes on region id , end date and start date."
   ]
  },
  {
   "cell_type": "code",
   "execution_count": 38,
   "metadata": {
    "id": "qEra24cWdD4Z"
   },
   "outputs": [],
   "source": [
    "# merge the monthly data of soil moisture  with precipatation data\n",
    "soil_preci_df = pd.merge(sampled_soil_df, sampled_precip_df, on = [\"start_date\",'end_date',\"region_id\"])"
   ]
  },
  {
   "cell_type": "code",
   "execution_count": 39,
   "metadata": {
    "id": "58_LDpq8eLoP"
   },
   "outputs": [],
   "source": [
    "# merge the monthly soil moisture + precipattaion + temperature data\n",
    "soil_preci_temp_df = pd.merge(soil_preci_df, sampled_temp_df, on = [\"start_date\",'end_date',\"region_id\"])"
   ]
  },
  {
   "cell_type": "code",
   "execution_count": 40,
   "metadata": {
    "colab": {
     "base_uri": "https://localhost:8080/",
     "height": 206
    },
    "id": "URDKwHH8eNQn",
    "outputId": "27e6c87c-d97c-4b43-99ad-578542ed0e80"
   },
   "outputs": [
    {
     "data": {
      "text/html": [
       "<div>\n",
       "<style scoped>\n",
       "    .dataframe tbody tr th:only-of-type {\n",
       "        vertical-align: middle;\n",
       "    }\n",
       "\n",
       "    .dataframe tbody tr th {\n",
       "        vertical-align: top;\n",
       "    }\n",
       "\n",
       "    .dataframe thead th {\n",
       "        text-align: right;\n",
       "    }\n",
       "</style>\n",
       "<table border=\"1\" class=\"dataframe\">\n",
       "  <thead>\n",
       "    <tr style=\"text-align: right;\">\n",
       "      <th></th>\n",
       "      <th>start_date</th>\n",
       "      <th>end_date</th>\n",
       "      <th>smos</th>\n",
       "      <th>region_id</th>\n",
       "      <th>precip</th>\n",
       "      <th>temp</th>\n",
       "    </tr>\n",
       "  </thead>\n",
       "  <tbody>\n",
       "    <tr>\n",
       "      <th>0</th>\n",
       "      <td>2014-01-01</td>\n",
       "      <td>2014-01-31</td>\n",
       "      <td>0.287870</td>\n",
       "      <td>93</td>\n",
       "      <td>2.541758</td>\n",
       "      <td>25.482158</td>\n",
       "    </tr>\n",
       "    <tr>\n",
       "      <th>1</th>\n",
       "      <td>2014-02-01</td>\n",
       "      <td>2014-02-28</td>\n",
       "      <td>0.272979</td>\n",
       "      <td>93</td>\n",
       "      <td>0.326015</td>\n",
       "      <td>26.647786</td>\n",
       "    </tr>\n",
       "    <tr>\n",
       "      <th>2</th>\n",
       "      <td>2014-03-01</td>\n",
       "      <td>2014-03-31</td>\n",
       "      <td>0.254618</td>\n",
       "      <td>93</td>\n",
       "      <td>6.208490</td>\n",
       "      <td>29.379089</td>\n",
       "    </tr>\n",
       "    <tr>\n",
       "      <th>3</th>\n",
       "      <td>2014-04-01</td>\n",
       "      <td>2014-04-30</td>\n",
       "      <td>0.277936</td>\n",
       "      <td>93</td>\n",
       "      <td>10.433339</td>\n",
       "      <td>26.267849</td>\n",
       "    </tr>\n",
       "    <tr>\n",
       "      <th>4</th>\n",
       "      <td>2014-05-01</td>\n",
       "      <td>2014-05-31</td>\n",
       "      <td>0.238466</td>\n",
       "      <td>93</td>\n",
       "      <td>9.160731</td>\n",
       "      <td>26.642768</td>\n",
       "    </tr>\n",
       "  </tbody>\n",
       "</table>\n",
       "</div>"
      ],
      "text/plain": [
       "   start_date    end_date      smos  region_id     precip       temp\n",
       "0  2014-01-01  2014-01-31  0.287870         93   2.541758  25.482158\n",
       "1  2014-02-01  2014-02-28  0.272979         93   0.326015  26.647786\n",
       "2  2014-03-01  2014-03-31  0.254618         93   6.208490  29.379089\n",
       "3  2014-04-01  2014-04-30  0.277936         93  10.433339  26.267849\n",
       "4  2014-05-01  2014-05-31  0.238466         93   9.160731  26.642768"
      ]
     },
     "execution_count": 40,
     "metadata": {},
     "output_type": "execute_result"
    }
   ],
   "source": [
    "soil_preci_temp_df.head()"
   ]
  },
  {
   "cell_type": "code",
   "execution_count": 41,
   "metadata": {
    "colab": {
     "base_uri": "https://localhost:8080/"
    },
    "id": "_lNA03ufyevz",
    "outputId": "8da70312-2dd9-487b-bc9b-582a65508d39"
   },
   "outputs": [
    {
     "data": {
      "text/plain": [
       "start_date    0\n",
       "end_date      0\n",
       "ndvi          8\n",
       "region_id     0\n",
       "dtype: int64"
      ]
     },
     "execution_count": 41,
     "metadata": {},
     "output_type": "execute_result"
    }
   ],
   "source": [
    "# checking if the merged dataframes has snull values\n",
    "sampled_ndvi_df.isnull().sum()"
   ]
  },
  {
   "cell_type": "code",
   "execution_count": 42,
   "metadata": {
    "id": "4VXWQR8ovrS4"
   },
   "outputs": [],
   "source": [
    "\n",
    "# fill for nan values\n",
    "sampled_ndvi_df = sampled_ndvi_df.fillna(method='ffill')"
   ]
  },
  {
   "cell_type": "code",
   "execution_count": 43,
   "metadata": {
    "colab": {
     "base_uri": "https://localhost:8080/"
    },
    "id": "Sco3xdl1v0ZY",
    "outputId": "d8b03ee2-94ac-4bdb-968a-eb185a8dc3a6"
   },
   "outputs": [
    {
     "data": {
      "text/plain": [
       "start_date    0\n",
       "end_date      0\n",
       "ndvi          0\n",
       "region_id     0\n",
       "dtype: int64"
      ]
     },
     "execution_count": 43,
     "metadata": {},
     "output_type": "execute_result"
    }
   ],
   "source": [
    "sampled_ndvi_df.isnull().sum()"
   ]
  },
  {
   "cell_type": "code",
   "execution_count": 44,
   "metadata": {
    "colab": {
     "base_uri": "https://localhost:8080/"
    },
    "id": "1ePqo5Pqv5x5",
    "outputId": "b3d572f6-110a-4ba3-ab86-d761af1eada1"
   },
   "outputs": [
    {
     "data": {
      "text/plain": [
       "((990, 6), (990, 4))"
      ]
     },
     "execution_count": 44,
     "metadata": {},
     "output_type": "execute_result"
    }
   ],
   "source": [
    "soil_preci_temp_df.shape, sampled_ndvi_df.shape"
   ]
  },
  {
   "cell_type": "code",
   "execution_count": 45,
   "metadata": {
    "id": "ooWMtSc4eil7"
   },
   "outputs": [],
   "source": [
    "# merging soil moisture data + temperature data + precipatation data + ndvi MONTHLY data\n",
    "soil_preci_temp_ndvi_df = pd.merge(sampled_ndvi_df, soil_preci_temp_df, on = [\"start_date\",'end_date',\"region_id\"])"
   ]
  },
  {
   "cell_type": "code",
   "execution_count": 46,
   "metadata": {
    "colab": {
     "base_uri": "https://localhost:8080/",
     "height": 206
    },
    "id": "ZyUXHfNufZWo",
    "outputId": "ee6ed682-5eda-4806-f73c-535e6cb13fed"
   },
   "outputs": [
    {
     "data": {
      "text/html": [
       "<div>\n",
       "<style scoped>\n",
       "    .dataframe tbody tr th:only-of-type {\n",
       "        vertical-align: middle;\n",
       "    }\n",
       "\n",
       "    .dataframe tbody tr th {\n",
       "        vertical-align: top;\n",
       "    }\n",
       "\n",
       "    .dataframe thead th {\n",
       "        text-align: right;\n",
       "    }\n",
       "</style>\n",
       "<table border=\"1\" class=\"dataframe\">\n",
       "  <thead>\n",
       "    <tr style=\"text-align: right;\">\n",
       "      <th></th>\n",
       "      <th>start_date</th>\n",
       "      <th>end_date</th>\n",
       "      <th>ndvi</th>\n",
       "      <th>region_id</th>\n",
       "      <th>smos</th>\n",
       "      <th>precip</th>\n",
       "      <th>temp</th>\n",
       "    </tr>\n",
       "  </thead>\n",
       "  <tbody>\n",
       "    <tr>\n",
       "      <th>0</th>\n",
       "      <td>2014-01-01</td>\n",
       "      <td>2014-01-31</td>\n",
       "      <td>0.718269</td>\n",
       "      <td>93</td>\n",
       "      <td>0.287870</td>\n",
       "      <td>2.541758</td>\n",
       "      <td>25.482158</td>\n",
       "    </tr>\n",
       "    <tr>\n",
       "      <th>1</th>\n",
       "      <td>2014-02-01</td>\n",
       "      <td>2014-02-28</td>\n",
       "      <td>0.767647</td>\n",
       "      <td>93</td>\n",
       "      <td>0.272979</td>\n",
       "      <td>0.326015</td>\n",
       "      <td>26.647786</td>\n",
       "    </tr>\n",
       "    <tr>\n",
       "      <th>2</th>\n",
       "      <td>2014-03-01</td>\n",
       "      <td>2014-03-31</td>\n",
       "      <td>0.743301</td>\n",
       "      <td>93</td>\n",
       "      <td>0.254618</td>\n",
       "      <td>6.208490</td>\n",
       "      <td>29.379089</td>\n",
       "    </tr>\n",
       "    <tr>\n",
       "      <th>3</th>\n",
       "      <td>2014-04-01</td>\n",
       "      <td>2014-04-30</td>\n",
       "      <td>0.807792</td>\n",
       "      <td>93</td>\n",
       "      <td>0.277936</td>\n",
       "      <td>10.433339</td>\n",
       "      <td>26.267849</td>\n",
       "    </tr>\n",
       "    <tr>\n",
       "      <th>4</th>\n",
       "      <td>2014-05-01</td>\n",
       "      <td>2014-05-31</td>\n",
       "      <td>0.813410</td>\n",
       "      <td>93</td>\n",
       "      <td>0.238466</td>\n",
       "      <td>9.160731</td>\n",
       "      <td>26.642768</td>\n",
       "    </tr>\n",
       "  </tbody>\n",
       "</table>\n",
       "</div>"
      ],
      "text/plain": [
       "   start_date    end_date      ndvi  region_id      smos     precip       temp\n",
       "0  2014-01-01  2014-01-31  0.718269         93  0.287870   2.541758  25.482158\n",
       "1  2014-02-01  2014-02-28  0.767647         93  0.272979   0.326015  26.647786\n",
       "2  2014-03-01  2014-03-31  0.743301         93  0.254618   6.208490  29.379089\n",
       "3  2014-04-01  2014-04-30  0.807792         93  0.277936  10.433339  26.267849\n",
       "4  2014-05-01  2014-05-31  0.813410         93  0.238466   9.160731  26.642768"
      ]
     },
     "execution_count": 46,
     "metadata": {},
     "output_type": "execute_result"
    }
   ],
   "source": [
    "soil_preci_temp_ndvi_df.head()"
   ]
  },
  {
   "cell_type": "code",
   "execution_count": 47,
   "metadata": {
    "colab": {
     "base_uri": "https://localhost:8080/"
    },
    "id": "6semEinrf3Iu",
    "outputId": "2f718568-8e60-462c-a8c5-8b778d96264b"
   },
   "outputs": [
    {
     "data": {
      "text/plain": [
       "((990, 7), (990, 4))"
      ]
     },
     "execution_count": 47,
     "metadata": {},
     "output_type": "execute_result"
    }
   ],
   "source": [
    "soil_preci_temp_ndvi_df.shape, sampled_ndvi_df.shape"
   ]
  },
  {
   "cell_type": "code",
   "execution_count": 48,
   "metadata": {
    "colab": {
     "base_uri": "https://localhost:8080/"
    },
    "id": "5upboDvDLQ0X",
    "outputId": "e362c7c4-8100-4c86-f767-5b3d2fa81a4c"
   },
   "outputs": [
    {
     "data": {
      "text/plain": [
       "start_date    0\n",
       "end_date      0\n",
       "ndvi          0\n",
       "region_id     0\n",
       "smos          0\n",
       "precip        0\n",
       "temp          0\n",
       "dtype: int64"
      ]
     },
     "execution_count": 48,
     "metadata": {},
     "output_type": "execute_result"
    }
   ],
   "source": [
    "# checking for null values\n",
    "soil_preci_temp_ndvi_df.isnull().sum()"
   ]
  },
  {
   "cell_type": "code",
   "execution_count": 49,
   "metadata": {
    "colab": {
     "base_uri": "https://localhost:8080/"
    },
    "id": "dxIFHbs5Laoo",
    "outputId": "4ca511a9-3f43-42e7-bd4e-0396c4eb74a5"
   },
   "outputs": [
    {
     "name": "stdout",
     "output_type": "stream",
     "text": [
      "<class 'pandas.core.frame.DataFrame'>\n",
      "Int64Index: 990 entries, 0 to 989\n",
      "Data columns (total 7 columns):\n",
      " #   Column      Non-Null Count  Dtype  \n",
      "---  ------      --------------  -----  \n",
      " 0   start_date  990 non-null    object \n",
      " 1   end_date    990 non-null    object \n",
      " 2   ndvi        990 non-null    float64\n",
      " 3   region_id   990 non-null    int64  \n",
      " 4   smos        990 non-null    float64\n",
      " 5   precip      990 non-null    float64\n",
      " 6   temp        990 non-null    float64\n",
      "dtypes: float64(4), int64(1), object(2)\n",
      "memory usage: 61.9+ KB\n"
     ]
    }
   ],
   "source": [
    "# information of  the data frame\n",
    "soil_preci_temp_ndvi_df.info()"
   ]
  },
  {
   "cell_type": "code",
   "execution_count": 50,
   "metadata": {
    "id": "aqn6h4gAy9X6"
   },
   "outputs": [],
   "source": [
    "# converting the date objects to date time\n",
    "soil_preci_temp_ndvi_df[ 'start_date' ] = pd.to_datetime(soil_preci_temp_ndvi_df['start_date'],utc = True)\n",
    "soil_preci_temp_ndvi_df[ 'end_date' ] = pd.to_datetime(soil_preci_temp_ndvi_df['end_date'],utc = True)"
   ]
  },
  {
   "cell_type": "markdown",
   "metadata": {
    "id": "AYC-iX_RLmZW"
   },
   "source": [
    "# After downsampling the daily data to monthly and merging all of them  , now is the time to merge with the labeled dataset of production Quantity. "
   ]
  },
  {
   "cell_type": "code",
   "execution_count": 51,
   "metadata": {
    "colab": {
     "base_uri": "https://localhost:8080/",
     "height": 206
    },
    "id": "aTIzCYSD8dnx",
    "outputId": "c703c03e-30c4-4408-d6b6-78da97047811"
   },
   "outputs": [
    {
     "data": {
      "text/html": [
       "<div>\n",
       "<style scoped>\n",
       "    .dataframe tbody tr th:only-of-type {\n",
       "        vertical-align: middle;\n",
       "    }\n",
       "\n",
       "    .dataframe tbody tr th {\n",
       "        vertical-align: top;\n",
       "    }\n",
       "\n",
       "    .dataframe thead th {\n",
       "        text-align: right;\n",
       "    }\n",
       "</style>\n",
       "<table border=\"1\" class=\"dataframe\">\n",
       "  <thead>\n",
       "    <tr style=\"text-align: right;\">\n",
       "      <th></th>\n",
       "      <th>start_date</th>\n",
       "      <th>end_date</th>\n",
       "      <th>prod</th>\n",
       "      <th>region_id</th>\n",
       "    </tr>\n",
       "  </thead>\n",
       "  <tbody>\n",
       "    <tr>\n",
       "      <th>0</th>\n",
       "      <td>2015-01-01 00:00:00+00:00</td>\n",
       "      <td>2015-01-31 00:00:00+00:00</td>\n",
       "      <td>171725</td>\n",
       "      <td>93</td>\n",
       "    </tr>\n",
       "    <tr>\n",
       "      <th>1</th>\n",
       "      <td>2015-02-01 00:00:00+00:00</td>\n",
       "      <td>2015-02-28 00:00:00+00:00</td>\n",
       "      <td>188325</td>\n",
       "      <td>93</td>\n",
       "    </tr>\n",
       "    <tr>\n",
       "      <th>2</th>\n",
       "      <td>2015-03-01 00:00:00+00:00</td>\n",
       "      <td>2015-03-31 00:00:00+00:00</td>\n",
       "      <td>247856</td>\n",
       "      <td>93</td>\n",
       "    </tr>\n",
       "    <tr>\n",
       "      <th>3</th>\n",
       "      <td>2015-04-01 00:00:00+00:00</td>\n",
       "      <td>2015-04-30 00:00:00+00:00</td>\n",
       "      <td>282791</td>\n",
       "      <td>93</td>\n",
       "    </tr>\n",
       "    <tr>\n",
       "      <th>4</th>\n",
       "      <td>2015-05-01 00:00:00+00:00</td>\n",
       "      <td>2015-05-31 00:00:00+00:00</td>\n",
       "      <td>291057</td>\n",
       "      <td>93</td>\n",
       "    </tr>\n",
       "  </tbody>\n",
       "</table>\n",
       "</div>"
      ],
      "text/plain": [
       "                 start_date                  end_date    prod  region_id\n",
       "0 2015-01-01 00:00:00+00:00 2015-01-31 00:00:00+00:00  171725         93\n",
       "1 2015-02-01 00:00:00+00:00 2015-02-28 00:00:00+00:00  188325         93\n",
       "2 2015-03-01 00:00:00+00:00 2015-03-31 00:00:00+00:00  247856         93\n",
       "3 2015-04-01 00:00:00+00:00 2015-04-30 00:00:00+00:00  282791         93\n",
       "4 2015-05-01 00:00:00+00:00 2015-05-31 00:00:00+00:00  291057         93"
      ]
     },
     "execution_count": 51,
     "metadata": {},
     "output_type": "execute_result"
    }
   ],
   "source": [
    "# check the monthly production quantity dataset (labeled one)\n",
    "df_prod_qty.head()"
   ]
  },
  {
   "cell_type": "code",
   "execution_count": 52,
   "metadata": {
    "colab": {
     "base_uri": "https://localhost:8080/"
    },
    "id": "FChVhBfoL92n",
    "outputId": "9b447e6f-1c84-4c3e-bcdc-0c528d6854fa"
   },
   "outputs": [
    {
     "data": {
      "text/plain": [
       "start_date    0\n",
       "end_date      0\n",
       "prod          0\n",
       "region_id     0\n",
       "dtype: int64"
      ]
     },
     "execution_count": 52,
     "metadata": {},
     "output_type": "execute_result"
    }
   ],
   "source": [
    "# check null values\n",
    "df_prod_qty.isnull().sum()"
   ]
  },
  {
   "cell_type": "code",
   "execution_count": null,
   "metadata": {
    "id": "pDwy7J0aMMsc"
   },
   "outputs": [],
   "source": []
  },
  {
   "cell_type": "markdown",
   "metadata": {
    "id": "nAZrWgH9MPlZ"
   },
   "source": [
    "#Merging the monthly production quantity dataset with other datasets to train and test the prediction model."
   ]
  },
  {
   "cell_type": "code",
   "execution_count": 53,
   "metadata": {
    "id": "2gxDHS2XzF1n"
   },
   "outputs": [],
   "source": [
    "# merge on left as we want the data to be aligned with labelled data\n",
    "df_merged = pd.merge(df_prod_qty,soil_preci_temp_ndvi_df,how='left',on = [\"start_date\",'end_date',\"region_id\"])"
   ]
  },
  {
   "cell_type": "code",
   "execution_count": 54,
   "metadata": {
    "colab": {
     "base_uri": "https://localhost:8080/"
    },
    "id": "VJO8YuwXzQRo",
    "outputId": "93ecb4a7-9853-4cd6-9166-e020bc4cffa4"
   },
   "outputs": [
    {
     "data": {
      "text/plain": [
       "((720, 8), (720, 4))"
      ]
     },
     "execution_count": 54,
     "metadata": {},
     "output_type": "execute_result"
    }
   ],
   "source": [
    "# check shape \n",
    "df_merged.shape,df_prod_qty.shape"
   ]
  },
  {
   "cell_type": "code",
   "execution_count": 55,
   "metadata": {
    "colab": {
     "base_uri": "https://localhost:8080/"
    },
    "id": "5PhHZ43XzxF-",
    "outputId": "13f01177-495b-4b28-a2ac-40a92e13d7ec"
   },
   "outputs": [
    {
     "data": {
      "text/plain": [
       "start_date    0\n",
       "end_date      0\n",
       "prod          0\n",
       "region_id     0\n",
       "ndvi          0\n",
       "smos          0\n",
       "precip        0\n",
       "temp          0\n",
       "dtype: int64"
      ]
     },
     "execution_count": 55,
     "metadata": {},
     "output_type": "execute_result"
    }
   ],
   "source": [
    "# check for null values\n",
    "df_merged.isnull().sum()"
   ]
  },
  {
   "cell_type": "code",
   "execution_count": 56,
   "metadata": {
    "colab": {
     "base_uri": "https://localhost:8080/",
     "height": 206
    },
    "id": "xTvs2ucr0Nem",
    "outputId": "3a2b9826-33a7-4cff-d637-43cb96ee696e"
   },
   "outputs": [
    {
     "data": {
      "text/html": [
       "<div>\n",
       "<style scoped>\n",
       "    .dataframe tbody tr th:only-of-type {\n",
       "        vertical-align: middle;\n",
       "    }\n",
       "\n",
       "    .dataframe tbody tr th {\n",
       "        vertical-align: top;\n",
       "    }\n",
       "\n",
       "    .dataframe thead th {\n",
       "        text-align: right;\n",
       "    }\n",
       "</style>\n",
       "<table border=\"1\" class=\"dataframe\">\n",
       "  <thead>\n",
       "    <tr style=\"text-align: right;\">\n",
       "      <th></th>\n",
       "      <th>start_date</th>\n",
       "      <th>end_date</th>\n",
       "      <th>prod</th>\n",
       "      <th>region_id</th>\n",
       "      <th>ndvi</th>\n",
       "      <th>smos</th>\n",
       "      <th>precip</th>\n",
       "      <th>temp</th>\n",
       "    </tr>\n",
       "  </thead>\n",
       "  <tbody>\n",
       "    <tr>\n",
       "      <th>0</th>\n",
       "      <td>2015-01-01 00:00:00+00:00</td>\n",
       "      <td>2015-01-31 00:00:00+00:00</td>\n",
       "      <td>171725</td>\n",
       "      <td>93</td>\n",
       "      <td>0.755540</td>\n",
       "      <td>0.318552</td>\n",
       "      <td>4.394452</td>\n",
       "      <td>25.003593</td>\n",
       "    </tr>\n",
       "    <tr>\n",
       "      <th>1</th>\n",
       "      <td>2015-02-01 00:00:00+00:00</td>\n",
       "      <td>2015-02-28 00:00:00+00:00</td>\n",
       "      <td>188325</td>\n",
       "      <td>93</td>\n",
       "      <td>0.767399</td>\n",
       "      <td>0.291452</td>\n",
       "      <td>1.206137</td>\n",
       "      <td>26.807568</td>\n",
       "    </tr>\n",
       "    <tr>\n",
       "      <th>2</th>\n",
       "      <td>2015-03-01 00:00:00+00:00</td>\n",
       "      <td>2015-03-31 00:00:00+00:00</td>\n",
       "      <td>247856</td>\n",
       "      <td>93</td>\n",
       "      <td>0.742958</td>\n",
       "      <td>0.251969</td>\n",
       "      <td>3.454652</td>\n",
       "      <td>26.954109</td>\n",
       "    </tr>\n",
       "    <tr>\n",
       "      <th>3</th>\n",
       "      <td>2015-04-01 00:00:00+00:00</td>\n",
       "      <td>2015-04-30 00:00:00+00:00</td>\n",
       "      <td>282791</td>\n",
       "      <td>93</td>\n",
       "      <td>0.784608</td>\n",
       "      <td>0.248915</td>\n",
       "      <td>10.466472</td>\n",
       "      <td>26.948865</td>\n",
       "    </tr>\n",
       "    <tr>\n",
       "      <th>4</th>\n",
       "      <td>2015-05-01 00:00:00+00:00</td>\n",
       "      <td>2015-05-31 00:00:00+00:00</td>\n",
       "      <td>291057</td>\n",
       "      <td>93</td>\n",
       "      <td>0.804500</td>\n",
       "      <td>0.280602</td>\n",
       "      <td>9.007986</td>\n",
       "      <td>25.405121</td>\n",
       "    </tr>\n",
       "  </tbody>\n",
       "</table>\n",
       "</div>"
      ],
      "text/plain": [
       "                 start_date                  end_date    prod  region_id  \\\n",
       "0 2015-01-01 00:00:00+00:00 2015-01-31 00:00:00+00:00  171725         93   \n",
       "1 2015-02-01 00:00:00+00:00 2015-02-28 00:00:00+00:00  188325         93   \n",
       "2 2015-03-01 00:00:00+00:00 2015-03-31 00:00:00+00:00  247856         93   \n",
       "3 2015-04-01 00:00:00+00:00 2015-04-30 00:00:00+00:00  282791         93   \n",
       "4 2015-05-01 00:00:00+00:00 2015-05-31 00:00:00+00:00  291057         93   \n",
       "\n",
       "       ndvi      smos     precip       temp  \n",
       "0  0.755540  0.318552   4.394452  25.003593  \n",
       "1  0.767399  0.291452   1.206137  26.807568  \n",
       "2  0.742958  0.251969   3.454652  26.954109  \n",
       "3  0.784608  0.248915  10.466472  26.948865  \n",
       "4  0.804500  0.280602   9.007986  25.405121  "
      ]
     },
     "execution_count": 56,
     "metadata": {},
     "output_type": "execute_result"
    }
   ],
   "source": [
    "# check head\n",
    "df_merged.head()"
   ]
  },
  {
   "cell_type": "code",
   "execution_count": 57,
   "metadata": {
    "colab": {
     "base_uri": "https://localhost:8080/",
     "height": 206
    },
    "id": "FrcBYvml8IAC",
    "outputId": "b6ee70a5-9601-44ce-8e26-62ad7145932b"
   },
   "outputs": [
    {
     "data": {
      "text/html": [
       "<div>\n",
       "<style scoped>\n",
       "    .dataframe tbody tr th:only-of-type {\n",
       "        vertical-align: middle;\n",
       "    }\n",
       "\n",
       "    .dataframe tbody tr th {\n",
       "        vertical-align: top;\n",
       "    }\n",
       "\n",
       "    .dataframe thead th {\n",
       "        text-align: right;\n",
       "    }\n",
       "</style>\n",
       "<table border=\"1\" class=\"dataframe\">\n",
       "  <thead>\n",
       "    <tr style=\"text-align: right;\">\n",
       "      <th></th>\n",
       "      <th>start_date</th>\n",
       "      <th>end_date</th>\n",
       "      <th>prod</th>\n",
       "      <th>region_id</th>\n",
       "      <th>ndvi</th>\n",
       "      <th>smos</th>\n",
       "      <th>precip</th>\n",
       "      <th>temp</th>\n",
       "    </tr>\n",
       "  </thead>\n",
       "  <tbody>\n",
       "    <tr>\n",
       "      <th>715</th>\n",
       "      <td>2020-08-01 00:00:00+00:00</td>\n",
       "      <td>2020-08-31 00:00:00+00:00</td>\n",
       "      <td>57818</td>\n",
       "      <td>105</td>\n",
       "      <td>0.815462</td>\n",
       "      <td>0.225784</td>\n",
       "      <td>7.635350</td>\n",
       "      <td>27.424585</td>\n",
       "    </tr>\n",
       "    <tr>\n",
       "      <th>716</th>\n",
       "      <td>2020-09-01 00:00:00+00:00</td>\n",
       "      <td>2020-09-30 00:00:00+00:00</td>\n",
       "      <td>57474</td>\n",
       "      <td>105</td>\n",
       "      <td>0.819274</td>\n",
       "      <td>0.277477</td>\n",
       "      <td>6.852630</td>\n",
       "      <td>27.940492</td>\n",
       "    </tr>\n",
       "    <tr>\n",
       "      <th>717</th>\n",
       "      <td>2020-10-01 00:00:00+00:00</td>\n",
       "      <td>2020-10-31 00:00:00+00:00</td>\n",
       "      <td>51821</td>\n",
       "      <td>105</td>\n",
       "      <td>0.806183</td>\n",
       "      <td>0.277670</td>\n",
       "      <td>11.276676</td>\n",
       "      <td>27.048770</td>\n",
       "    </tr>\n",
       "    <tr>\n",
       "      <th>718</th>\n",
       "      <td>2020-11-01 00:00:00+00:00</td>\n",
       "      <td>2020-11-30 00:00:00+00:00</td>\n",
       "      <td>44947</td>\n",
       "      <td>105</td>\n",
       "      <td>0.803468</td>\n",
       "      <td>0.302014</td>\n",
       "      <td>17.676531</td>\n",
       "      <td>24.715070</td>\n",
       "    </tr>\n",
       "    <tr>\n",
       "      <th>719</th>\n",
       "      <td>2020-12-01 00:00:00+00:00</td>\n",
       "      <td>2020-12-31 00:00:00+00:00</td>\n",
       "      <td>35728</td>\n",
       "      <td>105</td>\n",
       "      <td>0.778310</td>\n",
       "      <td>0.349358</td>\n",
       "      <td>14.751862</td>\n",
       "      <td>23.856746</td>\n",
       "    </tr>\n",
       "  </tbody>\n",
       "</table>\n",
       "</div>"
      ],
      "text/plain": [
       "                   start_date                  end_date   prod  region_id  \\\n",
       "715 2020-08-01 00:00:00+00:00 2020-08-31 00:00:00+00:00  57818        105   \n",
       "716 2020-09-01 00:00:00+00:00 2020-09-30 00:00:00+00:00  57474        105   \n",
       "717 2020-10-01 00:00:00+00:00 2020-10-31 00:00:00+00:00  51821        105   \n",
       "718 2020-11-01 00:00:00+00:00 2020-11-30 00:00:00+00:00  44947        105   \n",
       "719 2020-12-01 00:00:00+00:00 2020-12-31 00:00:00+00:00  35728        105   \n",
       "\n",
       "         ndvi      smos     precip       temp  \n",
       "715  0.815462  0.225784   7.635350  27.424585  \n",
       "716  0.819274  0.277477   6.852630  27.940492  \n",
       "717  0.806183  0.277670  11.276676  27.048770  \n",
       "718  0.803468  0.302014  17.676531  24.715070  \n",
       "719  0.778310  0.349358  14.751862  23.856746  "
      ]
     },
     "execution_count": 57,
     "metadata": {},
     "output_type": "execute_result"
    }
   ],
   "source": [
    "df_merged.tail()"
   ]
  },
  {
   "cell_type": "markdown",
   "metadata": {
    "id": "5kRRxBMYMu6z"
   },
   "source": [
    "#Feature Engineering to obtain days."
   ]
  },
  {
   "cell_type": "code",
   "execution_count": 58,
   "metadata": {
    "id": "-6unPKxx0vw2"
   },
   "outputs": [],
   "source": [
    "# get number of days from dates and convert into required format\n",
    "\n",
    "df_merged[['end_date','start_date']] = df_merged[['end_date','start_date']].apply(pd.to_datetime) #if conversion required\n",
    "df_merged['days'] = (df_merged['end_date'] - df_merged['start_date']).dt.days"
   ]
  },
  {
   "cell_type": "code",
   "execution_count": 59,
   "metadata": {
    "colab": {
     "base_uri": "https://localhost:8080/",
     "height": 206
    },
    "id": "KLtI6xI-37pm",
    "outputId": "b6b096c5-18ae-4720-b582-bd1fa6f5521c"
   },
   "outputs": [
    {
     "data": {
      "text/html": [
       "<div>\n",
       "<style scoped>\n",
       "    .dataframe tbody tr th:only-of-type {\n",
       "        vertical-align: middle;\n",
       "    }\n",
       "\n",
       "    .dataframe tbody tr th {\n",
       "        vertical-align: top;\n",
       "    }\n",
       "\n",
       "    .dataframe thead th {\n",
       "        text-align: right;\n",
       "    }\n",
       "</style>\n",
       "<table border=\"1\" class=\"dataframe\">\n",
       "  <thead>\n",
       "    <tr style=\"text-align: right;\">\n",
       "      <th></th>\n",
       "      <th>start_date</th>\n",
       "      <th>end_date</th>\n",
       "      <th>prod</th>\n",
       "      <th>region_id</th>\n",
       "      <th>ndvi</th>\n",
       "      <th>smos</th>\n",
       "      <th>precip</th>\n",
       "      <th>temp</th>\n",
       "      <th>days</th>\n",
       "    </tr>\n",
       "  </thead>\n",
       "  <tbody>\n",
       "    <tr>\n",
       "      <th>715</th>\n",
       "      <td>2020-08-01 00:00:00+00:00</td>\n",
       "      <td>2020-08-31 00:00:00+00:00</td>\n",
       "      <td>57818</td>\n",
       "      <td>105</td>\n",
       "      <td>0.815462</td>\n",
       "      <td>0.225784</td>\n",
       "      <td>7.635350</td>\n",
       "      <td>27.424585</td>\n",
       "      <td>30</td>\n",
       "    </tr>\n",
       "    <tr>\n",
       "      <th>716</th>\n",
       "      <td>2020-09-01 00:00:00+00:00</td>\n",
       "      <td>2020-09-30 00:00:00+00:00</td>\n",
       "      <td>57474</td>\n",
       "      <td>105</td>\n",
       "      <td>0.819274</td>\n",
       "      <td>0.277477</td>\n",
       "      <td>6.852630</td>\n",
       "      <td>27.940492</td>\n",
       "      <td>29</td>\n",
       "    </tr>\n",
       "    <tr>\n",
       "      <th>717</th>\n",
       "      <td>2020-10-01 00:00:00+00:00</td>\n",
       "      <td>2020-10-31 00:00:00+00:00</td>\n",
       "      <td>51821</td>\n",
       "      <td>105</td>\n",
       "      <td>0.806183</td>\n",
       "      <td>0.277670</td>\n",
       "      <td>11.276676</td>\n",
       "      <td>27.048770</td>\n",
       "      <td>30</td>\n",
       "    </tr>\n",
       "    <tr>\n",
       "      <th>718</th>\n",
       "      <td>2020-11-01 00:00:00+00:00</td>\n",
       "      <td>2020-11-30 00:00:00+00:00</td>\n",
       "      <td>44947</td>\n",
       "      <td>105</td>\n",
       "      <td>0.803468</td>\n",
       "      <td>0.302014</td>\n",
       "      <td>17.676531</td>\n",
       "      <td>24.715070</td>\n",
       "      <td>29</td>\n",
       "    </tr>\n",
       "    <tr>\n",
       "      <th>719</th>\n",
       "      <td>2020-12-01 00:00:00+00:00</td>\n",
       "      <td>2020-12-31 00:00:00+00:00</td>\n",
       "      <td>35728</td>\n",
       "      <td>105</td>\n",
       "      <td>0.778310</td>\n",
       "      <td>0.349358</td>\n",
       "      <td>14.751862</td>\n",
       "      <td>23.856746</td>\n",
       "      <td>30</td>\n",
       "    </tr>\n",
       "  </tbody>\n",
       "</table>\n",
       "</div>"
      ],
      "text/plain": [
       "                   start_date                  end_date   prod  region_id  \\\n",
       "715 2020-08-01 00:00:00+00:00 2020-08-31 00:00:00+00:00  57818        105   \n",
       "716 2020-09-01 00:00:00+00:00 2020-09-30 00:00:00+00:00  57474        105   \n",
       "717 2020-10-01 00:00:00+00:00 2020-10-31 00:00:00+00:00  51821        105   \n",
       "718 2020-11-01 00:00:00+00:00 2020-11-30 00:00:00+00:00  44947        105   \n",
       "719 2020-12-01 00:00:00+00:00 2020-12-31 00:00:00+00:00  35728        105   \n",
       "\n",
       "         ndvi      smos     precip       temp  days  \n",
       "715  0.815462  0.225784   7.635350  27.424585    30  \n",
       "716  0.819274  0.277477   6.852630  27.940492    29  \n",
       "717  0.806183  0.277670  11.276676  27.048770    30  \n",
       "718  0.803468  0.302014  17.676531  24.715070    29  \n",
       "719  0.778310  0.349358  14.751862  23.856746    30  "
      ]
     },
     "execution_count": 59,
     "metadata": {},
     "output_type": "execute_result"
    }
   ],
   "source": [
    "df_merged.tail()"
   ]
  },
  {
   "cell_type": "markdown",
   "metadata": {
    "id": "8TzSLmSZNfnp"
   },
   "source": [
    "# Remove the wanted dates which are not present in labelled data as Production quantity data (labelled data )only has data from n January 2015 to Dec 2020."
   ]
  },
  {
   "cell_type": "code",
   "execution_count": 60,
   "metadata": {
    "colab": {
     "base_uri": "https://localhost:8080/",
     "height": 206
    },
    "id": "ReDI7Vp99FpN",
    "outputId": "40374b4e-def6-4f44-98ad-72f0559b8aa0"
   },
   "outputs": [
    {
     "data": {
      "text/html": [
       "<div>\n",
       "<style scoped>\n",
       "    .dataframe tbody tr th:only-of-type {\n",
       "        vertical-align: middle;\n",
       "    }\n",
       "\n",
       "    .dataframe tbody tr th {\n",
       "        vertical-align: top;\n",
       "    }\n",
       "\n",
       "    .dataframe thead th {\n",
       "        text-align: right;\n",
       "    }\n",
       "</style>\n",
       "<table border=\"1\" class=\"dataframe\">\n",
       "  <thead>\n",
       "    <tr style=\"text-align: right;\">\n",
       "      <th></th>\n",
       "      <th>start_date</th>\n",
       "      <th>end_date</th>\n",
       "      <th>prod</th>\n",
       "      <th>region_id</th>\n",
       "      <th>ndvi</th>\n",
       "      <th>smos</th>\n",
       "      <th>precip</th>\n",
       "      <th>temp</th>\n",
       "      <th>days</th>\n",
       "    </tr>\n",
       "  </thead>\n",
       "  <tbody>\n",
       "    <tr>\n",
       "      <th>0</th>\n",
       "      <td>2015-01-01 00:00:00+00:00</td>\n",
       "      <td>2015-01-31 00:00:00+00:00</td>\n",
       "      <td>171725</td>\n",
       "      <td>93</td>\n",
       "      <td>0.755540</td>\n",
       "      <td>0.318552</td>\n",
       "      <td>4.394452</td>\n",
       "      <td>25.003593</td>\n",
       "      <td>30</td>\n",
       "    </tr>\n",
       "    <tr>\n",
       "      <th>1</th>\n",
       "      <td>2015-02-01 00:00:00+00:00</td>\n",
       "      <td>2015-02-28 00:00:00+00:00</td>\n",
       "      <td>188325</td>\n",
       "      <td>93</td>\n",
       "      <td>0.767399</td>\n",
       "      <td>0.291452</td>\n",
       "      <td>1.206137</td>\n",
       "      <td>26.807568</td>\n",
       "      <td>27</td>\n",
       "    </tr>\n",
       "    <tr>\n",
       "      <th>2</th>\n",
       "      <td>2015-03-01 00:00:00+00:00</td>\n",
       "      <td>2015-03-31 00:00:00+00:00</td>\n",
       "      <td>247856</td>\n",
       "      <td>93</td>\n",
       "      <td>0.742958</td>\n",
       "      <td>0.251969</td>\n",
       "      <td>3.454652</td>\n",
       "      <td>26.954109</td>\n",
       "      <td>30</td>\n",
       "    </tr>\n",
       "    <tr>\n",
       "      <th>3</th>\n",
       "      <td>2015-04-01 00:00:00+00:00</td>\n",
       "      <td>2015-04-30 00:00:00+00:00</td>\n",
       "      <td>282791</td>\n",
       "      <td>93</td>\n",
       "      <td>0.784608</td>\n",
       "      <td>0.248915</td>\n",
       "      <td>10.466472</td>\n",
       "      <td>26.948865</td>\n",
       "      <td>29</td>\n",
       "    </tr>\n",
       "    <tr>\n",
       "      <th>4</th>\n",
       "      <td>2015-05-01 00:00:00+00:00</td>\n",
       "      <td>2015-05-31 00:00:00+00:00</td>\n",
       "      <td>291057</td>\n",
       "      <td>93</td>\n",
       "      <td>0.804500</td>\n",
       "      <td>0.280602</td>\n",
       "      <td>9.007986</td>\n",
       "      <td>25.405121</td>\n",
       "      <td>30</td>\n",
       "    </tr>\n",
       "  </tbody>\n",
       "</table>\n",
       "</div>"
      ],
      "text/plain": [
       "                 start_date                  end_date    prod  region_id  \\\n",
       "0 2015-01-01 00:00:00+00:00 2015-01-31 00:00:00+00:00  171725         93   \n",
       "1 2015-02-01 00:00:00+00:00 2015-02-28 00:00:00+00:00  188325         93   \n",
       "2 2015-03-01 00:00:00+00:00 2015-03-31 00:00:00+00:00  247856         93   \n",
       "3 2015-04-01 00:00:00+00:00 2015-04-30 00:00:00+00:00  282791         93   \n",
       "4 2015-05-01 00:00:00+00:00 2015-05-31 00:00:00+00:00  291057         93   \n",
       "\n",
       "       ndvi      smos     precip       temp  days  \n",
       "0  0.755540  0.318552   4.394452  25.003593    30  \n",
       "1  0.767399  0.291452   1.206137  26.807568    27  \n",
       "2  0.742958  0.251969   3.454652  26.954109    30  \n",
       "3  0.784608  0.248915  10.466472  26.948865    29  \n",
       "4  0.804500  0.280602   9.007986  25.405121    30  "
      ]
     },
     "execution_count": 60,
     "metadata": {},
     "output_type": "execute_result"
    }
   ],
   "source": [
    "# remove the wanted dates which are not present in labelled data as Production quantity only has data from n January 2015 to Dec 2020.\n",
    "\n",
    "from_ts = '2014-01-01 00:00:00+00:00'\n",
    "to_ts = '2014-12-31 00:00:00+00:00'\n",
    "df_merged = df_merged[(df_merged['start_date'] < from_ts) | (df_merged['end_date'] > to_ts)]\n",
    "df_merged.head()"
   ]
  },
  {
   "cell_type": "code",
   "execution_count": 61,
   "metadata": {
    "colab": {
     "base_uri": "https://localhost:8080/",
     "height": 206
    },
    "id": "9zCeLyTc9-uc",
    "outputId": "7ce14f9d-2b86-4b6e-ace5-e4f6be3f3e7f"
   },
   "outputs": [
    {
     "data": {
      "text/html": [
       "<div>\n",
       "<style scoped>\n",
       "    .dataframe tbody tr th:only-of-type {\n",
       "        vertical-align: middle;\n",
       "    }\n",
       "\n",
       "    .dataframe tbody tr th {\n",
       "        vertical-align: top;\n",
       "    }\n",
       "\n",
       "    .dataframe thead th {\n",
       "        text-align: right;\n",
       "    }\n",
       "</style>\n",
       "<table border=\"1\" class=\"dataframe\">\n",
       "  <thead>\n",
       "    <tr style=\"text-align: right;\">\n",
       "      <th></th>\n",
       "      <th>start_date</th>\n",
       "      <th>end_date</th>\n",
       "      <th>prod</th>\n",
       "      <th>region_id</th>\n",
       "      <th>ndvi</th>\n",
       "      <th>smos</th>\n",
       "      <th>precip</th>\n",
       "      <th>temp</th>\n",
       "      <th>days</th>\n",
       "    </tr>\n",
       "  </thead>\n",
       "  <tbody>\n",
       "    <tr>\n",
       "      <th>0</th>\n",
       "      <td>2015-01-01 00:00:00+00:00</td>\n",
       "      <td>2015-01-31 00:00:00+00:00</td>\n",
       "      <td>171725</td>\n",
       "      <td>93</td>\n",
       "      <td>0.755540</td>\n",
       "      <td>0.318552</td>\n",
       "      <td>4.394452</td>\n",
       "      <td>25.003593</td>\n",
       "      <td>30</td>\n",
       "    </tr>\n",
       "    <tr>\n",
       "      <th>1</th>\n",
       "      <td>2015-02-01 00:00:00+00:00</td>\n",
       "      <td>2015-02-28 00:00:00+00:00</td>\n",
       "      <td>188325</td>\n",
       "      <td>93</td>\n",
       "      <td>0.767399</td>\n",
       "      <td>0.291452</td>\n",
       "      <td>1.206137</td>\n",
       "      <td>26.807568</td>\n",
       "      <td>27</td>\n",
       "    </tr>\n",
       "    <tr>\n",
       "      <th>2</th>\n",
       "      <td>2015-03-01 00:00:00+00:00</td>\n",
       "      <td>2015-03-31 00:00:00+00:00</td>\n",
       "      <td>247856</td>\n",
       "      <td>93</td>\n",
       "      <td>0.742958</td>\n",
       "      <td>0.251969</td>\n",
       "      <td>3.454652</td>\n",
       "      <td>26.954109</td>\n",
       "      <td>30</td>\n",
       "    </tr>\n",
       "    <tr>\n",
       "      <th>3</th>\n",
       "      <td>2015-04-01 00:00:00+00:00</td>\n",
       "      <td>2015-04-30 00:00:00+00:00</td>\n",
       "      <td>282791</td>\n",
       "      <td>93</td>\n",
       "      <td>0.784608</td>\n",
       "      <td>0.248915</td>\n",
       "      <td>10.466472</td>\n",
       "      <td>26.948865</td>\n",
       "      <td>29</td>\n",
       "    </tr>\n",
       "    <tr>\n",
       "      <th>4</th>\n",
       "      <td>2015-05-01 00:00:00+00:00</td>\n",
       "      <td>2015-05-31 00:00:00+00:00</td>\n",
       "      <td>291057</td>\n",
       "      <td>93</td>\n",
       "      <td>0.804500</td>\n",
       "      <td>0.280602</td>\n",
       "      <td>9.007986</td>\n",
       "      <td>25.405121</td>\n",
       "      <td>30</td>\n",
       "    </tr>\n",
       "  </tbody>\n",
       "</table>\n",
       "</div>"
      ],
      "text/plain": [
       "                 start_date                  end_date    prod  region_id  \\\n",
       "0 2015-01-01 00:00:00+00:00 2015-01-31 00:00:00+00:00  171725         93   \n",
       "1 2015-02-01 00:00:00+00:00 2015-02-28 00:00:00+00:00  188325         93   \n",
       "2 2015-03-01 00:00:00+00:00 2015-03-31 00:00:00+00:00  247856         93   \n",
       "3 2015-04-01 00:00:00+00:00 2015-04-30 00:00:00+00:00  282791         93   \n",
       "4 2015-05-01 00:00:00+00:00 2015-05-31 00:00:00+00:00  291057         93   \n",
       "\n",
       "       ndvi      smos     precip       temp  days  \n",
       "0  0.755540  0.318552   4.394452  25.003593    30  \n",
       "1  0.767399  0.291452   1.206137  26.807568    27  \n",
       "2  0.742958  0.251969   3.454652  26.954109    30  \n",
       "3  0.784608  0.248915  10.466472  26.948865    29  \n",
       "4  0.804500  0.280602   9.007986  25.405121    30  "
      ]
     },
     "execution_count": 61,
     "metadata": {},
     "output_type": "execute_result"
    }
   ],
   "source": [
    "# remove the wanted dates which are not present in labelled data as Production quantity only has data from n January 2015 to Dec 2020.\n",
    "from_ts = '2022-01-01 00:00:00+00:00'\n",
    "to_ts = '2022-03-31 00:00:00+00:00'\n",
    "df_merged = df_merged[(df_merged['start_date'] < from_ts) | (df_merged['end_date'] > to_ts)]\n",
    "df_merged.head()"
   ]
  },
  {
   "cell_type": "code",
   "execution_count": 62,
   "metadata": {
    "colab": {
     "base_uri": "https://localhost:8080/",
     "height": 206
    },
    "id": "NZPUDTSHNq1w",
    "outputId": "c6d0f592-ceeb-4ec0-e9cb-f5288cd7f235"
   },
   "outputs": [
    {
     "data": {
      "text/html": [
       "<div>\n",
       "<style scoped>\n",
       "    .dataframe tbody tr th:only-of-type {\n",
       "        vertical-align: middle;\n",
       "    }\n",
       "\n",
       "    .dataframe tbody tr th {\n",
       "        vertical-align: top;\n",
       "    }\n",
       "\n",
       "    .dataframe thead th {\n",
       "        text-align: right;\n",
       "    }\n",
       "</style>\n",
       "<table border=\"1\" class=\"dataframe\">\n",
       "  <thead>\n",
       "    <tr style=\"text-align: right;\">\n",
       "      <th></th>\n",
       "      <th>start_date</th>\n",
       "      <th>end_date</th>\n",
       "      <th>prod</th>\n",
       "      <th>region_id</th>\n",
       "      <th>ndvi</th>\n",
       "      <th>smos</th>\n",
       "      <th>precip</th>\n",
       "      <th>temp</th>\n",
       "      <th>days</th>\n",
       "    </tr>\n",
       "  </thead>\n",
       "  <tbody>\n",
       "    <tr>\n",
       "      <th>715</th>\n",
       "      <td>2020-08-01 00:00:00+00:00</td>\n",
       "      <td>2020-08-31 00:00:00+00:00</td>\n",
       "      <td>57818</td>\n",
       "      <td>105</td>\n",
       "      <td>0.815462</td>\n",
       "      <td>0.225784</td>\n",
       "      <td>7.635350</td>\n",
       "      <td>27.424585</td>\n",
       "      <td>30</td>\n",
       "    </tr>\n",
       "    <tr>\n",
       "      <th>716</th>\n",
       "      <td>2020-09-01 00:00:00+00:00</td>\n",
       "      <td>2020-09-30 00:00:00+00:00</td>\n",
       "      <td>57474</td>\n",
       "      <td>105</td>\n",
       "      <td>0.819274</td>\n",
       "      <td>0.277477</td>\n",
       "      <td>6.852630</td>\n",
       "      <td>27.940492</td>\n",
       "      <td>29</td>\n",
       "    </tr>\n",
       "    <tr>\n",
       "      <th>717</th>\n",
       "      <td>2020-10-01 00:00:00+00:00</td>\n",
       "      <td>2020-10-31 00:00:00+00:00</td>\n",
       "      <td>51821</td>\n",
       "      <td>105</td>\n",
       "      <td>0.806183</td>\n",
       "      <td>0.277670</td>\n",
       "      <td>11.276676</td>\n",
       "      <td>27.048770</td>\n",
       "      <td>30</td>\n",
       "    </tr>\n",
       "    <tr>\n",
       "      <th>718</th>\n",
       "      <td>2020-11-01 00:00:00+00:00</td>\n",
       "      <td>2020-11-30 00:00:00+00:00</td>\n",
       "      <td>44947</td>\n",
       "      <td>105</td>\n",
       "      <td>0.803468</td>\n",
       "      <td>0.302014</td>\n",
       "      <td>17.676531</td>\n",
       "      <td>24.715070</td>\n",
       "      <td>29</td>\n",
       "    </tr>\n",
       "    <tr>\n",
       "      <th>719</th>\n",
       "      <td>2020-12-01 00:00:00+00:00</td>\n",
       "      <td>2020-12-31 00:00:00+00:00</td>\n",
       "      <td>35728</td>\n",
       "      <td>105</td>\n",
       "      <td>0.778310</td>\n",
       "      <td>0.349358</td>\n",
       "      <td>14.751862</td>\n",
       "      <td>23.856746</td>\n",
       "      <td>30</td>\n",
       "    </tr>\n",
       "  </tbody>\n",
       "</table>\n",
       "</div>"
      ],
      "text/plain": [
       "                   start_date                  end_date   prod  region_id  \\\n",
       "715 2020-08-01 00:00:00+00:00 2020-08-31 00:00:00+00:00  57818        105   \n",
       "716 2020-09-01 00:00:00+00:00 2020-09-30 00:00:00+00:00  57474        105   \n",
       "717 2020-10-01 00:00:00+00:00 2020-10-31 00:00:00+00:00  51821        105   \n",
       "718 2020-11-01 00:00:00+00:00 2020-11-30 00:00:00+00:00  44947        105   \n",
       "719 2020-12-01 00:00:00+00:00 2020-12-31 00:00:00+00:00  35728        105   \n",
       "\n",
       "         ndvi      smos     precip       temp  days  \n",
       "715  0.815462  0.225784   7.635350  27.424585    30  \n",
       "716  0.819274  0.277477   6.852630  27.940492    29  \n",
       "717  0.806183  0.277670  11.276676  27.048770    30  \n",
       "718  0.803468  0.302014  17.676531  24.715070    29  \n",
       "719  0.778310  0.349358  14.751862  23.856746    30  "
      ]
     },
     "execution_count": 62,
     "metadata": {},
     "output_type": "execute_result"
    }
   ],
   "source": [
    "df_merged.tail()"
   ]
  },
  {
   "cell_type": "markdown",
   "metadata": {
    "id": "f7X3iJumN5LX"
   },
   "source": [
    "# Prediction Modeling"
   ]
  },
  {
   "cell_type": "code",
   "execution_count": 63,
   "metadata": {
    "id": "-aOB2U7d43sK"
   },
   "outputs": [],
   "source": [
    "# import libarries\n",
    "import pandas as pd\n",
    "import numpy as np\n",
    "import seaborn as sns\n",
    "import matplotlib.pyplot as plt\n",
    "%matplotlib inline\n",
    "from sklearn import metrics\n",
    "from sklearn.ensemble import RandomForestRegressor\n",
    "from sklearn.metrics import r2_score,mean_squared_error\n",
    "from sklearn.preprocessing import StandardScaler\n",
    "from sklearn.pipeline import make_pipeline\n",
    "\n",
    "from sklearn.pipeline import Pipeline\n",
    "from sklearn.datasets import make_regression\n",
    "from sklearn.model_selection import train_test_split\n",
    "from sklearn.linear_model import LinearRegression\n",
    "from sklearn.metrics import mean_absolute_error\n",
    "from numpy import arange\n",
    "from pandas import read_csv\n",
    "from sklearn.model_selection import GridSearchCV\n"
   ]
  },
  {
   "cell_type": "code",
   "execution_count": 64,
   "metadata": {
    "colab": {
     "base_uri": "https://localhost:8080/"
    },
    "id": "vuezt7Sg7djE",
    "outputId": "ea8fd8b8-b60b-4d50-ee2a-2ec9b0f60701"
   },
   "outputs": [
    {
     "name": "stdout",
     "output_type": "stream",
     "text": [
      "<class 'pandas.core.frame.DataFrame'>\n",
      "Int64Index: 720 entries, 0 to 719\n",
      "Data columns (total 9 columns):\n",
      " #   Column      Non-Null Count  Dtype              \n",
      "---  ------      --------------  -----              \n",
      " 0   start_date  720 non-null    datetime64[ns, UTC]\n",
      " 1   end_date    720 non-null    datetime64[ns, UTC]\n",
      " 2   prod        720 non-null    int64              \n",
      " 3   region_id   720 non-null    int64              \n",
      " 4   ndvi        720 non-null    float64            \n",
      " 5   smos        720 non-null    float64            \n",
      " 6   precip      720 non-null    float64            \n",
      " 7   temp        720 non-null    float64            \n",
      " 8   days        720 non-null    int64              \n",
      "dtypes: datetime64[ns, UTC](2), float64(4), int64(3)\n",
      "memory usage: 56.2 KB\n"
     ]
    }
   ],
   "source": [
    "df_merged.info()"
   ]
  },
  {
   "cell_type": "code",
   "execution_count": 65,
   "metadata": {
    "colab": {
     "base_uri": "https://localhost:8080/"
    },
    "id": "jpQWXboA7jay",
    "outputId": "01203c46-0816-4112-ddc4-9d2a1da4b9cd"
   },
   "outputs": [
    {
     "data": {
      "text/plain": [
       "start_date    0\n",
       "end_date      0\n",
       "prod          0\n",
       "region_id     0\n",
       "ndvi          0\n",
       "smos          0\n",
       "precip        0\n",
       "temp          0\n",
       "days          0\n",
       "dtype: int64"
      ]
     },
     "execution_count": 65,
     "metadata": {},
     "output_type": "execute_result"
    }
   ],
   "source": [
    "df_merged.isnull().sum()"
   ]
  },
  {
   "cell_type": "code",
   "execution_count": 66,
   "metadata": {
    "colab": {
     "base_uri": "https://localhost:8080/"
    },
    "id": "feuqDv_v7mZ0",
    "outputId": "2c1a0b78-9e1d-4b60-ca46-3785eebea21b"
   },
   "outputs": [
    {
     "name": "stdout",
     "output_type": "stream",
     "text": [
      "               prod  region_id      ndvi      smos    precip      temp  \\\n",
      "prod       1.000000   0.165944  0.469838  0.203400  0.052010  0.230777   \n",
      "region_id  0.165944   1.000000  0.128741  0.244012  0.136753  0.181565   \n",
      "ndvi       0.469838   0.128741  1.000000  0.151392  0.172579  0.187312   \n",
      "smos       0.203400   0.244012  0.151392  1.000000  0.179146  0.119355   \n",
      "precip     0.052010   0.136753  0.172579  0.179146  1.000000  0.128525   \n",
      "temp       0.230777   0.181565  0.187312  0.119355  0.128525  1.000000   \n",
      "days       0.046041   0.000000  0.095372  0.000099  0.143266  0.003314   \n",
      "\n",
      "               days  \n",
      "prod       0.046041  \n",
      "region_id  0.000000  \n",
      "ndvi       0.095372  \n",
      "smos       0.000099  \n",
      "precip     0.143266  \n",
      "temp       0.003314  \n",
      "days       1.000000  \n"
     ]
    }
   ],
   "source": [
    "# find correlation\n",
    "cor_matrix = df_merged.corr().abs()\n",
    "print(cor_matrix)"
   ]
  },
  {
   "cell_type": "code",
   "execution_count": 67,
   "metadata": {
    "colab": {
     "base_uri": "https://localhost:8080/",
     "height": 614
    },
    "id": "3DTW5yllOPbd",
    "outputId": "d73b2ab5-9ce0-4641-8c44-f123bf52eb8f"
   },
   "outputs": [
    {
     "data": {
      "text/plain": [
       "<AxesSubplot:>"
      ]
     },
     "execution_count": 67,
     "metadata": {},
     "output_type": "execute_result"
    },
    {
     "data": {
      "image/png": "[encoded data removed]",
      "text/plain": [
       "<Figure size 1080x720 with 2 Axes>"
      ]
     },
     "metadata": {
      "needs_background": "light"
     },
     "output_type": "display_data"
    }
   ],
   "source": [
    "import matplotlib.pyplot as plt\n",
    "import seaborn as sns\n",
    "\n",
    "plt.figure(figsize=(15, 10))\n",
    "sns.heatmap(df_merged.corr(), annot=True)"
   ]
  },
  {
   "cell_type": "code",
   "execution_count": 68,
   "metadata": {
    "colab": {
     "base_uri": "https://localhost:8080/",
     "height": 206
    },
    "id": "pOWI4iy494PR",
    "outputId": "37ba9cc8-2d36-4fdc-f8a3-d76b7b8aa2c9"
   },
   "outputs": [
    {
     "data": {
      "text/html": [
       "<div>\n",
       "<style scoped>\n",
       "    .dataframe tbody tr th:only-of-type {\n",
       "        vertical-align: middle;\n",
       "    }\n",
       "\n",
       "    .dataframe tbody tr th {\n",
       "        vertical-align: top;\n",
       "    }\n",
       "\n",
       "    .dataframe thead th {\n",
       "        text-align: right;\n",
       "    }\n",
       "</style>\n",
       "<table border=\"1\" class=\"dataframe\">\n",
       "  <thead>\n",
       "    <tr style=\"text-align: right;\">\n",
       "      <th></th>\n",
       "      <th>start_date</th>\n",
       "      <th>end_date</th>\n",
       "      <th>prod</th>\n",
       "      <th>region_id</th>\n",
       "      <th>ndvi</th>\n",
       "      <th>smos</th>\n",
       "      <th>precip</th>\n",
       "      <th>temp</th>\n",
       "      <th>days</th>\n",
       "    </tr>\n",
       "  </thead>\n",
       "  <tbody>\n",
       "    <tr>\n",
       "      <th>0</th>\n",
       "      <td>2015-01-01 00:00:00+00:00</td>\n",
       "      <td>2015-01-31 00:00:00+00:00</td>\n",
       "      <td>171725</td>\n",
       "      <td>93</td>\n",
       "      <td>0.755540</td>\n",
       "      <td>0.318552</td>\n",
       "      <td>4.394452</td>\n",
       "      <td>25.003593</td>\n",
       "      <td>30</td>\n",
       "    </tr>\n",
       "    <tr>\n",
       "      <th>1</th>\n",
       "      <td>2015-02-01 00:00:00+00:00</td>\n",
       "      <td>2015-02-28 00:00:00+00:00</td>\n",
       "      <td>188325</td>\n",
       "      <td>93</td>\n",
       "      <td>0.767399</td>\n",
       "      <td>0.291452</td>\n",
       "      <td>1.206137</td>\n",
       "      <td>26.807568</td>\n",
       "      <td>27</td>\n",
       "    </tr>\n",
       "    <tr>\n",
       "      <th>2</th>\n",
       "      <td>2015-03-01 00:00:00+00:00</td>\n",
       "      <td>2015-03-31 00:00:00+00:00</td>\n",
       "      <td>247856</td>\n",
       "      <td>93</td>\n",
       "      <td>0.742958</td>\n",
       "      <td>0.251969</td>\n",
       "      <td>3.454652</td>\n",
       "      <td>26.954109</td>\n",
       "      <td>30</td>\n",
       "    </tr>\n",
       "    <tr>\n",
       "      <th>3</th>\n",
       "      <td>2015-04-01 00:00:00+00:00</td>\n",
       "      <td>2015-04-30 00:00:00+00:00</td>\n",
       "      <td>282791</td>\n",
       "      <td>93</td>\n",
       "      <td>0.784608</td>\n",
       "      <td>0.248915</td>\n",
       "      <td>10.466472</td>\n",
       "      <td>26.948865</td>\n",
       "      <td>29</td>\n",
       "    </tr>\n",
       "    <tr>\n",
       "      <th>4</th>\n",
       "      <td>2015-05-01 00:00:00+00:00</td>\n",
       "      <td>2015-05-31 00:00:00+00:00</td>\n",
       "      <td>291057</td>\n",
       "      <td>93</td>\n",
       "      <td>0.804500</td>\n",
       "      <td>0.280602</td>\n",
       "      <td>9.007986</td>\n",
       "      <td>25.405121</td>\n",
       "      <td>30</td>\n",
       "    </tr>\n",
       "  </tbody>\n",
       "</table>\n",
       "</div>"
      ],
      "text/plain": [
       "                 start_date                  end_date    prod  region_id  \\\n",
       "0 2015-01-01 00:00:00+00:00 2015-01-31 00:00:00+00:00  171725         93   \n",
       "1 2015-02-01 00:00:00+00:00 2015-02-28 00:00:00+00:00  188325         93   \n",
       "2 2015-03-01 00:00:00+00:00 2015-03-31 00:00:00+00:00  247856         93   \n",
       "3 2015-04-01 00:00:00+00:00 2015-04-30 00:00:00+00:00  282791         93   \n",
       "4 2015-05-01 00:00:00+00:00 2015-05-31 00:00:00+00:00  291057         93   \n",
       "\n",
       "       ndvi      smos     precip       temp  days  \n",
       "0  0.755540  0.318552   4.394452  25.003593    30  \n",
       "1  0.767399  0.291452   1.206137  26.807568    27  \n",
       "2  0.742958  0.251969   3.454652  26.954109    30  \n",
       "3  0.784608  0.248915  10.466472  26.948865    29  \n",
       "4  0.804500  0.280602   9.007986  25.405121    30  "
      ]
     },
     "execution_count": 68,
     "metadata": {},
     "output_type": "execute_result"
    }
   ],
   "source": [
    "df_merged.head()"
   ]
  },
  {
   "cell_type": "code",
   "execution_count": 69,
   "metadata": {
    "colab": {
     "base_uri": "https://localhost:8080/"
    },
    "id": "R5YtahAF_OVb",
    "outputId": "c21e0022-1759-4e32-da34-89137f26c911"
   },
   "outputs": [
    {
     "data": {
      "text/plain": [
       "(720, 9)"
      ]
     },
     "execution_count": 69,
     "metadata": {},
     "output_type": "execute_result"
    }
   ],
   "source": [
    "df_merged.shape"
   ]
  },
  {
   "cell_type": "code",
   "execution_count": 70,
   "metadata": {
    "id": "y2udpn6cAgtB"
   },
   "outputs": [],
   "source": [
    "# Sort the dataframe for further requirement \n",
    "\n",
    "df_merged = df_merged.sort_values(['start_date', 'end_date','region_id'])"
   ]
  },
  {
   "cell_type": "code",
   "execution_count": 71,
   "metadata": {
    "colab": {
     "base_uri": "https://localhost:8080/",
     "height": 206
    },
    "id": "cZ6RI0LHCj6R",
    "outputId": "7ad6fd38-5ccf-490a-f8a7-ecf24f834b07"
   },
   "outputs": [
    {
     "data": {
      "text/html": [
       "<div>\n",
       "<style scoped>\n",
       "    .dataframe tbody tr th:only-of-type {\n",
       "        vertical-align: middle;\n",
       "    }\n",
       "\n",
       "    .dataframe tbody tr th {\n",
       "        vertical-align: top;\n",
       "    }\n",
       "\n",
       "    .dataframe thead th {\n",
       "        text-align: right;\n",
       "    }\n",
       "</style>\n",
       "<table border=\"1\" class=\"dataframe\">\n",
       "  <thead>\n",
       "    <tr style=\"text-align: right;\">\n",
       "      <th></th>\n",
       "      <th>start_date</th>\n",
       "      <th>end_date</th>\n",
       "      <th>prod</th>\n",
       "      <th>region_id</th>\n",
       "      <th>ndvi</th>\n",
       "      <th>smos</th>\n",
       "      <th>precip</th>\n",
       "      <th>temp</th>\n",
       "      <th>days</th>\n",
       "    </tr>\n",
       "  </thead>\n",
       "  <tbody>\n",
       "    <tr>\n",
       "      <th>431</th>\n",
       "      <td>2020-12-01 00:00:00+00:00</td>\n",
       "      <td>2020-12-31 00:00:00+00:00</td>\n",
       "      <td>124475</td>\n",
       "      <td>99</td>\n",
       "      <td>0.800005</td>\n",
       "      <td>0.320579</td>\n",
       "      <td>6.322229</td>\n",
       "      <td>24.405432</td>\n",
       "      <td>30</td>\n",
       "    </tr>\n",
       "    <tr>\n",
       "      <th>503</th>\n",
       "      <td>2020-12-01 00:00:00+00:00</td>\n",
       "      <td>2020-12-31 00:00:00+00:00</td>\n",
       "      <td>326135</td>\n",
       "      <td>102</td>\n",
       "      <td>0.831828</td>\n",
       "      <td>0.261280</td>\n",
       "      <td>7.000175</td>\n",
       "      <td>24.440675</td>\n",
       "      <td>30</td>\n",
       "    </tr>\n",
       "    <tr>\n",
       "      <th>575</th>\n",
       "      <td>2020-12-01 00:00:00+00:00</td>\n",
       "      <td>2020-12-31 00:00:00+00:00</td>\n",
       "      <td>306488</td>\n",
       "      <td>103</td>\n",
       "      <td>0.824385</td>\n",
       "      <td>0.325129</td>\n",
       "      <td>9.861948</td>\n",
       "      <td>24.605291</td>\n",
       "      <td>30</td>\n",
       "    </tr>\n",
       "    <tr>\n",
       "      <th>647</th>\n",
       "      <td>2020-12-01 00:00:00+00:00</td>\n",
       "      <td>2020-12-31 00:00:00+00:00</td>\n",
       "      <td>32747</td>\n",
       "      <td>104</td>\n",
       "      <td>0.782225</td>\n",
       "      <td>0.383109</td>\n",
       "      <td>6.214480</td>\n",
       "      <td>26.492564</td>\n",
       "      <td>30</td>\n",
       "    </tr>\n",
       "    <tr>\n",
       "      <th>719</th>\n",
       "      <td>2020-12-01 00:00:00+00:00</td>\n",
       "      <td>2020-12-31 00:00:00+00:00</td>\n",
       "      <td>35728</td>\n",
       "      <td>105</td>\n",
       "      <td>0.778310</td>\n",
       "      <td>0.349358</td>\n",
       "      <td>14.751862</td>\n",
       "      <td>23.856746</td>\n",
       "      <td>30</td>\n",
       "    </tr>\n",
       "  </tbody>\n",
       "</table>\n",
       "</div>"
      ],
      "text/plain": [
       "                   start_date                  end_date    prod  region_id  \\\n",
       "431 2020-12-01 00:00:00+00:00 2020-12-31 00:00:00+00:00  124475         99   \n",
       "503 2020-12-01 00:00:00+00:00 2020-12-31 00:00:00+00:00  326135        102   \n",
       "575 2020-12-01 00:00:00+00:00 2020-12-31 00:00:00+00:00  306488        103   \n",
       "647 2020-12-01 00:00:00+00:00 2020-12-31 00:00:00+00:00   32747        104   \n",
       "719 2020-12-01 00:00:00+00:00 2020-12-31 00:00:00+00:00   35728        105   \n",
       "\n",
       "         ndvi      smos     precip       temp  days  \n",
       "431  0.800005  0.320579   6.322229  24.405432    30  \n",
       "503  0.831828  0.261280   7.000175  24.440675    30  \n",
       "575  0.824385  0.325129   9.861948  24.605291    30  \n",
       "647  0.782225  0.383109   6.214480  26.492564    30  \n",
       "719  0.778310  0.349358  14.751862  23.856746    30  "
      ]
     },
     "execution_count": 71,
     "metadata": {},
     "output_type": "execute_result"
    }
   ],
   "source": [
    "df_merged.tail()"
   ]
  },
  {
   "cell_type": "code",
   "execution_count": 72,
   "metadata": {
    "id": "BjoWrnJVI0aC"
   },
   "outputs": [],
   "source": [
    "# drop the dates column to give to model\n",
    "df_merged = df_merged.drop(columns=['start_date','end_date'],axis=1)"
   ]
  },
  {
   "cell_type": "code",
   "execution_count": 73,
   "metadata": {
    "id": "4ZaSIodQIG4_"
   },
   "outputs": [],
   "source": [
    "#Spliting X and y data (features and labels respectively)\n",
    "X = df_merged.drop(['prod'],axis=1)\n",
    "y = df_merged['prod']"
   ]
  },
  {
   "cell_type": "code",
   "execution_count": 74,
   "metadata": {
    "colab": {
     "base_uri": "https://localhost:8080/",
     "height": 206
    },
    "id": "CAkfEeT5IGvA",
    "outputId": "a0625ae3-6f20-4b36-9c96-01535b6ffb33"
   },
   "outputs": [
    {
     "data": {
      "text/html": [
       "<div>\n",
       "<style scoped>\n",
       "    .dataframe tbody tr th:only-of-type {\n",
       "        vertical-align: middle;\n",
       "    }\n",
       "\n",
       "    .dataframe tbody tr th {\n",
       "        vertical-align: top;\n",
       "    }\n",
       "\n",
       "    .dataframe thead th {\n",
       "        text-align: right;\n",
       "    }\n",
       "</style>\n",
       "<table border=\"1\" class=\"dataframe\">\n",
       "  <thead>\n",
       "    <tr style=\"text-align: right;\">\n",
       "      <th></th>\n",
       "      <th>region_id</th>\n",
       "      <th>ndvi</th>\n",
       "      <th>smos</th>\n",
       "      <th>precip</th>\n",
       "      <th>temp</th>\n",
       "      <th>days</th>\n",
       "    </tr>\n",
       "  </thead>\n",
       "  <tbody>\n",
       "    <tr>\n",
       "      <th>0</th>\n",
       "      <td>93</td>\n",
       "      <td>0.755540</td>\n",
       "      <td>0.318552</td>\n",
       "      <td>4.394452</td>\n",
       "      <td>25.003593</td>\n",
       "      <td>30</td>\n",
       "    </tr>\n",
       "    <tr>\n",
       "      <th>72</th>\n",
       "      <td>94</td>\n",
       "      <td>0.782787</td>\n",
       "      <td>0.268754</td>\n",
       "      <td>1.444303</td>\n",
       "      <td>26.559232</td>\n",
       "      <td>30</td>\n",
       "    </tr>\n",
       "    <tr>\n",
       "      <th>144</th>\n",
       "      <td>95</td>\n",
       "      <td>0.716406</td>\n",
       "      <td>0.374408</td>\n",
       "      <td>1.520387</td>\n",
       "      <td>23.126085</td>\n",
       "      <td>30</td>\n",
       "    </tr>\n",
       "    <tr>\n",
       "      <th>216</th>\n",
       "      <td>97</td>\n",
       "      <td>0.765667</td>\n",
       "      <td>0.309382</td>\n",
       "      <td>1.942695</td>\n",
       "      <td>25.051505</td>\n",
       "      <td>30</td>\n",
       "    </tr>\n",
       "    <tr>\n",
       "      <th>288</th>\n",
       "      <td>98</td>\n",
       "      <td>0.757078</td>\n",
       "      <td>0.281108</td>\n",
       "      <td>2.791116</td>\n",
       "      <td>24.094009</td>\n",
       "      <td>30</td>\n",
       "    </tr>\n",
       "  </tbody>\n",
       "</table>\n",
       "</div>"
      ],
      "text/plain": [
       "     region_id      ndvi      smos    precip       temp  days\n",
       "0           93  0.755540  0.318552  4.394452  25.003593    30\n",
       "72          94  0.782787  0.268754  1.444303  26.559232    30\n",
       "144         95  0.716406  0.374408  1.520387  23.126085    30\n",
       "216         97  0.765667  0.309382  1.942695  25.051505    30\n",
       "288         98  0.757078  0.281108  2.791116  24.094009    30"
      ]
     },
     "execution_count": 74,
     "metadata": {},
     "output_type": "execute_result"
    }
   ],
   "source": [
    "# check X\n",
    "X.head()"
   ]
  },
  {
   "cell_type": "code",
   "execution_count": 75,
   "metadata": {
    "colab": {
     "base_uri": "https://localhost:8080/"
    },
    "id": "C49HiAxfIGsf",
    "outputId": "1b4427c4-314c-43c2-96af-ea807f9ff2d9"
   },
   "outputs": [
    {
     "data": {
      "text/plain": [
       "0      171725\n",
       "72      15066\n",
       "144     11181\n",
       "216     37505\n",
       "288    141442\n",
       "Name: prod, dtype: int64"
      ]
     },
     "execution_count": 75,
     "metadata": {},
     "output_type": "execute_result"
    }
   ],
   "source": [
    "# check Y data\n",
    "y.head()\n"
   ]
  },
  {
   "cell_type": "code",
   "execution_count": 76,
   "metadata": {
    "id": "cJrOOTbaIGqO"
   },
   "outputs": [],
   "source": [
    "# split the dataset in 80% and 20% \n",
    "from sklearn.model_selection import train_test_split\n",
    "X_train, X_test, y_train, y_test = train_test_split(X, y, test_size=0.20, \n",
    "                                                    shuffle=True, random_state=2)"
   ]
  },
  {
   "cell_type": "code",
   "execution_count": 77,
   "metadata": {
    "id": "2-yf7hnWIGng"
   },
   "outputs": [],
   "source": [
    "# building baseline model\n",
    "rfr =  RandomForestRegressor()\n",
    "\n",
    "rfr.fit(X_train,y_train)\n",
    "\n",
    "y_pred = rfr.predict(X_test)\n"
   ]
  },
  {
   "cell_type": "code",
   "execution_count": 78,
   "metadata": {
    "colab": {
     "base_uri": "https://localhost:8080/"
    },
    "id": "0oaCPnz7JfX4",
    "outputId": "ee49d6b3-aa2a-493e-cd73-771be43856ce"
   },
   "outputs": [
    {
     "data": {
      "text/plain": [
       "array([419363.51, 219942.89,  22317.31,  44052.93, 363210.47,  30731.9 ,\n",
       "       174436.62, 333814.3 , 423234.68,  26432.8 , 246269.35, 180954.17,\n",
       "       261824.53,  53673.41, 256995.88, 150450.64,  34655.73,  22407.68,\n",
       "        44206.74,  45368.12,  51218.16,  24837.78, 216245.27,  21662.8 ,\n",
       "        24918.17,  40327.4 , 355220.85, 253362.38,  42087.59,  30776.8 ,\n",
       "       443757.41,  44598.08,  17568.75,  45171.85,  19560.96, 296035.7 ,\n",
       "       413733.7 ,  24038.89,  24332.4 , 165560.65, 221059.86, 142865.92,\n",
       "        39424.67,  42409.97,  42449.96,  20690.12,  36396.72,  24488.39,\n",
       "       438530.45, 244908.89,  31464.5 ,  30235.08, 103890.13, 428120.01,\n",
       "        38565.88,  44657.87, 144092.64, 142819.33, 336264.35,  36990.07,\n",
       "       162151.77, 354777.22, 258053.4 , 162298.21, 251308.59,  58455.58,\n",
       "       249814.24, 422933.69,  27055.88,  24428.5 , 327776.98, 168931.58,\n",
       "        42603.57, 222952.41,  46374.73,  21698.68, 283816.53,  21314.1 ,\n",
       "       254869.75,  39164.77, 355539.66, 123223.21,  59634.31,  39851.83,\n",
       "       355446.72, 373305.5 ,  24617.4 ,  41467.6 ,  24556.81, 383087.11,\n",
       "       359207.27,  39837.09, 140688.17, 499555.2 , 147854.73, 415702.4 ,\n",
       "       154504.82,  20233.79,  22071.21,  32991.89, 214549.55,  18564.51,\n",
       "        54523.3 , 259459.88, 177965.2 , 419774.67, 213915.74, 434958.94,\n",
       "       408724.92,  24838.11, 180859.78,  50329.35, 486428.29, 167725.16,\n",
       "        37177.  ,  30292.85, 301632.4 , 250668.87, 349528.92,  43708.18,\n",
       "       248285.72,  50797.43, 252054.76, 167884.49,  62613.89, 321041.59,\n",
       "       224365.66, 247202.48,  45477.93,  43592.74, 331821.13, 309218.85,\n",
       "       145038.75,  25533.22, 162570.82, 425207.51,  44603.07, 245576.65,\n",
       "        24683.73,  33943.93, 220697.21, 454419.31,  23480.11,  59113.12])"
      ]
     },
     "execution_count": 78,
     "metadata": {},
     "output_type": "execute_result"
    }
   ],
   "source": [
    "y_pred"
   ]
  },
  {
   "cell_type": "code",
   "execution_count": 79,
   "metadata": {
    "colab": {
     "base_uri": "https://localhost:8080/"
    },
    "id": "vtc2jO5VCPea",
    "outputId": "40d5c250-e913-4140-ed9d-09ce6d7bafb8"
   },
   "outputs": [
    {
     "name": "stdout",
     "output_type": "stream",
     "text": [
      "R2 Error : 0.9428862994566687\n",
      "Root Mean Squre Error : 34773.930862631976\n"
     ]
    }
   ],
   "source": [
    "# checking the R2 \n",
    "print(\"R2 Error :\" ,r2_score (y_test,y_pred))\n",
    "print(\"Root Mean Squre Error :\", np.sqrt(mean_squared_error(y_test, y_pred)))"
   ]
  },
  {
   "cell_type": "code",
   "execution_count": 80,
   "metadata": {
    "colab": {
     "base_uri": "https://localhost:8080/"
    },
    "id": "hzIco0L1Pv8e",
    "outputId": "74423808-f295-43da-aba1-2550233fa118"
   },
   "outputs": [
    {
     "name": "stdout",
     "output_type": "stream",
     "text": [
      "Mean Absolute Precentage Error is 17.488272876892005\n"
     ]
    }
   ],
   "source": [
    "def mean_absolute_percentage_error(true, pred):\n",
    "    abs_error = (np.abs(true - pred)) / true\n",
    "    sum_abs_error = np.sum(abs_error)\n",
    "    mape_loss = (sum_abs_error / true.size) * 100\n",
    "    return mape_loss\n",
    "\n",
    "mape = mean_absolute_percentage_error(y_test,y_pred)\n",
    "print(f'Mean Absolute Precentage Error is {mape}' )"
   ]
  },
  {
   "cell_type": "markdown",
   "metadata": {},
   "source": [
    "### Lazy predict"
   ]
  },
  {
   "cell_type": "code",
   "execution_count": 117,
   "metadata": {},
   "outputs": [
    {
     "name": "stdout",
     "output_type": "stream",
     "text": [
      "Found existing installation: scikit-learn 0.23.1\n",
      "Uninstalling scikit-learn-0.23.1:\n",
      "  Successfully uninstalled scikit-learn-0.23.1\n",
      "Collecting scikit-learn==0.24\n",
      "  Using cached scikit_learn-0.24.0-cp37-cp37m-win_amd64.whl (6.8 MB)\n",
      "Requirement already satisfied: numpy>=1.13.3 in c:\\users\\kale_\\anaconda3\\envs\\new_stream\\lib\\site-packages (from scikit-learn==0.24) (1.19.1)\n",
      "Requirement already satisfied: scipy>=0.19.1 in c:\\users\\kale_\\anaconda3\\envs\\new_stream\\lib\\site-packages (from scikit-learn==0.24) (1.5.4)\n",
      "Requirement already satisfied: joblib>=0.11 in c:\\users\\kale_\\anaconda3\\envs\\new_stream\\lib\\site-packages (from scikit-learn==0.24) (1.0.0)\n",
      "Requirement already satisfied: threadpoolctl>=2.0.0 in c:\\users\\kale_\\anaconda3\\envs\\new_stream\\lib\\site-packages (from scikit-learn==0.24) (3.0.0)\n",
      "Installing collected packages: scikit-learn\n",
      "Successfully installed scikit-learn-0.24.0\n"
     ]
    },
    {
     "name": "stderr",
     "output_type": "stream",
     "text": [
      "ERROR: pip's dependency resolver does not currently take into account all the packages that are installed. This behaviour is the source of the following dependency conflicts.\n",
      "lazypredict 0.2.9 requires scikit-learn==0.23.1, but you have scikit-learn 0.24.0 which is incompatible.\n",
      "imbalanced-learn 0.9.0 requires scikit-learn>=1.0.1, but you have scikit-learn 0.24.0 which is incompatible.\n"
     ]
    }
   ],
   "source": [
    "!pip uninstall scikit-learn -y\n",
    "!pip install scikit-learn==0.24"
   ]
  },
  {
   "cell_type": "code",
   "execution_count": 118,
   "metadata": {},
   "outputs": [
    {
     "name": "stdout",
     "output_type": "stream",
     "text": [
      "Requirement already satisfied: lazypredict in c:\\users\\kale_\\anaconda3\\envs\\new_stream\\lib\\site-packages (0.2.9)\n",
      "Requirement already satisfied: xgboost==1.1.1 in c:\\users\\kale_\\anaconda3\\envs\\new_stream\\lib\\site-packages (from lazypredict) (1.1.1)\n",
      "Note: you may need to restart the kernel to use updated packages.\n"
     ]
    },
    {
     "name": "stderr",
     "output_type": "stream",
     "text": [
      "ERROR: pip's dependency resolver does not currently take into account all the packages that are installed. This behaviour is the source of the following dependency conflicts.\n",
      "imbalanced-learn 0.9.0 requires scikit-learn>=1.0.1, but you have scikit-learn 0.23.1 which is incompatible.\n"
     ]
    },
    {
     "name": "stdout",
     "output_type": "stream",
     "text": [
      "Requirement already satisfied: six==1.15.0 in c:\\users\\kale_\\anaconda3\\envs\\new_stream\\lib\\site-packages (from lazypredict) (1.15.0)\n",
      "Requirement already satisfied: scipy==1.5.4 in c:\\users\\kale_\\anaconda3\\envs\\new_stream\\lib\\site-packages (from lazypredict) (1.5.4)\n",
      "Requirement already satisfied: pytest==5.4.3 in c:\\users\\kale_\\anaconda3\\envs\\new_stream\\lib\\site-packages (from lazypredict) (5.4.3)\n",
      "Requirement already satisfied: click==7.1.2 in c:\\users\\kale_\\anaconda3\\envs\\new_stream\\lib\\site-packages (from lazypredict) (7.1.2)\n",
      "Requirement already satisfied: pandas==1.0.5 in c:\\users\\kale_\\anaconda3\\envs\\new_stream\\lib\\site-packages (from lazypredict) (1.0.5)\n",
      "Requirement already satisfied: lightgbm==2.3.1 in c:\\users\\kale_\\anaconda3\\envs\\new_stream\\lib\\site-packages (from lazypredict) (2.3.1)\n",
      "Requirement already satisfied: PyYAML==5.3.1 in c:\\users\\kale_\\anaconda3\\envs\\new_stream\\lib\\site-packages (from lazypredict) (5.3.1)\n",
      "Collecting scikit-learn==0.23.1\n",
      "  Using cached scikit_learn-0.23.1-cp37-cp37m-win_amd64.whl (6.8 MB)\n",
      "Requirement already satisfied: tqdm==4.56.0 in c:\\users\\kale_\\anaconda3\\envs\\new_stream\\lib\\site-packages (from lazypredict) (4.56.0)\n",
      "Requirement already satisfied: numpy==1.19.1 in c:\\users\\kale_\\anaconda3\\envs\\new_stream\\lib\\site-packages (from lazypredict) (1.19.1)\n",
      "Requirement already satisfied: joblib==1.0.0 in c:\\users\\kale_\\anaconda3\\envs\\new_stream\\lib\\site-packages (from lazypredict) (1.0.0)\n",
      "Requirement already satisfied: pytz>=2017.2 in c:\\users\\kale_\\anaconda3\\envs\\new_stream\\lib\\site-packages (from pandas==1.0.5->lazypredict) (2021.3)\n",
      "Requirement already satisfied: python-dateutil>=2.6.1 in c:\\users\\kale_\\anaconda3\\envs\\new_stream\\lib\\site-packages (from pandas==1.0.5->lazypredict) (2.8.2)\n",
      "Requirement already satisfied: py>=1.5.0 in c:\\users\\kale_\\anaconda3\\envs\\new_stream\\lib\\site-packages (from pytest==5.4.3->lazypredict) (1.11.0)\n",
      "Requirement already satisfied: packaging in c:\\users\\kale_\\anaconda3\\envs\\new_stream\\lib\\site-packages (from pytest==5.4.3->lazypredict) (21.3)\n",
      "Requirement already satisfied: more-itertools>=4.0.0 in c:\\users\\kale_\\anaconda3\\envs\\new_stream\\lib\\site-packages (from pytest==5.4.3->lazypredict) (8.12.0)\n",
      "Requirement already satisfied: attrs>=17.4.0 in c:\\users\\kale_\\anaconda3\\envs\\new_stream\\lib\\site-packages (from pytest==5.4.3->lazypredict) (21.2.0)\n",
      "Requirement already satisfied: importlib-metadata>=0.12 in c:\\users\\kale_\\anaconda3\\envs\\new_stream\\lib\\site-packages (from pytest==5.4.3->lazypredict) (4.8.1)\n",
      "Requirement already satisfied: colorama in c:\\users\\kale_\\anaconda3\\envs\\new_stream\\lib\\site-packages (from pytest==5.4.3->lazypredict) (0.4.4)\n",
      "Requirement already satisfied: pluggy<1.0,>=0.12 in c:\\users\\kale_\\anaconda3\\envs\\new_stream\\lib\\site-packages (from pytest==5.4.3->lazypredict) (0.13.1)\n",
      "Requirement already satisfied: atomicwrites>=1.0 in c:\\users\\kale_\\anaconda3\\envs\\new_stream\\lib\\site-packages (from pytest==5.4.3->lazypredict) (1.4.0)\n",
      "Requirement already satisfied: wcwidth in c:\\users\\kale_\\anaconda3\\envs\\new_stream\\lib\\site-packages (from pytest==5.4.3->lazypredict) (0.2.5)\n",
      "Requirement already satisfied: threadpoolctl>=2.0.0 in c:\\users\\kale_\\anaconda3\\envs\\new_stream\\lib\\site-packages (from scikit-learn==0.23.1->lazypredict) (3.0.0)\n",
      "Requirement already satisfied: typing-extensions>=3.6.4 in c:\\users\\kale_\\anaconda3\\envs\\new_stream\\lib\\site-packages (from importlib-metadata>=0.12->pytest==5.4.3->lazypredict) (3.10.0.2)\n",
      "Requirement already satisfied: zipp>=0.5 in c:\\users\\kale_\\anaconda3\\envs\\new_stream\\lib\\site-packages (from importlib-metadata>=0.12->pytest==5.4.3->lazypredict) (3.6.0)\n",
      "Requirement already satisfied: pyparsing!=3.0.5,>=2.0.2 in c:\\users\\kale_\\anaconda3\\envs\\new_stream\\lib\\site-packages (from packaging->pytest==5.4.3->lazypredict) (2.4.7)\n",
      "Installing collected packages: scikit-learn\n",
      "  Attempting uninstall: scikit-learn\n",
      "    Found existing installation: scikit-learn 0.24.0\n",
      "    Uninstalling scikit-learn-0.24.0:\n",
      "      Successfully uninstalled scikit-learn-0.24.0\n",
      "Successfully installed scikit-learn-0.23.1\n"
     ]
    }
   ],
   "source": [
    "pip install lazypredict"
   ]
  },
  {
   "cell_type": "code",
   "execution_count": 119,
   "metadata": {},
   "outputs": [
    {
     "ename": "ImportError",
     "evalue": "cannot import name '_raise_dep_warning_if_not_pytest' from 'sklearn.utils.deprecation' (C:\\Users\\kale_\\anaconda3\\envs\\new_stream\\lib\\site-packages\\sklearn\\utils\\deprecation.py)",
     "output_type": "error",
     "traceback": [
      "\u001b[1;31m---------------------------------------------------------------------------\u001b[0m",
      "\u001b[1;31mImportError\u001b[0m                               Traceback (most recent call last)",
      "\u001b[1;32m~\\AppData\\Local\\Temp/ipykernel_34588/2880502047.py\u001b[0m in \u001b[0;36m<module>\u001b[1;34m\u001b[0m\n\u001b[0;32m      1\u001b[0m \u001b[1;32mimport\u001b[0m \u001b[0mlazypredict\u001b[0m\u001b[1;33m\u001b[0m\u001b[1;33m\u001b[0m\u001b[0m\n\u001b[1;32m----> 2\u001b[1;33m \u001b[1;32mfrom\u001b[0m \u001b[0mlazypredict\u001b[0m\u001b[1;33m.\u001b[0m\u001b[0mSupervised\u001b[0m \u001b[1;32mimport\u001b[0m \u001b[0mLazyClassifier\u001b[0m\u001b[1;33m,\u001b[0m \u001b[0mLazyRegressor\u001b[0m\u001b[1;33m\u001b[0m\u001b[1;33m\u001b[0m\u001b[0m\n\u001b[0m",
      "\u001b[1;32m~\\anaconda3\\envs\\new_stream\\lib\\site-packages\\lazypredict\\Supervised.py\u001b[0m in \u001b[0;36m<module>\u001b[1;34m\u001b[0m\n\u001b[0;32m     14\u001b[0m \u001b[1;32mfrom\u001b[0m \u001b[0msklearn\u001b[0m\u001b[1;33m.\u001b[0m\u001b[0mpreprocessing\u001b[0m \u001b[1;32mimport\u001b[0m \u001b[0mStandardScaler\u001b[0m\u001b[1;33m,\u001b[0m \u001b[0mOneHotEncoder\u001b[0m\u001b[1;33m,\u001b[0m \u001b[0mOrdinalEncoder\u001b[0m\u001b[1;33m\u001b[0m\u001b[1;33m\u001b[0m\u001b[0m\n\u001b[0;32m     15\u001b[0m \u001b[1;32mfrom\u001b[0m \u001b[0msklearn\u001b[0m\u001b[1;33m.\u001b[0m\u001b[0mcompose\u001b[0m \u001b[1;32mimport\u001b[0m \u001b[0mColumnTransformer\u001b[0m\u001b[1;33m\u001b[0m\u001b[1;33m\u001b[0m\u001b[0m\n\u001b[1;32m---> 16\u001b[1;33m \u001b[1;32mfrom\u001b[0m \u001b[0msklearn\u001b[0m\u001b[1;33m.\u001b[0m\u001b[0mutils\u001b[0m\u001b[1;33m.\u001b[0m\u001b[0mtesting\u001b[0m \u001b[1;32mimport\u001b[0m \u001b[0mall_estimators\u001b[0m\u001b[1;33m\u001b[0m\u001b[1;33m\u001b[0m\u001b[0m\n\u001b[0m\u001b[0;32m     17\u001b[0m \u001b[1;32mfrom\u001b[0m \u001b[0msklearn\u001b[0m\u001b[1;33m.\u001b[0m\u001b[0mbase\u001b[0m \u001b[1;32mimport\u001b[0m \u001b[0mRegressorMixin\u001b[0m\u001b[1;33m\u001b[0m\u001b[1;33m\u001b[0m\u001b[0m\n\u001b[0;32m     18\u001b[0m \u001b[1;32mfrom\u001b[0m \u001b[0msklearn\u001b[0m\u001b[1;33m.\u001b[0m\u001b[0mbase\u001b[0m \u001b[1;32mimport\u001b[0m \u001b[0mClassifierMixin\u001b[0m\u001b[1;33m\u001b[0m\u001b[1;33m\u001b[0m\u001b[0m\n",
      "\u001b[1;32m~\\anaconda3\\envs\\new_stream\\lib\\site-packages\\sklearn\\utils\\testing.py\u001b[0m in \u001b[0;36m<module>\u001b[1;34m\u001b[0m\n\u001b[0;32m      5\u001b[0m \u001b[1;32mfrom\u001b[0m \u001b[1;33m.\u001b[0m \u001b[1;32mimport\u001b[0m \u001b[0m_testing\u001b[0m  \u001b[1;31m# type: ignore\u001b[0m\u001b[1;33m\u001b[0m\u001b[1;33m\u001b[0m\u001b[0m\n\u001b[0;32m      6\u001b[0m \u001b[1;32mfrom\u001b[0m \u001b[1;33m.\u001b[0m\u001b[1;33m.\u001b[0m\u001b[0mexternals\u001b[0m\u001b[1;33m.\u001b[0m\u001b[0m_pep562\u001b[0m \u001b[1;32mimport\u001b[0m \u001b[0mPep562\u001b[0m\u001b[1;33m\u001b[0m\u001b[1;33m\u001b[0m\u001b[0m\n\u001b[1;32m----> 7\u001b[1;33m \u001b[1;32mfrom\u001b[0m \u001b[1;33m.\u001b[0m\u001b[1;33m.\u001b[0m\u001b[0mutils\u001b[0m\u001b[1;33m.\u001b[0m\u001b[0mdeprecation\u001b[0m \u001b[1;32mimport\u001b[0m \u001b[0m_raise_dep_warning_if_not_pytest\u001b[0m\u001b[1;33m\u001b[0m\u001b[1;33m\u001b[0m\u001b[0m\n\u001b[0m\u001b[0;32m      8\u001b[0m \u001b[1;33m\u001b[0m\u001b[0m\n\u001b[0;32m      9\u001b[0m \u001b[0mdeprecated_path\u001b[0m \u001b[1;33m=\u001b[0m \u001b[1;34m'sklearn.utils.testing'\u001b[0m\u001b[1;33m\u001b[0m\u001b[1;33m\u001b[0m\u001b[0m\n",
      "\u001b[1;31mImportError\u001b[0m: cannot import name '_raise_dep_warning_if_not_pytest' from 'sklearn.utils.deprecation' (C:\\Users\\kale_\\anaconda3\\envs\\new_stream\\lib\\site-packages\\sklearn\\utils\\deprecation.py)"
     ]
    }
   ],
   "source": [
    "import lazypredict\n",
    "from lazypredict.Supervised import LazyClassifier, LazyRegressor"
   ]
  },
  {
   "cell_type": "code",
   "execution_count": null,
   "metadata": {},
   "outputs": [],
   "source": [
    "# fit all models\n",
    "reg = LazyRegressor(predictions=True)\n",
    "models, predictions = reg.fit(X_train, X_test, y_train, y_test)\n",
    "\n"
   ]
  },
  {
   "cell_type": "code",
   "execution_count": null,
   "metadata": {},
   "outputs": [],
   "source": [
    "### fitting data in LazyClassifier\n",
    "models, predictions = reg.fit(X_train, X_test, y_train, y_test)\n",
    "### lets check which model did better on Breast Cancer Dataset\n",
    "print(models)"
   ]
  },
  {
   "cell_type": "markdown",
   "metadata": {
    "id": "R-3OPy6NLn0x"
   },
   "source": [
    "#Predicting for new data (predicted_production_qty.csv)"
   ]
  },
  {
   "cell_type": "code",
   "execution_count": 81,
   "metadata": {
    "colab": {
     "base_uri": "https://localhost:8080/",
     "height": 206
    },
    "id": "HULiMIwsKR46",
    "outputId": "3fb28201-25ab-4f1a-bbb7-0c1995318fc7"
   },
   "outputs": [
    {
     "data": {
      "text/html": [
       "<div>\n",
       "<style scoped>\n",
       "    .dataframe tbody tr th:only-of-type {\n",
       "        vertical-align: middle;\n",
       "    }\n",
       "\n",
       "    .dataframe tbody tr th {\n",
       "        vertical-align: top;\n",
       "    }\n",
       "\n",
       "    .dataframe thead th {\n",
       "        text-align: right;\n",
       "    }\n",
       "</style>\n",
       "<table border=\"1\" class=\"dataframe\">\n",
       "  <thead>\n",
       "    <tr style=\"text-align: right;\">\n",
       "      <th></th>\n",
       "      <th>start_date</th>\n",
       "      <th>end_date</th>\n",
       "      <th>ndvi</th>\n",
       "      <th>region_id</th>\n",
       "      <th>smos</th>\n",
       "      <th>precip</th>\n",
       "      <th>temp</th>\n",
       "    </tr>\n",
       "  </thead>\n",
       "  <tbody>\n",
       "    <tr>\n",
       "      <th>0</th>\n",
       "      <td>2014-01-01 00:00:00+00:00</td>\n",
       "      <td>2014-01-31 00:00:00+00:00</td>\n",
       "      <td>0.718269</td>\n",
       "      <td>93</td>\n",
       "      <td>0.287870</td>\n",
       "      <td>2.541758</td>\n",
       "      <td>25.482158</td>\n",
       "    </tr>\n",
       "    <tr>\n",
       "      <th>1</th>\n",
       "      <td>2014-02-01 00:00:00+00:00</td>\n",
       "      <td>2014-02-28 00:00:00+00:00</td>\n",
       "      <td>0.767647</td>\n",
       "      <td>93</td>\n",
       "      <td>0.272979</td>\n",
       "      <td>0.326015</td>\n",
       "      <td>26.647786</td>\n",
       "    </tr>\n",
       "    <tr>\n",
       "      <th>2</th>\n",
       "      <td>2014-03-01 00:00:00+00:00</td>\n",
       "      <td>2014-03-31 00:00:00+00:00</td>\n",
       "      <td>0.743301</td>\n",
       "      <td>93</td>\n",
       "      <td>0.254618</td>\n",
       "      <td>6.208490</td>\n",
       "      <td>29.379089</td>\n",
       "    </tr>\n",
       "    <tr>\n",
       "      <th>3</th>\n",
       "      <td>2014-04-01 00:00:00+00:00</td>\n",
       "      <td>2014-04-30 00:00:00+00:00</td>\n",
       "      <td>0.807792</td>\n",
       "      <td>93</td>\n",
       "      <td>0.277936</td>\n",
       "      <td>10.433339</td>\n",
       "      <td>26.267849</td>\n",
       "    </tr>\n",
       "    <tr>\n",
       "      <th>4</th>\n",
       "      <td>2014-05-01 00:00:00+00:00</td>\n",
       "      <td>2014-05-31 00:00:00+00:00</td>\n",
       "      <td>0.813410</td>\n",
       "      <td>93</td>\n",
       "      <td>0.238466</td>\n",
       "      <td>9.160731</td>\n",
       "      <td>26.642768</td>\n",
       "    </tr>\n",
       "  </tbody>\n",
       "</table>\n",
       "</div>"
      ],
      "text/plain": [
       "                 start_date                  end_date      ndvi  region_id  \\\n",
       "0 2014-01-01 00:00:00+00:00 2014-01-31 00:00:00+00:00  0.718269         93   \n",
       "1 2014-02-01 00:00:00+00:00 2014-02-28 00:00:00+00:00  0.767647         93   \n",
       "2 2014-03-01 00:00:00+00:00 2014-03-31 00:00:00+00:00  0.743301         93   \n",
       "3 2014-04-01 00:00:00+00:00 2014-04-30 00:00:00+00:00  0.807792         93   \n",
       "4 2014-05-01 00:00:00+00:00 2014-05-31 00:00:00+00:00  0.813410         93   \n",
       "\n",
       "       smos     precip       temp  \n",
       "0  0.287870   2.541758  25.482158  \n",
       "1  0.272979   0.326015  26.647786  \n",
       "2  0.254618   6.208490  29.379089  \n",
       "3  0.277936  10.433339  26.267849  \n",
       "4  0.238466   9.160731  26.642768  "
      ]
     },
     "execution_count": 81,
     "metadata": {},
     "output_type": "execute_result"
    }
   ],
   "source": [
    "\n",
    "soil_preci_temp_ndvi_df.head()"
   ]
  },
  {
   "cell_type": "code",
   "execution_count": 82,
   "metadata": {
    "colab": {
     "base_uri": "https://localhost:8080/"
    },
    "id": "VR_i3A7hPY3L",
    "outputId": "845ada06-7f20-43ef-d638-184ef30f8516"
   },
   "outputs": [
    {
     "data": {
      "text/plain": [
       "(990, 7)"
      ]
     },
     "execution_count": 82,
     "metadata": {},
     "output_type": "execute_result"
    }
   ],
   "source": [
    "soil_preci_temp_ndvi_df.shape"
   ]
  },
  {
   "cell_type": "code",
   "execution_count": 83,
   "metadata": {
    "colab": {
     "base_uri": "https://localhost:8080/",
     "height": 206
    },
    "id": "taGSwBUhOuHS",
    "outputId": "0b9655d9-5daf-44cd-987d-d35354aa3f02"
   },
   "outputs": [
    {
     "data": {
      "text/html": [
       "<div>\n",
       "<style scoped>\n",
       "    .dataframe tbody tr th:only-of-type {\n",
       "        vertical-align: middle;\n",
       "    }\n",
       "\n",
       "    .dataframe tbody tr th {\n",
       "        vertical-align: top;\n",
       "    }\n",
       "\n",
       "    .dataframe thead th {\n",
       "        text-align: right;\n",
       "    }\n",
       "</style>\n",
       "<table border=\"1\" class=\"dataframe\">\n",
       "  <thead>\n",
       "    <tr style=\"text-align: right;\">\n",
       "      <th></th>\n",
       "      <th>start_date</th>\n",
       "      <th>end_date</th>\n",
       "      <th>prod</th>\n",
       "      <th>region_id</th>\n",
       "    </tr>\n",
       "  </thead>\n",
       "  <tbody>\n",
       "    <tr>\n",
       "      <th>0</th>\n",
       "      <td>2021-01-01T00:00:00.000Z</td>\n",
       "      <td>2021-01-31T00:00:00.000Z</td>\n",
       "      <td>NaN</td>\n",
       "      <td>93</td>\n",
       "    </tr>\n",
       "    <tr>\n",
       "      <th>1</th>\n",
       "      <td>2021-02-01T00:00:00.000Z</td>\n",
       "      <td>2021-02-28T00:00:00.000Z</td>\n",
       "      <td>NaN</td>\n",
       "      <td>93</td>\n",
       "    </tr>\n",
       "    <tr>\n",
       "      <th>2</th>\n",
       "      <td>2021-03-01T00:00:00.000Z</td>\n",
       "      <td>2021-03-31T00:00:00.000Z</td>\n",
       "      <td>NaN</td>\n",
       "      <td>93</td>\n",
       "    </tr>\n",
       "    <tr>\n",
       "      <th>3</th>\n",
       "      <td>2021-04-01T00:00:00.000Z</td>\n",
       "      <td>2021-04-30T00:00:00.000Z</td>\n",
       "      <td>NaN</td>\n",
       "      <td>93</td>\n",
       "    </tr>\n",
       "    <tr>\n",
       "      <th>4</th>\n",
       "      <td>2021-05-01T00:00:00.000Z</td>\n",
       "      <td>2021-05-31T00:00:00.000Z</td>\n",
       "      <td>NaN</td>\n",
       "      <td>93</td>\n",
       "    </tr>\n",
       "  </tbody>\n",
       "</table>\n",
       "</div>"
      ],
      "text/plain": [
       "                 start_date                  end_date  prod  region_id\n",
       "0  2021-01-01T00:00:00.000Z  2021-01-31T00:00:00.000Z   NaN         93\n",
       "1  2021-02-01T00:00:00.000Z  2021-02-28T00:00:00.000Z   NaN         93\n",
       "2  2021-03-01T00:00:00.000Z  2021-03-31T00:00:00.000Z   NaN         93\n",
       "3  2021-04-01T00:00:00.000Z  2021-04-30T00:00:00.000Z   NaN         93\n",
       "4  2021-05-01T00:00:00.000Z  2021-05-31T00:00:00.000Z   NaN         93"
      ]
     },
     "execution_count": 83,
     "metadata": {},
     "output_type": "execute_result"
    }
   ],
   "source": [
    "df_pred_qty.head()\n",
    "# df_pred_qty = df_pred_qty.drop('prod',axis=1)"
   ]
  },
  {
   "cell_type": "code",
   "execution_count": 84,
   "metadata": {
    "colab": {
     "base_uri": "https://localhost:8080/"
    },
    "id": "jwCi3vw8PED6",
    "outputId": "01e099a2-2607-4754-9029-7b0d9d79858a"
   },
   "outputs": [
    {
     "data": {
      "text/plain": [
       "(120, 4)"
      ]
     },
     "execution_count": 84,
     "metadata": {},
     "output_type": "execute_result"
    }
   ],
   "source": [
    "# checking the prediction dataset\n",
    "df_pred_qty.shape"
   ]
  },
  {
   "cell_type": "code",
   "execution_count": 85,
   "metadata": {
    "colab": {
     "base_uri": "https://localhost:8080/",
     "height": 340
    },
    "id": "Re6lkKJJKR2l",
    "outputId": "763f8186-e47d-4e4d-d458-7ea732873f64"
   },
   "outputs": [],
   "source": [
    "# drop the column to be predicted for consistency\n",
    "df_pred_qty = df_pred_qty.drop('prod',axis=1)"
   ]
  },
  {
   "cell_type": "code",
   "execution_count": 86,
   "metadata": {
    "colab": {
     "base_uri": "https://localhost:8080/",
     "height": 206
    },
    "id": "VGUOJTYGPyPD",
    "outputId": "23d9e380-5db9-4cb2-af10-2d7e671e4af4"
   },
   "outputs": [
    {
     "data": {
      "text/html": [
       "<div>\n",
       "<style scoped>\n",
       "    .dataframe tbody tr th:only-of-type {\n",
       "        vertical-align: middle;\n",
       "    }\n",
       "\n",
       "    .dataframe tbody tr th {\n",
       "        vertical-align: top;\n",
       "    }\n",
       "\n",
       "    .dataframe thead th {\n",
       "        text-align: right;\n",
       "    }\n",
       "</style>\n",
       "<table border=\"1\" class=\"dataframe\">\n",
       "  <thead>\n",
       "    <tr style=\"text-align: right;\">\n",
       "      <th></th>\n",
       "      <th>start_date</th>\n",
       "      <th>end_date</th>\n",
       "      <th>region_id</th>\n",
       "    </tr>\n",
       "  </thead>\n",
       "  <tbody>\n",
       "    <tr>\n",
       "      <th>0</th>\n",
       "      <td>2021-01-01T00:00:00.000Z</td>\n",
       "      <td>2021-01-31T00:00:00.000Z</td>\n",
       "      <td>93</td>\n",
       "    </tr>\n",
       "    <tr>\n",
       "      <th>1</th>\n",
       "      <td>2021-02-01T00:00:00.000Z</td>\n",
       "      <td>2021-02-28T00:00:00.000Z</td>\n",
       "      <td>93</td>\n",
       "    </tr>\n",
       "    <tr>\n",
       "      <th>2</th>\n",
       "      <td>2021-03-01T00:00:00.000Z</td>\n",
       "      <td>2021-03-31T00:00:00.000Z</td>\n",
       "      <td>93</td>\n",
       "    </tr>\n",
       "    <tr>\n",
       "      <th>3</th>\n",
       "      <td>2021-04-01T00:00:00.000Z</td>\n",
       "      <td>2021-04-30T00:00:00.000Z</td>\n",
       "      <td>93</td>\n",
       "    </tr>\n",
       "    <tr>\n",
       "      <th>4</th>\n",
       "      <td>2021-05-01T00:00:00.000Z</td>\n",
       "      <td>2021-05-31T00:00:00.000Z</td>\n",
       "      <td>93</td>\n",
       "    </tr>\n",
       "  </tbody>\n",
       "</table>\n",
       "</div>"
      ],
      "text/plain": [
       "                 start_date                  end_date  region_id\n",
       "0  2021-01-01T00:00:00.000Z  2021-01-31T00:00:00.000Z         93\n",
       "1  2021-02-01T00:00:00.000Z  2021-02-28T00:00:00.000Z         93\n",
       "2  2021-03-01T00:00:00.000Z  2021-03-31T00:00:00.000Z         93\n",
       "3  2021-04-01T00:00:00.000Z  2021-04-30T00:00:00.000Z         93\n",
       "4  2021-05-01T00:00:00.000Z  2021-05-31T00:00:00.000Z         93"
      ]
     },
     "execution_count": 86,
     "metadata": {},
     "output_type": "execute_result"
    }
   ],
   "source": [
    "df_pred_qty.head()"
   ]
  },
  {
   "cell_type": "code",
   "execution_count": 87,
   "metadata": {
    "id": "jbmM9yyHP8vs"
   },
   "outputs": [],
   "source": [
    "# making objects to datetime\n",
    "df_pred_qty[ 'start_date' ] = pd.to_datetime(df_pred_qty['start_date'],utc = True)\n",
    "df_pred_qty[ 'end_date' ] = pd.to_datetime(df_pred_qty['end_date'],utc = True)"
   ]
  },
  {
   "cell_type": "markdown",
   "metadata": {
    "id": "b7Vhzt_nRGeF"
   },
   "source": [
    "#Preparing the DATA : merging the features dataset with the dates for which production quantity is to be predicted for  Jan 2021 to Dec 2021."
   ]
  },
  {
   "cell_type": "code",
   "execution_count": 88,
   "metadata": {
    "id": "ix9lHx9EP2WF"
   },
   "outputs": [],
   "source": [
    "# merging the features dataset with the dates for which production quantity is to be predicted. \n",
    "df_compute = pd.merge(df_pred_qty,soil_preci_temp_ndvi_df,how='left',on=[\"start_date\",'end_date',\"region_id\"])"
   ]
  },
  {
   "cell_type": "code",
   "execution_count": 89,
   "metadata": {
    "colab": {
     "base_uri": "https://localhost:8080/"
    },
    "id": "JPa6DPY2P2Sk",
    "outputId": "66fb3a09-cf26-4c7f-9fff-e117c7284483"
   },
   "outputs": [
    {
     "data": {
      "text/plain": [
       "(120, 7)"
      ]
     },
     "execution_count": 89,
     "metadata": {},
     "output_type": "execute_result"
    }
   ],
   "source": [
    "df_compute.shape"
   ]
  },
  {
   "cell_type": "code",
   "execution_count": 90,
   "metadata": {
    "colab": {
     "base_uri": "https://localhost:8080/"
    },
    "id": "Wh0gfVy8SXRI",
    "outputId": "52addbd8-869a-49c9-c77d-ec6acecaa59f"
   },
   "outputs": [
    {
     "data": {
      "text/plain": [
       "start_date    0\n",
       "end_date      0\n",
       "region_id     0\n",
       "ndvi          0\n",
       "smos          0\n",
       "precip        0\n",
       "temp          0\n",
       "dtype: int64"
      ]
     },
     "execution_count": 90,
     "metadata": {},
     "output_type": "execute_result"
    }
   ],
   "source": [
    "df_compute.isnull().sum()"
   ]
  },
  {
   "cell_type": "markdown",
   "metadata": {
    "id": "8_M7nTMyR9o0"
   },
   "source": [
    "# the below dataset starts from Jan 2021 to Dec 2021"
   ]
  },
  {
   "cell_type": "code",
   "execution_count": 91,
   "metadata": {
    "colab": {
     "base_uri": "https://localhost:8080/",
     "height": 206
    },
    "id": "V63sCt2vP2LN",
    "outputId": "daf0939b-d81b-4877-a781-f33390543f12"
   },
   "outputs": [
    {
     "data": {
      "text/html": [
       "<div>\n",
       "<style scoped>\n",
       "    .dataframe tbody tr th:only-of-type {\n",
       "        vertical-align: middle;\n",
       "    }\n",
       "\n",
       "    .dataframe tbody tr th {\n",
       "        vertical-align: top;\n",
       "    }\n",
       "\n",
       "    .dataframe thead th {\n",
       "        text-align: right;\n",
       "    }\n",
       "</style>\n",
       "<table border=\"1\" class=\"dataframe\">\n",
       "  <thead>\n",
       "    <tr style=\"text-align: right;\">\n",
       "      <th></th>\n",
       "      <th>start_date</th>\n",
       "      <th>end_date</th>\n",
       "      <th>region_id</th>\n",
       "      <th>ndvi</th>\n",
       "      <th>smos</th>\n",
       "      <th>precip</th>\n",
       "      <th>temp</th>\n",
       "    </tr>\n",
       "  </thead>\n",
       "  <tbody>\n",
       "    <tr>\n",
       "      <th>0</th>\n",
       "      <td>2021-01-01 00:00:00+00:00</td>\n",
       "      <td>2021-01-31 00:00:00+00:00</td>\n",
       "      <td>93</td>\n",
       "      <td>0.812302</td>\n",
       "      <td>0.430121</td>\n",
       "      <td>15.395451</td>\n",
       "      <td>25.093076</td>\n",
       "    </tr>\n",
       "    <tr>\n",
       "      <th>1</th>\n",
       "      <td>2021-02-01 00:00:00+00:00</td>\n",
       "      <td>2021-02-28 00:00:00+00:00</td>\n",
       "      <td>93</td>\n",
       "      <td>0.776728</td>\n",
       "      <td>0.376494</td>\n",
       "      <td>0.478108</td>\n",
       "      <td>26.897011</td>\n",
       "    </tr>\n",
       "    <tr>\n",
       "      <th>2</th>\n",
       "      <td>2021-03-01 00:00:00+00:00</td>\n",
       "      <td>2021-03-31 00:00:00+00:00</td>\n",
       "      <td>93</td>\n",
       "      <td>0.777363</td>\n",
       "      <td>0.321724</td>\n",
       "      <td>6.838074</td>\n",
       "      <td>28.251589</td>\n",
       "    </tr>\n",
       "    <tr>\n",
       "      <th>3</th>\n",
       "      <td>2021-04-01 00:00:00+00:00</td>\n",
       "      <td>2021-04-30 00:00:00+00:00</td>\n",
       "      <td>93</td>\n",
       "      <td>0.812857</td>\n",
       "      <td>0.372365</td>\n",
       "      <td>8.185650</td>\n",
       "      <td>27.924892</td>\n",
       "    </tr>\n",
       "    <tr>\n",
       "      <th>4</th>\n",
       "      <td>2021-05-01 00:00:00+00:00</td>\n",
       "      <td>2021-05-31 00:00:00+00:00</td>\n",
       "      <td>93</td>\n",
       "      <td>0.819549</td>\n",
       "      <td>0.350557</td>\n",
       "      <td>8.845651</td>\n",
       "      <td>26.930918</td>\n",
       "    </tr>\n",
       "  </tbody>\n",
       "</table>\n",
       "</div>"
      ],
      "text/plain": [
       "                 start_date                  end_date  region_id      ndvi  \\\n",
       "0 2021-01-01 00:00:00+00:00 2021-01-31 00:00:00+00:00         93  0.812302   \n",
       "1 2021-02-01 00:00:00+00:00 2021-02-28 00:00:00+00:00         93  0.776728   \n",
       "2 2021-03-01 00:00:00+00:00 2021-03-31 00:00:00+00:00         93  0.777363   \n",
       "3 2021-04-01 00:00:00+00:00 2021-04-30 00:00:00+00:00         93  0.812857   \n",
       "4 2021-05-01 00:00:00+00:00 2021-05-31 00:00:00+00:00         93  0.819549   \n",
       "\n",
       "       smos     precip       temp  \n",
       "0  0.430121  15.395451  25.093076  \n",
       "1  0.376494   0.478108  26.897011  \n",
       "2  0.321724   6.838074  28.251589  \n",
       "3  0.372365   8.185650  27.924892  \n",
       "4  0.350557   8.845651  26.930918  "
      ]
     },
     "execution_count": 91,
     "metadata": {},
     "output_type": "execute_result"
    }
   ],
   "source": [
    "df_compute.head()"
   ]
  },
  {
   "cell_type": "code",
   "execution_count": 92,
   "metadata": {
    "colab": {
     "base_uri": "https://localhost:8080/",
     "height": 206
    },
    "id": "AWBshQGKSJSx",
    "outputId": "0737cd12-bee0-460f-ebac-93f843f48ebc"
   },
   "outputs": [
    {
     "data": {
      "text/html": [
       "<div>\n",
       "<style scoped>\n",
       "    .dataframe tbody tr th:only-of-type {\n",
       "        vertical-align: middle;\n",
       "    }\n",
       "\n",
       "    .dataframe tbody tr th {\n",
       "        vertical-align: top;\n",
       "    }\n",
       "\n",
       "    .dataframe thead th {\n",
       "        text-align: right;\n",
       "    }\n",
       "</style>\n",
       "<table border=\"1\" class=\"dataframe\">\n",
       "  <thead>\n",
       "    <tr style=\"text-align: right;\">\n",
       "      <th></th>\n",
       "      <th>start_date</th>\n",
       "      <th>end_date</th>\n",
       "      <th>region_id</th>\n",
       "      <th>ndvi</th>\n",
       "      <th>smos</th>\n",
       "      <th>precip</th>\n",
       "      <th>temp</th>\n",
       "    </tr>\n",
       "  </thead>\n",
       "  <tbody>\n",
       "    <tr>\n",
       "      <th>115</th>\n",
       "      <td>2021-08-01 00:00:00+00:00</td>\n",
       "      <td>2021-08-31 00:00:00+00:00</td>\n",
       "      <td>105</td>\n",
       "      <td>0.811397</td>\n",
       "      <td>0.267808</td>\n",
       "      <td>7.829626</td>\n",
       "      <td>26.764261</td>\n",
       "    </tr>\n",
       "    <tr>\n",
       "      <th>116</th>\n",
       "      <td>2021-09-01 00:00:00+00:00</td>\n",
       "      <td>2021-09-30 00:00:00+00:00</td>\n",
       "      <td>105</td>\n",
       "      <td>0.820656</td>\n",
       "      <td>0.251307</td>\n",
       "      <td>8.859617</td>\n",
       "      <td>26.673888</td>\n",
       "    </tr>\n",
       "    <tr>\n",
       "      <th>117</th>\n",
       "      <td>2021-10-01 00:00:00+00:00</td>\n",
       "      <td>2021-10-31 00:00:00+00:00</td>\n",
       "      <td>105</td>\n",
       "      <td>0.804708</td>\n",
       "      <td>0.277053</td>\n",
       "      <td>7.305735</td>\n",
       "      <td>26.967615</td>\n",
       "    </tr>\n",
       "    <tr>\n",
       "      <th>118</th>\n",
       "      <td>2021-11-01 00:00:00+00:00</td>\n",
       "      <td>2021-11-30 00:00:00+00:00</td>\n",
       "      <td>105</td>\n",
       "      <td>0.798444</td>\n",
       "      <td>0.397742</td>\n",
       "      <td>16.057218</td>\n",
       "      <td>25.322988</td>\n",
       "    </tr>\n",
       "    <tr>\n",
       "      <th>119</th>\n",
       "      <td>2021-12-01 00:00:00+00:00</td>\n",
       "      <td>2021-12-31 00:00:00+00:00</td>\n",
       "      <td>105</td>\n",
       "      <td>0.811967</td>\n",
       "      <td>0.431531</td>\n",
       "      <td>14.479881</td>\n",
       "      <td>24.857478</td>\n",
       "    </tr>\n",
       "  </tbody>\n",
       "</table>\n",
       "</div>"
      ],
      "text/plain": [
       "                   start_date                  end_date  region_id      ndvi  \\\n",
       "115 2021-08-01 00:00:00+00:00 2021-08-31 00:00:00+00:00        105  0.811397   \n",
       "116 2021-09-01 00:00:00+00:00 2021-09-30 00:00:00+00:00        105  0.820656   \n",
       "117 2021-10-01 00:00:00+00:00 2021-10-31 00:00:00+00:00        105  0.804708   \n",
       "118 2021-11-01 00:00:00+00:00 2021-11-30 00:00:00+00:00        105  0.798444   \n",
       "119 2021-12-01 00:00:00+00:00 2021-12-31 00:00:00+00:00        105  0.811967   \n",
       "\n",
       "         smos     precip       temp  \n",
       "115  0.267808   7.829626  26.764261  \n",
       "116  0.251307   8.859617  26.673888  \n",
       "117  0.277053   7.305735  26.967615  \n",
       "118  0.397742  16.057218  25.322988  \n",
       "119  0.431531  14.479881  24.857478  "
      ]
     },
     "execution_count": 92,
     "metadata": {},
     "output_type": "execute_result"
    }
   ],
   "source": [
    "df_compute.tail()"
   ]
  },
  {
   "cell_type": "markdown",
   "metadata": {
    "id": "4GzqftEESMER"
   },
   "source": [
    "The above head() and tail() shows that the data is aligned to dates we want to predict."
   ]
  },
  {
   "cell_type": "code",
   "execution_count": 93,
   "metadata": {
    "id": "pIeRkJdSP2Iy"
   },
   "outputs": [],
   "source": [
    "df_compute[['end_date','start_date']] = df_compute[['end_date','start_date']].apply(pd.to_datetime) #if conversion required\n",
    "df_compute['days'] = (df_compute['end_date'] - df_compute['start_date']).dt.days # feature days\n"
   ]
  },
  {
   "cell_type": "code",
   "execution_count": 94,
   "metadata": {
    "colab": {
     "base_uri": "https://localhost:8080/",
     "height": 206
    },
    "id": "0NYZoDJNSiyX",
    "outputId": "c2eec5c8-6c6c-46c2-d38b-a268f14a9162"
   },
   "outputs": [
    {
     "data": {
      "text/html": [
       "<div>\n",
       "<style scoped>\n",
       "    .dataframe tbody tr th:only-of-type {\n",
       "        vertical-align: middle;\n",
       "    }\n",
       "\n",
       "    .dataframe tbody tr th {\n",
       "        vertical-align: top;\n",
       "    }\n",
       "\n",
       "    .dataframe thead th {\n",
       "        text-align: right;\n",
       "    }\n",
       "</style>\n",
       "<table border=\"1\" class=\"dataframe\">\n",
       "  <thead>\n",
       "    <tr style=\"text-align: right;\">\n",
       "      <th></th>\n",
       "      <th>start_date</th>\n",
       "      <th>end_date</th>\n",
       "      <th>region_id</th>\n",
       "      <th>ndvi</th>\n",
       "      <th>smos</th>\n",
       "      <th>precip</th>\n",
       "      <th>temp</th>\n",
       "      <th>days</th>\n",
       "    </tr>\n",
       "  </thead>\n",
       "  <tbody>\n",
       "    <tr>\n",
       "      <th>0</th>\n",
       "      <td>2021-01-01 00:00:00+00:00</td>\n",
       "      <td>2021-01-31 00:00:00+00:00</td>\n",
       "      <td>93</td>\n",
       "      <td>0.812302</td>\n",
       "      <td>0.430121</td>\n",
       "      <td>15.395451</td>\n",
       "      <td>25.093076</td>\n",
       "      <td>30</td>\n",
       "    </tr>\n",
       "    <tr>\n",
       "      <th>1</th>\n",
       "      <td>2021-02-01 00:00:00+00:00</td>\n",
       "      <td>2021-02-28 00:00:00+00:00</td>\n",
       "      <td>93</td>\n",
       "      <td>0.776728</td>\n",
       "      <td>0.376494</td>\n",
       "      <td>0.478108</td>\n",
       "      <td>26.897011</td>\n",
       "      <td>27</td>\n",
       "    </tr>\n",
       "    <tr>\n",
       "      <th>2</th>\n",
       "      <td>2021-03-01 00:00:00+00:00</td>\n",
       "      <td>2021-03-31 00:00:00+00:00</td>\n",
       "      <td>93</td>\n",
       "      <td>0.777363</td>\n",
       "      <td>0.321724</td>\n",
       "      <td>6.838074</td>\n",
       "      <td>28.251589</td>\n",
       "      <td>30</td>\n",
       "    </tr>\n",
       "    <tr>\n",
       "      <th>3</th>\n",
       "      <td>2021-04-01 00:00:00+00:00</td>\n",
       "      <td>2021-04-30 00:00:00+00:00</td>\n",
       "      <td>93</td>\n",
       "      <td>0.812857</td>\n",
       "      <td>0.372365</td>\n",
       "      <td>8.185650</td>\n",
       "      <td>27.924892</td>\n",
       "      <td>29</td>\n",
       "    </tr>\n",
       "    <tr>\n",
       "      <th>4</th>\n",
       "      <td>2021-05-01 00:00:00+00:00</td>\n",
       "      <td>2021-05-31 00:00:00+00:00</td>\n",
       "      <td>93</td>\n",
       "      <td>0.819549</td>\n",
       "      <td>0.350557</td>\n",
       "      <td>8.845651</td>\n",
       "      <td>26.930918</td>\n",
       "      <td>30</td>\n",
       "    </tr>\n",
       "  </tbody>\n",
       "</table>\n",
       "</div>"
      ],
      "text/plain": [
       "                 start_date                  end_date  region_id      ndvi  \\\n",
       "0 2021-01-01 00:00:00+00:00 2021-01-31 00:00:00+00:00         93  0.812302   \n",
       "1 2021-02-01 00:00:00+00:00 2021-02-28 00:00:00+00:00         93  0.776728   \n",
       "2 2021-03-01 00:00:00+00:00 2021-03-31 00:00:00+00:00         93  0.777363   \n",
       "3 2021-04-01 00:00:00+00:00 2021-04-30 00:00:00+00:00         93  0.812857   \n",
       "4 2021-05-01 00:00:00+00:00 2021-05-31 00:00:00+00:00         93  0.819549   \n",
       "\n",
       "       smos     precip       temp  days  \n",
       "0  0.430121  15.395451  25.093076    30  \n",
       "1  0.376494   0.478108  26.897011    27  \n",
       "2  0.321724   6.838074  28.251589    30  \n",
       "3  0.372365   8.185650  27.924892    29  \n",
       "4  0.350557   8.845651  26.930918    30  "
      ]
     },
     "execution_count": 94,
     "metadata": {},
     "output_type": "execute_result"
    }
   ],
   "source": [
    "df_compute.head()"
   ]
  },
  {
   "cell_type": "code",
   "execution_count": 95,
   "metadata": {
    "id": "PFXryjIjP2B1"
   },
   "outputs": [],
   "source": [
    "df_compute = df_compute.drop(columns=['start_date','end_date'])"
   ]
  },
  {
   "cell_type": "markdown",
   "metadata": {
    "id": "OhgfpCjDRkKT"
   },
   "source": [
    " # final data to be given to prediction model "
   ]
  },
  {
   "cell_type": "code",
   "execution_count": 96,
   "metadata": {
    "colab": {
     "base_uri": "https://localhost:8080/",
     "height": 206
    },
    "id": "74hfJPGjP1-c",
    "outputId": "b6b4a232-3b08-45f2-9dc3-f5ea10db4877"
   },
   "outputs": [
    {
     "data": {
      "text/html": [
       "<div>\n",
       "<style scoped>\n",
       "    .dataframe tbody tr th:only-of-type {\n",
       "        vertical-align: middle;\n",
       "    }\n",
       "\n",
       "    .dataframe tbody tr th {\n",
       "        vertical-align: top;\n",
       "    }\n",
       "\n",
       "    .dataframe thead th {\n",
       "        text-align: right;\n",
       "    }\n",
       "</style>\n",
       "<table border=\"1\" class=\"dataframe\">\n",
       "  <thead>\n",
       "    <tr style=\"text-align: right;\">\n",
       "      <th></th>\n",
       "      <th>region_id</th>\n",
       "      <th>ndvi</th>\n",
       "      <th>smos</th>\n",
       "      <th>precip</th>\n",
       "      <th>temp</th>\n",
       "      <th>days</th>\n",
       "    </tr>\n",
       "  </thead>\n",
       "  <tbody>\n",
       "    <tr>\n",
       "      <th>0</th>\n",
       "      <td>93</td>\n",
       "      <td>0.812302</td>\n",
       "      <td>0.430121</td>\n",
       "      <td>15.395451</td>\n",
       "      <td>25.093076</td>\n",
       "      <td>30</td>\n",
       "    </tr>\n",
       "    <tr>\n",
       "      <th>1</th>\n",
       "      <td>93</td>\n",
       "      <td>0.776728</td>\n",
       "      <td>0.376494</td>\n",
       "      <td>0.478108</td>\n",
       "      <td>26.897011</td>\n",
       "      <td>27</td>\n",
       "    </tr>\n",
       "    <tr>\n",
       "      <th>2</th>\n",
       "      <td>93</td>\n",
       "      <td>0.777363</td>\n",
       "      <td>0.321724</td>\n",
       "      <td>6.838074</td>\n",
       "      <td>28.251589</td>\n",
       "      <td>30</td>\n",
       "    </tr>\n",
       "    <tr>\n",
       "      <th>3</th>\n",
       "      <td>93</td>\n",
       "      <td>0.812857</td>\n",
       "      <td>0.372365</td>\n",
       "      <td>8.185650</td>\n",
       "      <td>27.924892</td>\n",
       "      <td>29</td>\n",
       "    </tr>\n",
       "    <tr>\n",
       "      <th>4</th>\n",
       "      <td>93</td>\n",
       "      <td>0.819549</td>\n",
       "      <td>0.350557</td>\n",
       "      <td>8.845651</td>\n",
       "      <td>26.930918</td>\n",
       "      <td>30</td>\n",
       "    </tr>\n",
       "  </tbody>\n",
       "</table>\n",
       "</div>"
      ],
      "text/plain": [
       "   region_id      ndvi      smos     precip       temp  days\n",
       "0         93  0.812302  0.430121  15.395451  25.093076    30\n",
       "1         93  0.776728  0.376494   0.478108  26.897011    27\n",
       "2         93  0.777363  0.321724   6.838074  28.251589    30\n",
       "3         93  0.812857  0.372365   8.185650  27.924892    29\n",
       "4         93  0.819549  0.350557   8.845651  26.930918    30"
      ]
     },
     "execution_count": 96,
     "metadata": {},
     "output_type": "execute_result"
    }
   ],
   "source": [
    "# final data to be given to model \n",
    "df_compute.head()\n"
   ]
  },
  {
   "cell_type": "code",
   "execution_count": 97,
   "metadata": {
    "id": "anm1xaeyS65U"
   },
   "outputs": [],
   "source": [
    "# NEW TEST data\n",
    "X_test_new = df_compute"
   ]
  },
  {
   "cell_type": "markdown",
   "metadata": {
    "id": "6kiDCCokRtU6"
   },
   "source": [
    "# Required Predictions from the trained model are as below"
   ]
  },
  {
   "cell_type": "code",
   "execution_count": 98,
   "metadata": {
    "id": "PtICv3kxSzbj"
   },
   "outputs": [],
   "source": [
    "# get predictions from trained model\n",
    "y_pred_new = rfr.predict(X_test_new)"
   ]
  },
  {
   "cell_type": "code",
   "execution_count": 99,
   "metadata": {
    "colab": {
     "base_uri": "https://localhost:8080/"
    },
    "id": "IBbDBZmPSzY4",
    "outputId": "b950572a-1f36-407e-be95-bf04a9cb6baa"
   },
   "outputs": [
    {
     "name": "stdout",
     "output_type": "stream",
     "text": [
      "***********************Required Predictions from the trained model  for  Jan 2021 to Dec 2021***********************\n"
     ]
    },
    {
     "data": {
      "text/plain": [
       "array([228959.15, 189647.52, 258154.12, 298261.71, 246368.56, 234848.94,\n",
       "       225103.72, 232260.61, 286346.47, 297723.24, 284355.42, 229407.1 ,\n",
       "        21665.86,  20329.  ,  26072.96,  25672.21,  21527.24,  20348.75,\n",
       "        33193.87,  25150.66,  22892.45,  20532.78,  17228.49,  18576.74,\n",
       "        22375.22,  16719.19,  31498.47,  31249.07,  28811.47,  26654.4 ,\n",
       "        32830.88,  26983.87,  30853.69,  26350.05,  23271.58,  19736.21,\n",
       "        51631.73,  40652.67,  49945.33,  50966.79, 167922.05, 118048.12,\n",
       "        83757.71,  69395.18,  54396.7 ,  54435.64,  65940.29,  54772.34,\n",
       "       211546.27, 171846.44, 225687.97, 271929.37, 277076.79, 258509.83,\n",
       "       273592.78, 260203.45, 269164.82, 252782.42, 210855.23, 201597.26,\n",
       "       140583.74, 141043.2 , 159001.42, 180254.97, 172923.59, 200375.1 ,\n",
       "       205828.62, 145606.32, 153442.2 , 161228.47, 144871.56, 138804.6 ,\n",
       "       382243.24, 351872.88, 447452.68, 434867.26, 431840.1 , 425995.69,\n",
       "       406404.92, 422767.62, 423874.58, 446510.37, 429092.82, 383842.77,\n",
       "       295445.71, 304163.12, 316495.12, 354686.42, 377774.56, 350922.42,\n",
       "       359169.06, 365841.17, 324166.01, 363566.57, 324853.54, 337894.41,\n",
       "        44870.77,  35100.12,  43297.28,  42086.74,  52902.93,  38880.74,\n",
       "        42086.63,  39412.32,  37421.37,  43062.37,  39130.22,  39012.27,\n",
       "        32544.33,  31270.68,  50613.29,  48676.07,  81061.83,  49556.06,\n",
       "        51765.22,  50138.11,  45967.71,  49353.58,  41654.84,  42079.41])"
      ]
     },
     "execution_count": 99,
     "metadata": {},
     "output_type": "execute_result"
    }
   ],
   "source": [
    "print(\"***********************Required Predictions from the trained model  for  Jan 2021 to Dec 2021***********************\")\n",
    "y_pred_new"
   ]
  },
  {
   "cell_type": "code",
   "execution_count": null,
   "metadata": {
    "id": "a1B-2do2SzWb"
   },
   "outputs": [],
   "source": []
  },
  {
   "cell_type": "code",
   "execution_count": null,
   "metadata": {
    "id": "KrTlBCAdSzUt"
   },
   "outputs": [],
   "source": []
  },
  {
   "cell_type": "code",
   "execution_count": null,
   "metadata": {
    "id": "TzbVUPtjSzRf"
   },
   "outputs": [],
   "source": []
  },
  {
   "cell_type": "code",
   "execution_count": null,
   "metadata": {
    "id": "Z1YiNX5qSzO4"
   },
   "outputs": [],
   "source": []
  },
  {
   "cell_type": "code",
   "execution_count": null,
   "metadata": {
    "id": "11jcDznJSzM0"
   },
   "outputs": [],
   "source": []
  },
  {
   "cell_type": "code",
   "execution_count": null,
   "metadata": {
    "id": "eUDv0i3sSzKN"
   },
   "outputs": [],
   "source": []
  },
  {
   "cell_type": "code",
   "execution_count": null,
   "metadata": {
    "id": "hRtb3BKXSzH1"
   },
   "outputs": [],
   "source": []
  },
  {
   "cell_type": "code",
   "execution_count": null,
   "metadata": {
    "id": "RO6LxQNeSzFw"
   },
   "outputs": [],
   "source": []
  },
  {
   "cell_type": "code",
   "execution_count": null,
   "metadata": {
    "id": "yXUK1SUgSzDL"
   },
   "outputs": [],
   "source": []
  },
  {
   "cell_type": "code",
   "execution_count": null,
   "metadata": {
    "id": "TIMnKnDJSzAx"
   },
   "outputs": [],
   "source": []
  },
  {
   "cell_type": "code",
   "execution_count": null,
   "metadata": {
    "id": "C7lt4Bk8Sy-S"
   },
   "outputs": [],
   "source": []
  }
 ],
 "metadata": {
  "colab": {
   "collapsed_sections": [],
   "name": "GRO_Intelligence_Assesment.ipynb",
   "provenance": []
  },
  "kernelspec": {
   "display_name": "Python 3 (ipykernel)",
   "language": "python",
   "name": "python3"
  },
  "language_info": {
   "codemirror_mode": {
    "name": "ipython",
    "version": 3
   },
   "file_extension": ".py",
   "mimetype": "text/x-python",
   "name": "python",
   "nbconvert_exporter": "python",
   "pygments_lexer": "ipython3",
   "version": "3.7.11"
  }
 },
 "nbformat": 4,
 "nbformat_minor": 1
}
